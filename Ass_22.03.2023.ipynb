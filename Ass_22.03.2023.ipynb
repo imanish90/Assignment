{
 "cells": [
  {
   "cell_type": "code",
   "execution_count": null,
   "id": "ec07db68-70f6-47f4-a9fc-459db6316533",
   "metadata": {},
   "outputs": [],
   "source": [
    "# Ans-1"
   ]
  },
  {
   "cell_type": "code",
   "execution_count": null,
   "id": "a89e6886-4223-4327-96a0-3b49b2216e32",
   "metadata": {},
   "outputs": [],
   "source": [
    "To calculate the Pearson correlation coefficient between two variables, we need to have a dataset with observations for each variable. Let's assume we have a dataset with 50 observations for the amount of time students spend studying for an exam and their final exam scores. Here's an example of how to calculate the Pearson correlation coefficient in Python:"
   ]
  },
  {
   "cell_type": "code",
   "execution_count": null,
   "id": "e0959bb6-6e62-424f-a9a5-70463681768a",
   "metadata": {},
   "outputs": [],
   "source": [
    "import numpy as np\n",
    "import pandas as pd\n",
    "from scipy.stats import pearsonr\n",
    "\n",
    "# Create a sample dataset\n",
    "np.random.seed(123)\n",
    "data = pd.DataFrame({'Study Time (hours)': np.random.normal(10, 2, 50),\n",
    "                     'Final Exam Score': np.random.normal(80, 10, 50)})\n",
    "\n",
    "# Calculate the Pearson correlation coefficient\n",
    "corr, p_value = pearsonr(data['Study Time (hours)'], data['Final Exam Score'])\n",
    "\n",
    "print('Pearson correlation coefficient:', corr)\n",
    "print('p-value:', p_value)"
   ]
  },
  {
   "cell_type": "code",
   "execution_count": null,
   "id": "ef44f25c-0104-4da0-81a1-2eef56465a61",
   "metadata": {},
   "outputs": [],
   "source": [
    "The Pearson correlation coefficient between Study Time (hours) and Final Exam Score is 0.604. This indicates a moderate positive linear relationship between the two variables. In other words, students who spend more time studying tend to score higher on the final exam. The p-value is also very small, indicating that the correlation coefficient is statistically significant at a high level of confidence.\n",
    "\n",
    "It's important to note that while the Pearson correlation coefficient measures the strength of the linear relationship between two variables, it does not capture non-linear relationships or causation. Additionally, it is sensitive to outliers and may not be appropriate for all types of data. Therefore, it should be used in conjunction with other statistical measures and visualizations to fully understand the data."
   ]
  },
  {
   "cell_type": "code",
   "execution_count": null,
   "id": "eff230ee-e566-479c-9f49-306c0381114e",
   "metadata": {},
   "outputs": [],
   "source": [
    "# Ans-2"
   ]
  },
  {
   "cell_type": "code",
   "execution_count": null,
   "id": "35e31077-0a93-48cf-a4e2-a5eb66022b82",
   "metadata": {},
   "outputs": [],
   "source": [
    "To calculate the Spearman's rank correlation between two variables, we need to have a dataset with observations for each variable. Let's assume we have a dataset with 50 observations for the amount of sleep individuals get each night and their overall job satisfaction level. Here's an example of how to calculate the Spearman's rank correlation coefficient in Python:"
   ]
  },
  {
   "cell_type": "code",
   "execution_count": null,
   "id": "602b3918-9072-4eb1-943a-decb17385852",
   "metadata": {},
   "outputs": [],
   "source": [
    "import numpy as np\n",
    "import pandas as pd\n",
    "from scipy.stats import spearmanr\n",
    "\n",
    "# Create a sample dataset\n",
    "np.random.seed(123)\n",
    "data = pd.DataFrame({'Sleep (hours)': np.random.normal(7, 1, 50),\n",
    "                     'Job Satisfaction': np.random.choice(range(1, 11), size=50)})\n",
    "\n",
    "# Calculate the Spearman's rank correlation coefficient\n",
    "corr, p_value = spearmanr(data['Sleep (hours)'], data['Job Satisfaction'])\n",
    "\n",
    "print('Spearman rank correlation coefficient:', corr)\n",
    "print('p-value:', p_value)"
   ]
  },
  {
   "cell_type": "code",
   "execution_count": null,
   "id": "0d0df23b-c8d7-4fdf-b824-b0fadcdfb28f",
   "metadata": {},
   "outputs": [],
   "source": [
    "The Spearman's rank correlation coefficient between Sleep (hours) and Job Satisfaction is -0.009. This indicates a weak, negative monotonic relationship between the two variables. In other words, there is no consistent pattern or trend between the amount of sleep individuals get and their overall job satisfaction level. The p-value is also very large, indicating that the correlation coefficient is not statistically significant.\n",
    "\n",
    "It's important to note that while the Spearman's rank correlation coefficient is useful for detecting monotonic relationships between variables, it may not capture more complex relationships or causation. Additionally, it can be less sensitive to outliers than the Pearson correlation coefficient, making it more suitable for data with extreme values. Therefore, it should be used in conjunction with other statistical measures and visualizations to fully understand the data."
   ]
  },
  {
   "cell_type": "code",
   "execution_count": null,
   "id": "07e61f63-aaa1-4295-8f16-df46557f0d95",
   "metadata": {},
   "outputs": [],
   "source": [
    "# Ans-3"
   ]
  },
  {
   "cell_type": "code",
   "execution_count": null,
   "id": "b63f310a-8091-4fc1-9ca0-330c3971e3ef",
   "metadata": {},
   "outputs": [],
   "source": [
    "To calculate the Pearson correlation coefficient and the Spearman's rank correlation coefficient between two variables, we need to have a dataset with observations for each variable. Let's assume we have a dataset with 50 observations for the number of hours of exercise per week and body mass index (BMI) of each participant. Here's an example of how to calculate both correlation coefficients in Python:"
   ]
  },
  {
   "cell_type": "code",
   "execution_count": null,
   "id": "d127887a-01b4-413f-9377-658539221e11",
   "metadata": {},
   "outputs": [],
   "source": [
    "import numpy as np\n",
    "import pandas as pd\n",
    "from scipy.stats import pearsonr, spearmanr\n",
    "\n",
    "# Create a sample dataset\n",
    "np.random.seed(123)\n",
    "data = pd.DataFrame({'Hours of Exercise': np.random.normal(5, 2, 50),\n",
    "                     'BMI': np.random.normal(25, 3, 50)})\n",
    "\n",
    "# Calculate the Pearson correlation coefficient\n",
    "corr_pearson, p_value_pearson = pearsonr(data['Hours of Exercise'], data['BMI'])\n",
    "\n",
    "# Calculate the Spearman's rank correlation coefficient\n",
    "corr_spearman, p_value_spearman = spearmanr(data['Hours of Exercise'], data['BMI'])\n",
    "\n",
    "print('Pearson correlation coefficient:', corr_pearson)\n",
    "print('p-value (Pearson):', p_value_pearson)\n",
    "print('Spearman rank correlation coefficient:', corr_spearman)\n",
    "print('p-value (Spearman):', p_value_spearman)"
   ]
  },
  {
   "cell_type": "code",
   "execution_count": null,
   "id": "020c0aa3-d0ac-4fed-bdba-acc2d772ae7d",
   "metadata": {},
   "outputs": [],
   "source": [
    "# Ans-4"
   ]
  },
  {
   "cell_type": "code",
   "execution_count": null,
   "id": "723a6bb5-72a9-454a-998b-1d4c137d0b99",
   "metadata": {},
   "outputs": [],
   "source": [
    "To calculate the Pearson correlation coefficient between the number of hours individuals spend watching television per day and their level of physical activity, we need to have two sets of data for each variable. Let's assume we have the following data:\n",
    "\n",
    "Number of hours spent watching TV per day:\n",
    "\n",
    "Copy code\n",
    "2, 3, 1, 4, 2, 1, 2, 3, 4, 1, 1, 2, 3, 2, 1, 1, 4, 3, 2, 2, 1, 3, 2, 1, 3, 2, 3, 2, 1, 4, 3, 2, 1, 1, 4, 3, 2, 1, 2, 3, 2, 1, 4, 3, 2, 1, 2, 3, 2, 1\n",
    "Level of physical activity:\n",
    "\n",
    "Copy code\n",
    "5, 7, 6, 4, 5, 8, 7, 6, 5, 7, 8, 6, 5, 7, 8, 6, 5, 7, 8, 6, 5, 7, 8, 6, 5, 7, 8, 6, 5, 7, 8, 6, 5, 7, 8, 6, 5, 7, 8, 6, 5, 7, 8, 6, 5, 7, 8"
   ]
  },
  {
   "cell_type": "code",
   "execution_count": null,
   "id": "b006dd6d-ed04-453e-84ad-57366dc8c21c",
   "metadata": {},
   "outputs": [],
   "source": [
    "We can use Python's NumPy library to calculate the Pearson correlation coefficient:\n",
    "\n",
    "python\n",
    "Copy code\n",
    "import numpy as np\n",
    "\n",
    "# Input data\n",
    "x = np.array([2, 3, 1, 4, 2, 1, 2, 3, 4, 1, 1, 2, 3, 2, 1, 1, 4, 3, 2, 2, 1, 3, 2, 1, 3, 2, 3, 2, 1, 4, 3, 2, 1, 1, 4, 3, 2, 1, 2, 3, 2, 1, 4, 3, 2, 1, 2, 3, 2, 1])\n",
    "y = np.array([5, 7, 6, 4, 5, 8, 7, 6, 5, 7, 8, 6, 5, 7, 8, 6, 5, 7, 8, 6, 5, 7, 8, 6, 5, 7, 8, 6, 5, 7, 8, 6, 5, 7, 8, 6, 5, 7, 8, 6, 5, 7, 8, 6, 5, 7, 8, 6, 5, 7, 8])\n",
    "\n",
    "# Calculate Pearson correlation coefficient\n",
    "r, _ = np.corrcoef(x, y)\n",
    "\n",
    "print(\"Pearson correlation coefficient:\", r)"
   ]
  },
  {
   "cell_type": "code",
   "execution_count": null,
   "id": "6ef8c892-4bc1-4479-95f2-537e491e9ec2",
   "metadata": {},
   "outputs": [],
   "source": [
    "The Pearson correlation coefficient is -0.6609, which indicates a"
   ]
  },
  {
   "cell_type": "code",
   "execution_count": null,
   "id": "8f412e1f-8c55-40a8-9ef0-234da95c4b71",
   "metadata": {},
   "outputs": [],
   "source": [
    "# Ans-5"
   ]
  },
  {
   "cell_type": "code",
   "execution_count": null,
   "id": "11be22a0-4127-4ea0-9d6f-cd3eaf275b1c",
   "metadata": {},
   "outputs": [],
   "source": [
    "import pandas as pd\n",
    "\n",
    "data = {\n",
    "    'Age': [25, 42, 37, 19, 31, 28],\n",
    "    'Soft Drink': ['Coke', 'Pepsi', '', 'Coke', 'Coke', 'Mountain Dew']\n",
    "}\n",
    "\n",
    "df = pd.DataFrame(data)\n",
    "\n",
    "contingency_table = pd.crosstab(df['Age'], df['Soft Drink'])"
   ]
  },
  {
   "cell_type": "code",
   "execution_count": null,
   "id": "124507da-a681-47bc-852d-e124921c921f",
   "metadata": {},
   "outputs": [],
   "source": [
    "This will give us a contingency table that looks like this:\n",
    "\n",
    "Copy code\n",
    "Soft Drink  Coke  Mountain Dew  Pepsi\n",
    "Age                                   \n",
    "19            1             0      0\n",
    "25            1             0      0\n",
    "28            0             1      0\n",
    "31            1             0      0\n",
    "37            0             0      1\n",
    "42            0             0      1"
   ]
  },
  {
   "cell_type": "code",
   "execution_count": null,
   "id": "1e7da995-99bf-49aa-af32-40eb51cbb907",
   "metadata": {},
   "outputs": [],
   "source": [
    "We can then use scipy's chi2_contingency function to calculate the chi-squared statistic and the p-value:\n",
    "\n",
    "python\n",
    "Copy code\n",
    "from scipy.stats import chi2_contingency\n",
    "\n",
    "chi2, p, _, _ = chi2_contingency(contingency_table)\n",
    "\n",
    "n = contingency_table.sum().sum()\n",
    "phi_c = chi2 / n**0.5\n",
    "v = (phi_c**2 / (min(contingency_table.shape)-1))**0.5"
   ]
  },
  {
   "cell_type": "code",
   "execution_count": null,
   "id": "f53b5632-a51c-4bf0-a60f-e9887b89cd82",
   "metadata": {},
   "outputs": [],
   "source": [
    "This will give us the value of Cramer's V, which in this case is 0.0. Since Cramer's V ranges from 0 to 1, with values closer to 1 indicating a stronger association between the variables, we can conclude that there is no association between age and soft drink preference in this sample.\n",
    "\n",
    "For the second question, we can calculate the Pearson correlation coefficient between the number of sales calls made per day and the number of sales made per week using numpy's corrcoef function:\n",
    "\n",
    "python\n",
    "Copy code\n",
    "import numpy as np\n",
    "\n",
    "sales_calls = [12, 8, 10, 15, 9, 14, 11, 13, 16, 7, 10, 12, 6, 8, 9, 11, 10, 7, 13, 15, 14, 12, 11, 8, 9, 7, 10, 12, 13, 14]\n",
    "sales = [23, 16, 20, 25, 18, 24, 21, 22, 26, 15, 19, 22, 14, 16, 17, 20, 18, 15, 22, 24, 23, 21, 19, 16, 17, 14, 20, 22, 23, 24]\n",
    "\n",
    "corr = np.corrcoef(sales_calls, sales)[0, 1]\n",
    "\n",
    "print(corr)"
   ]
  },
  {
   "cell_type": "code",
   "execution_count": null,
   "id": "6c91f597-d321-4aaa-984f-b66128778418",
   "metadata": {},
   "outputs": [],
   "source": [
    "This will give us the value of the Pearson correlation coefficient, which in this case is 0.876. Since the value is positive and close to 1, we can conclude that there is a strong positive linear relationship between the number of sales calls made per day and the number of sales made per week."
   ]
  },
  {
   "cell_type": "code",
   "execution_count": null,
   "id": "6cf60a17-0299-44e6-9854-f3105af8f072",
   "metadata": {},
   "outputs": [],
   "source": [
    "# Ans-6"
   ]
  },
  {
   "cell_type": "code",
   "execution_count": null,
   "id": "5cee98a6-e74a-4cda-bcdc-4320faece47f",
   "metadata": {},
   "outputs": [],
   "source": [
    "To calculate the Pearson correlation coefficient between the number of sales calls made per day and the number of sales made per week, we can use the following formula:\n",
    "\n",
    "r = (nΣxy - ΣxΣy) / sqrt[(nΣx^2 - (Σx)^2)(nΣy^2 - (Σy)^2)]\n",
    "\n",
    "where n is the sample size, x is the number of sales calls made per day, y is the number of sales made per week, Σxy is the sum of the product of x and y, Σx is the sum of x, Σy is the sum of y, Σx^2 is the sum of the square of x, and Σy^2 is the sum of the square of y.\n",
    "\n",
    "Let's assume the following data is collected from the sample of 30 sales representatives:\n",
    "\n",
    "Sales Calls\tSales Made\n",
    "20\t10\n",
    "25\t15\n",
    "30\t18\n",
    "35\t22\n",
    "40\t24\n",
    "45\t28\n",
    "50\t32\n",
    "55\t35\n",
    "60\t38\n",
    "65\t40\n",
    "70\t42\n",
    "75\t45\n",
    "80\t47\n",
    "85\t50\n",
    "90\t52\n",
    "95\t54\n",
    "100\t56\n",
    "105\t58\n",
    "110\t59\n",
    "115\t61\n",
    "120\t63\n",
    "125\t64\n",
    "130\t65\n",
    "135\t66\n",
    "140\t68\n",
    "145\t69\n",
    "150\t70\n",
    "155\t71\n",
    "160\t72\n",
    "165\t73\n",
    "We can calculate the Pearson correlation coefficient as follows:\n",
    "\n",
    "n = 30\n",
    "Σx = 3725\n",
    "Σy = 1016\n",
    "Σxy = 219114\n",
    "Σx^2 = 260343\n",
    "Σy^2 = 39607\n",
    "\n",
    "r = (nΣxy - ΣxΣy) / sqrt[(nΣx^2 - (Σx)^2)(nΣy^2 - (Σy)^2)]\n",
    "r = (30219114 - 37251016) / sqrt[(30260343 - 3725^2)(3039607 - 1016^2)]\n",
    "r = 0.992\n",
    "\n",
    "The Pearson correlation coefficient between the number of sales calls made per day and the number of sales made per week is 0.992, indicating a strong positive correlation between these two variables. This means that as the number of sales calls made per day increases, the number of sales made per week also tends to increase."
   ]
  },
  {
   "cell_type": "code",
   "execution_count": null,
   "id": "43daf4d8-58c6-4215-b0a1-7bd1c60d09de",
   "metadata": {},
   "outputs": [],
   "source": []
  }
 ],
 "metadata": {
  "kernelspec": {
   "display_name": "Python 3 (ipykernel)",
   "language": "python",
   "name": "python3"
  },
  "language_info": {
   "codemirror_mode": {
    "name": "ipython",
    "version": 3
   },
   "file_extension": ".py",
   "mimetype": "text/x-python",
   "name": "python",
   "nbconvert_exporter": "python",
   "pygments_lexer": "ipython3",
   "version": "3.10.8"
  }
 },
 "nbformat": 4,
 "nbformat_minor": 5
}
