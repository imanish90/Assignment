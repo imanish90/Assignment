{
 "cells": [
  {
   "cell_type": "code",
   "execution_count": null,
   "id": "0be5f505-7349-4cd8-a4d6-542ee9e3f21f",
   "metadata": {},
   "outputs": [],
   "source": [
    "# Ans-1"
   ]
  },
  {
   "cell_type": "code",
   "execution_count": null,
   "id": "f6fc1ba4-6d63-426c-8eaa-bd723a5fdaca",
   "metadata": {},
   "outputs": [],
   "source": [
    "import seaborn as sns\n",
    "import matplotlib.pyplot as plt\n",
    "\n",
    "# Load the titanic dataset\n",
    "titanic_data = sns.load_dataset('titanic')\n",
    "\n",
    "# Create a scatter plot for age and fare columns\n",
    "plt.scatter(titanic_data['age'], titanic_data['fare'])\n",
    "\n",
    "# Set plot title and labels\n",
    "plt.title('Age vs Fare in Titanic Dataset')\n",
    "plt.xlabel('Age')\n",
    "plt.ylabel('Fare')\n",
    "\n",
    "# Show the plot\n",
    "plt.show()"
   ]
  },
  {
   "cell_type": "code",
   "execution_count": null,
   "id": "b309b419-c031-48c3-921a-c285fdfc25a3",
   "metadata": {},
   "outputs": [],
   "source": [
    "# Ans-2"
   ]
  },
  {
   "cell_type": "code",
   "execution_count": null,
   "id": "97360053-023d-4326-8855-7911612a33d1",
   "metadata": {},
   "outputs": [],
   "source": [
    "import plotly.express as px\n",
    "\n",
    "# Load the tips dataset from Plotly\n",
    "tips_data = px.data.tips()\n",
    "\n",
    "# Create a box plot for total bill amount and day of the week\n",
    "fig = px.box(tips_data, x=\"day\", y=\"total_bill\", points=\"all\")\n",
    "\n",
    "# Set plot title and labels\n",
    "fig.update_layout(title=\"Total Bill Amount by Day of Week\",\n",
    "                  xaxis_title=\"Day of Week\",\n",
    "                  yaxis_title=\"Total Bill Amount\")\n",
    "\n",
    "# Show the plot\n",
    "fig.show()"
   ]
  },
  {
   "cell_type": "code",
   "execution_count": null,
   "id": "2c257783-fffb-4b9a-b8c6-a7f8b2a25022",
   "metadata": {},
   "outputs": [],
   "source": [
    "# Ans-3"
   ]
  },
  {
   "cell_type": "code",
   "execution_count": null,
   "id": "909a6876-9fc3-4820-8525-be9614cad93b",
   "metadata": {},
   "outputs": [],
   "source": [
    "import plotly.express as px\n",
    "\n",
    "# Load the tips dataset from Plotly\n",
    "tips_data = px.data.tips()\n",
    "\n",
    "# Create a histogram with sex on the x-axis and total_bill on the y-axis\n",
    "fig = px.histogram(tips_data, x=\"sex\", y=\"total_bill\", color=\"day\", pattern_shape=\"smoker\")\n",
    "\n",
    "# Set plot title and labels\n",
    "fig.update_layout(title=\"Total Bill Amount by Sex\",\n",
    "                  xaxis_title=\"Sex\",\n",
    "                  yaxis_title=\"Total Bill Amount\")\n",
    "\n",
    "# Show the plot\n",
    "fig.show()"
   ]
  },
  {
   "cell_type": "code",
   "execution_count": null,
   "id": "00629b2b-10c3-4c58-b916-212a9d4810e6",
   "metadata": {},
   "outputs": [],
   "source": [
    "# Ans-4"
   ]
  },
  {
   "cell_type": "code",
   "execution_count": null,
   "id": "ba07d91a-6fc8-4a28-ab03-87913064c43a",
   "metadata": {},
   "outputs": [],
   "source": [
    "import plotly.express as px\n",
    "from sklearn.datasets import load_iris\n",
    "\n",
    "iris = load_iris()\n",
    "iris_df = px.data.iris()  # load iris dataset from Plotly library\n",
    "\n",
    "fig = px.scatter_matrix(\n",
    "    iris_df,\n",
    "    dimensions=[\"sepal_length\", \"sepal_width\", \"petal_length\", \"petal_width\"],\n",
    "    color=\"species\",\n",
    "    title=\"Scatter Matrix Plot of Iris Dataset\",\n",
    "    symbol=\"species\",\n",
    "    height=800,\n",
    "    width=800\n",
    ")\n",
    "\n",
    "fig.show()"
   ]
  },
  {
   "cell_type": "code",
   "execution_count": null,
   "id": "dbe8dc97-5b16-4516-a3ab-29ff8ce6819f",
   "metadata": {},
   "outputs": [],
   "source": [
    "# Ans-5"
   ]
  },
  {
   "cell_type": "code",
   "execution_count": null,
   "id": "2c23312b-143c-443f-beb5-fb3d4285a2fc",
   "metadata": {},
   "outputs": [],
   "source": [
    "Distplot, short for \"distribution plot\", is a graphical representation of the distribution of a dataset. It shows the shape of the distribution, as well as any peaks or gaps in the data. Distplots can be used to visualize continuous or discrete data.\n",
    "\n",
    "Here's an example of how to create a distplot using Plotly Express in Python:"
   ]
  },
  {
   "cell_type": "code",
   "execution_count": null,
   "id": "d5663b9a-6464-43cf-b0b5-b397057c5b66",
   "metadata": {},
   "outputs": [],
   "source": [
    "import plotly.express as px\n",
    "import numpy as np\n",
    "\n",
    "# Create a random dataset\n",
    "np.random.seed(1)\n",
    "data = np.random.normal(0, 1, size=1000)\n",
    "\n",
    "# Create the distplot\n",
    "fig = px.histogram(data, nbins=30, opacity=0.8)\n",
    "\n",
    "# Add a title and axis labels\n",
    "fig.update_layout(title=\"Distribution of Random Data\", xaxis_title=\"Value\", yaxis_title=\"Frequency\")\n",
    "\n",
    "# Show the plot\n",
    "fig.show()"
   ]
  }
 ],
 "metadata": {
  "kernelspec": {
   "display_name": "Python 3 (ipykernel)",
   "language": "python",
   "name": "python3"
  },
  "language_info": {
   "codemirror_mode": {
    "name": "ipython",
    "version": 3
   },
   "file_extension": ".py",
   "mimetype": "text/x-python",
   "name": "python",
   "nbconvert_exporter": "python",
   "pygments_lexer": "ipython3",
   "version": "3.10.8"
  }
 },
 "nbformat": 4,
 "nbformat_minor": 5
}
