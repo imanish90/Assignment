{
 "cells": [
  {
   "cell_type": "code",
   "execution_count": null,
   "id": "7e2f1bd7-097d-40c6-8771-d27e2fe5b843",
   "metadata": {},
   "outputs": [],
   "source": [
    "# Ans-1"
   ]
  },
  {
   "cell_type": "code",
   "execution_count": null,
   "id": "114aca6d-f210-43b1-ac0b-86d61981d675",
   "metadata": {},
   "outputs": [],
   "source": [
    "Here's how you can create a Pandas series with the given data:"
   ]
  },
  {
   "cell_type": "code",
   "execution_count": null,
   "id": "9afd4d85-9ac5-4eb2-b83c-dc6e9a91d137",
   "metadata": {},
   "outputs": [],
   "source": [
    "import pandas as pd\n",
    "\n",
    "data = [4, 8, 15, 16, 23, 42]\n",
    "series = pd.Series(data)\n",
    "\n",
    "print(series)"
   ]
  },
  {
   "cell_type": "code",
   "execution_count": null,
   "id": "fa744f88-f2b0-4025-8df2-5843a3eb6095",
   "metadata": {},
   "outputs": [],
   "source": [
    "Each value in the series is assigned an index, starting from 0 by default. In this case, the series contains 6 elements, with indices ranging from 0 to 5. The data type of the series is int64, as all the elements are integers."
   ]
  },
  {
   "cell_type": "code",
   "execution_count": null,
   "id": "a9effa67-0c80-4b6b-ade3-a1aa36de7eae",
   "metadata": {},
   "outputs": [],
   "source": [
    "# Ans-2"
   ]
  },
  {
   "cell_type": "code",
   "execution_count": null,
   "id": "9206a863-5c3a-4b88-b5df-7d8269ce9025",
   "metadata": {},
   "outputs": [],
   "source": [
    "Sure, here's an example of how you can create a list of 10 elements and convert it into a Pandas series:"
   ]
  },
  {
   "cell_type": "code",
   "execution_count": null,
   "id": "60cc3202-7269-43e6-9887-299b0b6a6d76",
   "metadata": {},
   "outputs": [],
   "source": [
    "import pandas as pd\n",
    "\n",
    "my_list = ['apple', 'banana', 'cherry', 'date', 'elderberry', 'fig', 'grape', 'honeydew', 'imbe', 'jackfruit']\n",
    "my_series = pd.Series(my_list)\n",
    "\n",
    "print(my_series)"
   ]
  },
  {
   "cell_type": "code",
   "execution_count": null,
   "id": "c5ba4bac-2c66-49c3-9b08-409b85ad61cd",
   "metadata": {},
   "outputs": [],
   "source": [
    "As you can see, the Pandas Series function has converted the list into a series, and assigned a numeric index to each element of the series, starting from 0 by default. The data type of this series is object, since the elements in the original list were strings."
   ]
  },
  {
   "cell_type": "code",
   "execution_count": null,
   "id": "fff6acab-6a2d-4a7c-ae2e-3ee8d07b5633",
   "metadata": {},
   "outputs": [],
   "source": [
    "# Ans-3"
   ]
  },
  {
   "cell_type": "code",
   "execution_count": null,
   "id": "2e288f17-0ab1-468e-903d-9ae5f84d5d0d",
   "metadata": {},
   "outputs": [],
   "source": [
    "import pandas as pd\n",
    "\n",
    "my_list = ['apple', 'banana', 'cherry', 'date', 'elderberry', 'fig', 'grape', 'honeydew', 'imbe', 'jackfruit']\n",
    "my_series = pd.Series(my_list)\n",
    "\n",
    "print(my_series)"
   ]
  },
  {
   "cell_type": "code",
   "execution_count": null,
   "id": "e0c18188-6748-45dd-b055-804406526bfa",
   "metadata": {},
   "outputs": [],
   "source": [
    "# Ans-4"
   ]
  },
  {
   "cell_type": "code",
   "execution_count": null,
   "id": "30332c1c-8b88-4cba-a595-80f3e0222c58",
   "metadata": {},
   "outputs": [],
   "source": [
    "DataFrame is a two-dimensional labeled data structure in pandas, similar to a spreadsheet or SQL table. It is essentially a collection of Pandas Series that share the same index. In other words, it is a table with rows and columns, where each column can be thought of as a Pandas Series.\n",
    "\n",
    "Series is a one-dimensional labeled data structure in pandas, similar to an array or a list. It is essentially a single column of data with an associated label, called an index.\n",
    "\n",
    "Here's an example to illustrate the difference between Series and DataFrame:"
   ]
  },
  {
   "cell_type": "code",
   "execution_count": null,
   "id": "59984c25-7029-4c40-92c1-fb6f037b96e0",
   "metadata": {},
   "outputs": [],
   "source": [
    "import pandas as pd\n",
    "\n",
    "# create a Pandas Series\n",
    "fruits = pd.Series(['apple', 'banana', 'cherry', 'date', 'elderberry'], name='fruit')\n",
    "print(fruits)\n",
    "\n",
    "# create a Pandas DataFrame\n",
    "df = pd.DataFrame({'fruit': ['apple', 'banana', 'cherry', 'date', 'elderberry'],\n",
    "                   'price': [1.5, 2.0, 2.5, 3.0, 4.5],\n",
    "                   'quantity': [10, 5, 12, 8, 3]})\n",
    "print(df)"
   ]
  },
  {
   "cell_type": "code",
   "execution_count": null,
   "id": "b831c120-19e1-44ce-a071-70b6be8241db",
   "metadata": {},
   "outputs": [],
   "source": [
    "In this example, we first create a Pandas Series called fruits that contains a list of fruit names. We set the name parameter to \"fruit\" to give the series a label. When we print the fruits series, we see that it contains five elements, with a numeric index from 0 to 4.\n",
    "\n",
    "Next, we create a Pandas DataFrame called df that contains three columns: fruit, price, and quantity. Each column is represented by a Pandas Series. The fruit column is the same as the fruits series we created earlier, but with no label. The price and quantity columns contain numeric data. When we print the df DataFrame, we see that it contains five rows and three columns.\n",
    "\n",
    "So, the main difference between a Series and a DataFrame is that a Series is a one-dimensional labeled array, while a DataFrame is a two-dimensional labeled table with columns of potentially different types. A DataFrame can be thought of as a collection of Series that share the same index."
   ]
  },
  {
   "cell_type": "code",
   "execution_count": null,
   "id": "864f0b58-323c-439d-beae-7e68c2ba738a",
   "metadata": {},
   "outputs": [],
   "source": [
    "# Ans-5"
   ]
  },
  {
   "cell_type": "code",
   "execution_count": null,
   "id": "295483f9-0c27-4369-b51e-4ded9227ff66",
   "metadata": {},
   "outputs": [],
   "source": [
    "There are many functions available in Pandas to manipulate data in a DataFrame. Here are a few common functions:\n",
    "\n",
    "head() and tail(): These functions are used to display the first and last n rows of a DataFrame, respectively. These functions are useful for quickly inspecting the data in a DataFrame. For example:"
   ]
  },
  {
   "cell_type": "code",
   "execution_count": null,
   "id": "95cbc187-c833-4046-b917-af521d15683d",
   "metadata": {},
   "outputs": [],
   "source": [
    "import pandas as pd\n",
    "\n",
    "df = pd.read_csv('my_data.csv')\n",
    "print(df.head())\n",
    "print(df.tail(10))"
   ]
  },
  {
   "cell_type": "code",
   "execution_count": null,
   "id": "af47a6f6-87c3-4fbd-90fc-47ab5979ffa0",
   "metadata": {},
   "outputs": [],
   "source": [
    "info(): This function is used to display information about the DataFrame, such as the number of rows and columns, data types, and memory usage. This function is useful for getting a quick overview of the data in a DataFrame. For example:"
   ]
  },
  {
   "cell_type": "code",
   "execution_count": null,
   "id": "86f1eb14-54bf-4927-a326-a4800ef59aed",
   "metadata": {},
   "outputs": [],
   "source": [
    "import pandas as pd\n",
    "\n",
    "df = pd.read_csv('my_data.csv')\n",
    "print(df.info())"
   ]
  },
  {
   "cell_type": "code",
   "execution_count": null,
   "id": "6e77f807-16b7-419b-9980-874d94b62a80",
   "metadata": {},
   "outputs": [],
   "source": [
    "describe(): This function is used to generate descriptive statistics about the data in a DataFrame, such as the mean, standard deviation, and quartiles. This function is useful for getting a quick summary of the data in a DataFrame. For example:"
   ]
  },
  {
   "cell_type": "code",
   "execution_count": null,
   "id": "27ad6f98-baa5-4aa7-9141-d1c464e75510",
   "metadata": {},
   "outputs": [],
   "source": [
    "import pandas as pd\n",
    "\n",
    "df = pd.read_csv('my_data.csv')\n",
    "print(df.describe())"
   ]
  },
  {
   "cell_type": "code",
   "execution_count": null,
   "id": "fe18a786-03ac-4cbf-b3e6-c4f5330c2bf2",
   "metadata": {},
   "outputs": [],
   "source": [
    "dropna(): This function is used to remove rows with missing values from a DataFrame. This function is useful for cleaning up data that has missing values. For example:"
   ]
  },
  {
   "cell_type": "code",
   "execution_count": null,
   "id": "c72365b4-0fa7-4eda-9217-1c477dd9e29e",
   "metadata": {},
   "outputs": [],
   "source": [
    "import pandas as pd\n",
    "\n",
    "df = pd.read_csv('my_data.csv')\n",
    "df = df.dropna()"
   ]
  },
  {
   "cell_type": "code",
   "execution_count": null,
   "id": "947185f7-0af1-47cb-8c5f-c1052fe4ad82",
   "metadata": {},
   "outputs": [],
   "source": [
    "groupby(): This function is used to group rows of a DataFrame by one or more columns and perform aggregations on the groups. This function is useful for analyzing data by different categories. For example:"
   ]
  },
  {
   "cell_type": "code",
   "execution_count": null,
   "id": "249dd945-05cc-4edd-8254-3389c2963ef3",
   "metadata": {},
   "outputs": [],
   "source": [
    "import pandas as pd\n",
    "\n",
    "df = pd.read_csv('my_data.csv')\n",
    "grouped = df.groupby('category')\n",
    "means = grouped.mean()"
   ]
  },
  {
   "cell_type": "code",
   "execution_count": null,
   "id": "a771877f-4fa3-45ba-9ec5-f611de2ccca6",
   "metadata": {},
   "outputs": [],
   "source": [
    "These are just a few examples of the many functions available in Pandas for manipulating data in a DataFrame. The specific functions you use will depend on your data and your analysis goals."
   ]
  },
  {
   "cell_type": "code",
   "execution_count": null,
   "id": "65dc9621-f8b7-449a-9e4b-039def979ecc",
   "metadata": {},
   "outputs": [],
   "source": [
    "# Ans-6"
   ]
  },
  {
   "cell_type": "code",
   "execution_count": null,
   "id": "b3e13b3d-7391-4fe2-b30f-50d45401d331",
   "metadata": {},
   "outputs": [],
   "source": [
    "Series and DataFrame are mutable in nature, meaning that you can modify their values after they are created. However, Panel is deprecated in recent versions of Pandas and has been replaced by other data structures."
   ]
  },
  {
   "cell_type": "code",
   "execution_count": null,
   "id": "729aae0d-91ba-4d91-826c-098ce317aa19",
   "metadata": {},
   "outputs": [],
   "source": [
    "# Ans-7"
   ]
  },
  {
   "cell_type": "code",
   "execution_count": null,
   "id": "a806d2ab-922c-4b57-9e1c-f34f0b83adbc",
   "metadata": {},
   "outputs": [],
   "source": [
    "To create a DataFrame using multiple Series, you can pass a dictionary of Series to the pd.DataFrame() function, where the keys of the dictionary will be used as the column names and the values will be used as the data in each column. Here's an example:"
   ]
  },
  {
   "cell_type": "code",
   "execution_count": null,
   "id": "2a0ed51e-3c76-471e-894b-c86180ae6d85",
   "metadata": {},
   "outputs": [],
   "source": [
    "import pandas as pd\n",
    "\n",
    "# Create three Series\n",
    "s1 = pd.Series([1, 2, 3, 4])\n",
    "s2 = pd.Series(['A', 'B', 'C', 'D'])\n",
    "s3 = pd.Series([10.2, 11.5, 9.8, 13.2])\n",
    "\n",
    "# Create a dictionary of Series\n",
    "data = {'col1': s1, 'col2': s2, 'col3': s3}\n",
    "\n",
    "# Create a DataFrame using the dictionary of Series\n",
    "df = pd.DataFrame(data)\n",
    "\n",
    "# Print the DataFrame\n",
    "print(df)"
   ]
  },
  {
   "cell_type": "code",
   "execution_count": null,
   "id": "b2bd4d97-823e-4abc-99c3-4e252a4bca42",
   "metadata": {},
   "outputs": [],
   "source": [
    "In this example, we first create three separate Series containing integers, strings, and floats. Then we create a dictionary of these Series where the keys represent the column names of the DataFrame. Finally, we create the DataFrame by passing the dictionary of Series to the pd.DataFrame() function. The resulting DataFrame contains three columns, each with its own data type, and is printed to the console."
   ]
  }
 ],
 "metadata": {
  "kernelspec": {
   "display_name": "Python 3 (ipykernel)",
   "language": "python",
   "name": "python3"
  },
  "language_info": {
   "codemirror_mode": {
    "name": "ipython",
    "version": 3
   },
   "file_extension": ".py",
   "mimetype": "text/x-python",
   "name": "python",
   "nbconvert_exporter": "python",
   "pygments_lexer": "ipython3",
   "version": "3.10.8"
  }
 },
 "nbformat": 4,
 "nbformat_minor": 5
}
