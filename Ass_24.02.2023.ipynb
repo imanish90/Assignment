{
 "cells": [
  {
   "cell_type": "code",
   "execution_count": null,
   "id": "b3a1a542-ff83-4c26-804f-aff253836745",
   "metadata": {},
   "outputs": [],
   "source": [
    "# Ans-1"
   ]
  },
  {
   "cell_type": "code",
   "execution_count": null,
   "id": "612faeb3-3457-4650-a254-40c020cc0d72",
   "metadata": {},
   "outputs": [],
   "source": [
    "Sure, here are five functions of the pandas library along with examples of how to use them:\n",
    "\n",
    "read_csv() - This function is used to read data from a CSV file and create a pandas DataFrame object."
   ]
  },
  {
   "cell_type": "code",
   "execution_count": null,
   "id": "07346009-6099-4ba8-9318-b57956401eca",
   "metadata": {},
   "outputs": [],
   "source": [
    "import pandas as pd\n",
    "\n",
    "# read a CSV file and create a DataFrame\n",
    "df = pd.read_csv('data.csv')\n",
    "print(df.head())"
   ]
  },
  {
   "cell_type": "code",
   "execution_count": null,
   "id": "960e2e6e-02e2-4b73-8690-bbf2304e3b0e",
   "metadata": {},
   "outputs": [],
   "source": [
    "dropna() - This function is used to remove any rows with missing values (NaN) from a DataFrame."
   ]
  },
  {
   "cell_type": "code",
   "execution_count": null,
   "id": "1661a912-46c4-482f-a731-6e7cc410e53a",
   "metadata": {},
   "outputs": [],
   "source": [
    "import pandas as pd\n",
    "\n",
    "# create a DataFrame with some missing values\n",
    "data = {'Name': ['Alice', 'Bob', 'Charlie', 'David'], 'Age': [25, 30, None, 35]}\n",
    "df = pd.DataFrame(data)\n",
    "\n",
    "# drop any rows with missing values\n",
    "df = df.dropna()\n",
    "print(df)"
   ]
  },
  {
   "cell_type": "code",
   "execution_count": null,
   "id": "e2bbe669-66c2-4523-946c-607b4954a385",
   "metadata": {},
   "outputs": [],
   "source": [
    "groupby() - This function is used to group data in a DataFrame by one or more columns and perform aggregate functions on the groups."
   ]
  },
  {
   "cell_type": "code",
   "execution_count": null,
   "id": "34daf2f2-56ff-4dd1-99ae-9555e0d7def3",
   "metadata": {},
   "outputs": [],
   "source": [
    "import pandas as pd\n",
    "\n",
    "# create a DataFrame with some data\n",
    "data = {'Name': ['Alice', 'Bob', 'Charlie', 'David'], 'Age': [25, 30, 35, 40], 'Gender': ['F', 'M', 'M', 'M']}\n",
    "df = pd.DataFrame(data)\n",
    "\n",
    "# group the data by Gender and calculate the mean age\n",
    "grouped = df.groupby('Gender')\n",
    "mean_age = grouped['Age'].mean()\n",
    "print(mean_age)"
   ]
  },
  {
   "cell_type": "code",
   "execution_count": null,
   "id": "15351169-4b4e-4f6e-aa8b-984124075e18",
   "metadata": {},
   "outputs": [],
   "source": [
    "merge() - This function is used to merge two DataFrames together based on a common column."
   ]
  },
  {
   "cell_type": "code",
   "execution_count": null,
   "id": "54788d8f-f55e-4d96-9917-5744bfe0a39d",
   "metadata": {},
   "outputs": [],
   "source": [
    "import pandas as pd\n",
    "\n",
    "# create two DataFrames\n",
    "df1 = pd.DataFrame({'Name': ['Alice', 'Bob', 'Charlie'], 'Age': [25, 30, 35]})\n",
    "df2 = pd.DataFrame({'Name': ['Bob', 'Charlie', 'David'], 'Occupation': ['Doctor', 'Engineer', 'Lawyer']})\n",
    "\n",
    "# merge the two DataFrames on the 'Name' column\n",
    "merged_df = pd.merge(df1, df2, on='Name')\n",
    "print(merged_df)"
   ]
  },
  {
   "cell_type": "code",
   "execution_count": null,
   "id": "ad7d8d3d-a12b-4000-8213-2f1d0962344e",
   "metadata": {},
   "outputs": [],
   "source": [
    "pivot_table() - This function is used to create a pivot table from a DataFrame, which is a table that summarizes the data based on one or more columns."
   ]
  },
  {
   "cell_type": "code",
   "execution_count": null,
   "id": "ae1603d9-abe0-4de1-b098-2936af205e18",
   "metadata": {},
   "outputs": [],
   "source": [
    "import pandas as pd\n",
    "\n",
    "# create a DataFrame with some data\n",
    "data = {'Name': ['Alice', 'Bob', 'Charlie', 'David'], 'Age': [25, 30, 35, 40], 'Gender': ['F', 'M', 'M', 'M'], 'Salary': [50000, 60000, 70000, 80000]}\n",
    "df = pd.DataFrame(data)\n",
    "\n",
    "# create a pivot table that shows the average salary by gender and age group\n",
    "pivot = df.pivot_table(index='Gender', columns=pd.cut(df['Age'], [20, 30, 40]), values='Salary', aggfunc='mean')\n",
    "print(pivot)"
   ]
  },
  {
   "cell_type": "code",
   "execution_count": null,
   "id": "cfeb81e6-c6ad-4643-802c-655ad50cf1bb",
   "metadata": {},
   "outputs": [],
   "source": [
    "# Ans-2-"
   ]
  },
  {
   "cell_type": "code",
   "execution_count": null,
   "id": "d49ce09e-3a55-4064-be7e-010092440c34",
   "metadata": {},
   "outputs": [],
   "source": [
    "Python function that re-indexes the DataFrame with a new index that starts from 1 and increments by 2 for each row:"
   ]
  },
  {
   "cell_type": "code",
   "execution_count": null,
   "id": "fcf84d50-a6e4-4202-8975-c350ce3c26b8",
   "metadata": {},
   "outputs": [],
   "source": [
    "import pandas as pd\n",
    "\n",
    "def reindex_df(df):\n",
    "    # get the number of rows in the DataFrame\n",
    "    num_rows = df.shape[0]\n",
    "    \n",
    "    # create a new index that starts from 1 and increments by 2 for each row\n",
    "    new_index = pd.RangeIndex(start=1, stop=num_rows*2, step=2)\n",
    "    \n",
    "    # reindex the DataFrame with the new index\n",
    "    df = df.reindex(new_index)\n",
    "    \n",
    "    return df"
   ]
  },
  {
   "cell_type": "code",
   "execution_count": null,
   "id": "414751d7-cd2c-41ed-a645-d531ab1f1f7a",
   "metadata": {},
   "outputs": [],
   "source": [
    "df = pd.DataFrame({'A': [1, 2, 3], 'B': [4, 5, 6], 'C': [7, 8, 9]})\n",
    "df_reindexed = reindex_df(df)\n",
    "print(df_reindexed)"
   ]
  },
  {
   "cell_type": "code",
   "execution_count": null,
   "id": "57291d31-f6e8-4c63-9f1f-8b940015956e",
   "metadata": {},
   "outputs": [],
   "source": [
    "# Ans-3-"
   ]
  },
  {
   "cell_type": "code",
   "execution_count": null,
   "id": "9be33c9d-763b-4abf-829f-1e66a3d2331a",
   "metadata": {},
   "outputs": [],
   "source": [
    "Python function that iterates over the DataFrame and calculates the sum of the first three values in the 'Values' column:"
   ]
  },
  {
   "cell_type": "code",
   "execution_count": null,
   "id": "d3ef49d9-d472-447a-a3b6-945c03f3b6b7",
   "metadata": {},
   "outputs": [],
   "source": [
    "import pandas as pd\n",
    "\n",
    "def sum_first_three_values(df):\n",
    "    # get the first three values in the 'Values' column\n",
    "    values = df['Values'][:3]\n",
    "    \n",
    "    # calculate the sum of the values\n",
    "    total = values.sum()\n",
    "    \n",
    "    # print the sum to the console\n",
    "    print(total)"
   ]
  },
  {
   "cell_type": "code",
   "execution_count": null,
   "id": "6e140099-80a9-4a2f-a752-823e153e4792",
   "metadata": {},
   "outputs": [],
   "source": [
    "df = pd.DataFrame({'Values': [10, 20, 30, 40, 50]})\n",
    "sum_first_three_values(df)"
   ]
  },
  {
   "cell_type": "code",
   "execution_count": null,
   "id": "35dcc8a1-f50e-4f10-b32d-3977306143b0",
   "metadata": {},
   "outputs": [],
   "source": [
    "# Ans-4"
   ]
  },
  {
   "cell_type": "code",
   "execution_count": null,
   "id": "56baddd8-7ee3-457c-8eaf-07b4998975eb",
   "metadata": {},
   "outputs": [],
   "source": [
    "import pandas as pd\n",
    "\n",
    "def add_word_count_column(df):\n",
    "    # split the 'Text' column by whitespace to get a list of words for each row\n",
    "    word_lists = df['Text'].str.split()\n",
    "    \n",
    "    # count the number of words in each row and create a new 'Word_Count' column\n",
    "    df['Word_Count'] = [len(words) for words in word_lists]\n",
    "    \n",
    "    return df"
   ]
  },
  {
   "cell_type": "code",
   "execution_count": null,
   "id": "687c5385-d9fb-4f96-9437-2f1103a4d0e0",
   "metadata": {},
   "outputs": [],
   "source": [
    "df = pd.DataFrame({'Text': ['This is a sentence', 'This is another sentence', 'And this is a third sentence']})\n",
    "df = add_word_count_column(df)\n",
    "print(df)"
   ]
  },
  {
   "cell_type": "code",
   "execution_count": null,
   "id": "efc324e8-c8f6-4654-8d7d-f9e1bda13c1e",
   "metadata": {},
   "outputs": [],
   "source": [
    "# Ans-5"
   ]
  },
  {
   "cell_type": "code",
   "execution_count": null,
   "id": "e72fff3a-32dc-43b7-98fa-5617d9bc92bd",
   "metadata": {},
   "outputs": [],
   "source": [
    "Both DataFrame.size() and DataFrame.shape() are methods in Pandas that provide information about the size of a DataFrame, but they differ in what they return:\n",
    "\n",
    "DataFrame.size() returns the total number of elements in the DataFrame, which is equal to the number of rows multiplied by the number of columns. This method returns a single integer value.\n",
    "DataFrame.shape() returns a tuple containing the number of rows and number of columns in the DataFrame, respectively. This method returns two integer values.\n",
    "For example, consider the following DataFrame:"
   ]
  },
  {
   "cell_type": "code",
   "execution_count": null,
   "id": "2209e9ae-af0b-489e-952f-8cc09969547a",
   "metadata": {},
   "outputs": [],
   "source": [
    "import pandas as pd\n",
    "\n",
    "df = pd.DataFrame({'A': [1, 2, 3], 'B': [4, 5, 6]})"
   ]
  },
  {
   "cell_type": "code",
   "execution_count": null,
   "id": "7cdf232f-b6cf-4ec4-8859-d62d86ceabc2",
   "metadata": {},
   "outputs": [],
   "source": [
    ">>> df.size\n",
    "6"
   ]
  },
  {
   "cell_type": "code",
   "execution_count": null,
   "id": "cc571682-07dd-4212-85b4-493192b4423d",
   "metadata": {},
   "outputs": [],
   "source": [
    ">>> df.shape\n",
    "(3, 2)"
   ]
  },
  {
   "cell_type": "code",
   "execution_count": null,
   "id": "7c01d274-d24d-4203-96e9-d8ba4bccaae5",
   "metadata": {},
   "outputs": [],
   "source": [
    "This is a tuple containing the number of rows (3) and the number of columns (2) in the DataFrame.\n",
    "\n",
    "So in summary, DataFrame.size() returns the total number of elements in the DataFrame as a single integer value, while DataFrame.shape() returns a tuple containing the number of rows and columns in the DataFrame."
   ]
  },
  {
   "cell_type": "code",
   "execution_count": null,
   "id": "4455b89a-5b81-4544-8a49-ac5db621a935",
   "metadata": {},
   "outputs": [],
   "source": [
    "# Ans-6"
   ]
  },
  {
   "cell_type": "code",
   "execution_count": null,
   "id": "3354fa98-80d2-40fa-a9ca-92e2e81b4bf8",
   "metadata": {},
   "outputs": [],
   "source": [
    "To read an Excel file into a Pandas DataFrame, you can use the read_excel() function in Pandas.\n",
    "\n",
    "Here's an example:"
   ]
  },
  {
   "cell_type": "code",
   "execution_count": null,
   "id": "4237431e-db2c-4688-a434-d66e55040aec",
   "metadata": {},
   "outputs": [],
   "source": [
    "import pandas as pd\n",
    "\n",
    "# read the Excel file into a DataFrame\n",
    "df = pd.read_excel('filename.xlsx')\n",
    "\n",
    "# print the first 5 rows of the DataFrame\n",
    "print(df.head())"
   ]
  },
  {
   "cell_type": "code",
   "execution_count": null,
   "id": "f4a0f793-1f41-4dcc-9c1a-aa3718932fce",
   "metadata": {},
   "outputs": [],
   "source": [
    "In this example, filename.xlsx is the name of the Excel file you want to read. The read_excel() function reads the file and returns a DataFrame.\n",
    "\n",
    "Note that the read_excel() function has many optional parameters that allow you to specify things like the sheet to read, which rows to skip, how to handle missing values, etc. You can find more information about these parameters in the Pandas documentation."
   ]
  },
  {
   "cell_type": "code",
   "execution_count": null,
   "id": "d8c0ceca-6ef4-4029-ace2-67a9efc73b37",
   "metadata": {},
   "outputs": [],
   "source": [
    "# Ans-7"
   ]
  },
  {
   "cell_type": "code",
   "execution_count": null,
   "id": "973a0439-fc9f-4556-8542-e521f8927100",
   "metadata": {},
   "outputs": [],
   "source": [
    "Python function that extracts the username from each email address in the 'Email' column of a Pandas DataFrame and stores it in a new 'Username' column:"
   ]
  },
  {
   "cell_type": "code",
   "execution_count": null,
   "id": "994a9672-c8f6-44b4-97f7-5bf98ea51332",
   "metadata": {},
   "outputs": [],
   "source": [
    "import pandas as pd\n",
    "\n",
    "def extract_username(df):\n",
    "    # create a new 'Username' column in the DataFrame\n",
    "    df['Username'] = ''\n",
    "\n",
    "    # iterate over the 'Email' column and extract the username for each email address\n",
    "    for i, email in enumerate(df['Email']):\n",
    "        username = email.split('@')[0]\n",
    "        df.at[i, 'Username'] = username\n",
    "    \n",
    "    # return the updated DataFrame\n",
    "    return df"
   ]
  },
  {
   "cell_type": "code",
   "execution_count": null,
   "id": "b0ef7c55-49db-4eab-bbc3-cde4a15e4467",
   "metadata": {},
   "outputs": [],
   "source": [
    "In this function, we first create a new 'Username' column in the DataFrame with empty strings as the initial values. Then we iterate over the 'Email' column using a for loop and the enumerate() function to get the index and value of each element in the column. For each email address, we use the split() method to separate the username from the domain name by splitting the string at the '@' symbol, and then we assign the extracted username to the corresponding row in the 'Username' column using the at[] method. Finally, we return the updated DataFrame with the new 'Username' column.\n",
    "\n",
    "You can call this function with your Pandas DataFrame as the input, like this:"
   ]
  },
  {
   "cell_type": "code",
   "execution_count": null,
   "id": "dfbe64a6-402b-4c48-9734-e17c92c66913",
   "metadata": {},
   "outputs": [],
   "source": [
    "# create a sample DataFrame\n",
    "df = pd.DataFrame({'Email': ['john.doe@example.com', 'jane.smith@example.com']})\n",
    "\n",
    "# call the extract_username function\n",
    "df = extract_username(df)\n",
    "\n",
    "# print the updated DataFrame\n",
    "print(df)"
   ]
  },
  {
   "cell_type": "code",
   "execution_count": null,
   "id": "a84b759a-a732-40b0-97e3-3a3055c5b503",
   "metadata": {},
   "outputs": [],
   "source": [
    "# Ans-8"
   ]
  },
  {
   "cell_type": "code",
   "execution_count": null,
   "id": "fd40851e-e424-493d-afa5-8276be3c14c5",
   "metadata": {},
   "outputs": [],
   "source": [
    "import pandas as pd\n",
    "\n",
    "def select_rows(df):\n",
    "    # use boolean indexing to select the rows where 'A' > 5 and 'B' < 10\n",
    "    new_df = df[(df['A'] > 5) & (df['B'] < 10)]\n",
    "    \n",
    "    # return the new DataFrame\n",
    "    return new_df"
   ]
  },
  {
   "cell_type": "code",
   "execution_count": null,
   "id": "fd12bcec-ef3b-4f7e-8407-b4d9818e5418",
   "metadata": {},
   "outputs": [],
   "source": [
    "# create a sample DataFrame\n",
    "df = pd.DataFrame({'A': [1, 6, 3, 8], 'B': [7, 2, 9, 4], 'C': [5, 6, 7, 8]})\n",
    "\n",
    "# call the select_rows function\n",
    "new_df = select_rows(df)\n",
    "\n",
    "# print the new DataFrame\n",
    "print(new_df)"
   ]
  }
 ],
 "metadata": {
  "kernelspec": {
   "display_name": "Python 3 (ipykernel)",
   "language": "python",
   "name": "python3"
  },
  "language_info": {
   "codemirror_mode": {
    "name": "ipython",
    "version": 3
   },
   "file_extension": ".py",
   "mimetype": "text/x-python",
   "name": "python",
   "nbconvert_exporter": "python",
   "pygments_lexer": "ipython3",
   "version": "3.10.8"
  }
 },
 "nbformat": 4,
 "nbformat_minor": 5
}
