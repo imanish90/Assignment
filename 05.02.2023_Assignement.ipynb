{
 "cells": [
  {
   "cell_type": "code",
   "execution_count": 1,
   "id": "ed6f82ae-1b55-4348-ae95-ec04530c44b8",
   "metadata": {},
   "outputs": [
    {
     "ename": "SyntaxError",
     "evalue": "unterminated string literal (detected at line 4) (1287401487.py, line 4)",
     "output_type": "error",
     "traceback": [
      "\u001b[0;36m  Cell \u001b[0;32mIn[1], line 4\u001b[0;36m\u001b[0m\n\u001b[0;31m    Let's consider an example of a class and object:\u001b[0m\n\u001b[0m       ^\u001b[0m\n\u001b[0;31mSyntaxError\u001b[0m\u001b[0;31m:\u001b[0m unterminated string literal (detected at line 4)\n"
     ]
    }
   ],
   "source": [
    "# Ans-1-\n",
    "In object-oriented programming, a class is a blueprint or template that defines the properties and behaviors of a set of objects. An object is an instance of a class that contains its own state and behavior.\n",
    "\n",
    "Let's consider an example of a class and object:\n",
    "\n",
    "Class: Car\n",
    "Properties: color, make, model, year, speed\n",
    "Behaviors: start, accelerate, brake, turn\n",
    "\n",
    "Object: MyCar\n",
    "Properties: color=red, make=Toyota, model=Camry, year=2020, speed=0\n",
    "Behaviors: start(), accelerate(), brake(), turn()\n",
    "\n",
    "\n",
    "\n",
    "In this example, the \"Car\" class is a blueprint that defines the properties and behaviors of a car, such as its color, make, model, year, speed, and actions like starting, accelerating, braking, and turning. The \"MyCar\" object is an instance of the \"Car\" class, with specific values assigned to its properties. The object can perform its behaviors by invoking its methods such as start(), accelerate(), brake(), and turn()."
   ]
  },
  {
   "cell_type": "code",
   "execution_count": 2,
   "id": "a69b22ac-6a6b-4737-8b4a-bd5cfc256428",
   "metadata": {},
   "outputs": [],
   "source": [
    "# Ans-2-"
   ]
  },
  {
   "cell_type": "code",
   "execution_count": 3,
   "id": "34df5c02-f583-4a58-b7e7-23ced231bb78",
   "metadata": {},
   "outputs": [
    {
     "ename": "SyntaxError",
     "evalue": "invalid syntax (3702041836.py, line 1)",
     "output_type": "error",
     "traceback": [
      "\u001b[0;36m  Cell \u001b[0;32mIn[3], line 1\u001b[0;36m\u001b[0m\n\u001b[0;31m    The four pillars of object-oriented programming (OOP) are:\u001b[0m\n\u001b[0m        ^\u001b[0m\n\u001b[0;31mSyntaxError\u001b[0m\u001b[0;31m:\u001b[0m invalid syntax\n"
     ]
    }
   ],
   "source": [
    "The four pillars of object-oriented programming (OOP) are:\n",
    "\n",
    "Encapsulation: This is the mechanism of wrapping up data and behavior (methods) into a single unit, which is called a class. The data is hidden from the outside world and can be accessed only through public methods. Encapsulation provides data security, abstraction, and better maintainability of code.\n",
    "\n",
    "Inheritance: This is the mechanism by which one class acquires the properties and behaviors of another class. It allows the creation of a new class that is a modified version of an existing class. Inheritance provides reusability of code, reduces code duplication, and helps in creating hierarchies of classes.\n",
    "\n",
    "Polymorphism: This is the ability of objects to take on many forms. It means that objects of different classes can be treated as objects of a common superclass. Polymorphism enables flexibility and extensibility of code, improves code readability and reduces complexity.\n",
    "\n",
    "Abstraction: This is the process of hiding the complexity of a system and presenting only the necessary details to the user. Abstraction is achieved by defining interfaces that specify the behavior of objects without exposing their implementation. Abstraction helps in designing modular and scalable systems, enhances code maintainability, and reduces dependencies between components."
   ]
  },
  {
   "cell_type": "code",
   "execution_count": 4,
   "id": "8d75d56b-70c5-4b90-8a06-2007747452b2",
   "metadata": {},
   "outputs": [
    {
     "ename": "SyntaxError",
     "evalue": "unterminated string literal (detected at line 4) (2204290352.py, line 4)",
     "output_type": "error",
     "traceback": [
      "\u001b[0;36m  Cell \u001b[0;32mIn[4], line 4\u001b[0;36m\u001b[0m\n\u001b[0;31m    Let's consider an example to understand the use of the __init__() function:\u001b[0m\n\u001b[0m       ^\u001b[0m\n\u001b[0;31mSyntaxError\u001b[0m\u001b[0;31m:\u001b[0m unterminated string literal (detected at line 4)\n"
     ]
    }
   ],
   "source": [
    "# Ans-3\n",
    "In Python, the __init__() function is a special method that is called when an object is created from a class. It is used to initialize the attributes or properties of an object. The __init__() function is optional, but it is commonly used to set the initial state of an object and provide default values for its properties.\n",
    "\n",
    "Let's consider an example to understand the use of the __init__() function:"
   ]
  },
  {
   "cell_type": "code",
   "execution_count": 5,
   "id": "d5487027-d949-4467-bb9c-426af4609a6d",
   "metadata": {},
   "outputs": [],
   "source": [
    "class Car:\n",
    "    def __init__(self, make, model, year):\n",
    "        self.make = make\n",
    "        self.model = model\n",
    "        self.year = year\n",
    "        self.speed = 0\n",
    "        \n",
    "    def accelerate(self, speed):\n",
    "        self.speed += speed\n",
    "        \n",
    "    def brake(self, speed):\n",
    "        self.speed -= speed\n",
    "        \n",
    "    def get_speed(self):\n",
    "        return self.speed"
   ]
  },
  {
   "cell_type": "code",
   "execution_count": 6,
   "id": "f7cfe2f7-547c-472f-91cf-00b5af5a69fc",
   "metadata": {},
   "outputs": [],
   "source": [
    "my_car = Car('Toyota', 'Camry', 2020)"
   ]
  },
  {
   "cell_type": "code",
   "execution_count": 7,
   "id": "a3c028fa-c07a-4b48-a461-6fb34af87382",
   "metadata": {},
   "outputs": [
    {
     "name": "stdout",
     "output_type": "stream",
     "text": [
      "Toyota\n",
      "Camry\n",
      "2020\n",
      "0\n"
     ]
    }
   ],
   "source": [
    "print(my_car.make)\n",
    "print(my_car.model) \n",
    "print(my_car.year)\n",
    "print(my_car.speed)"
   ]
  },
  {
   "cell_type": "code",
   "execution_count": 8,
   "id": "eafd5a20-ef88-493c-b611-1c6b8c5feaae",
   "metadata": {},
   "outputs": [
    {
     "ename": "SyntaxError",
     "evalue": "invalid syntax (3495353133.py, line 2)",
     "output_type": "error",
     "traceback": [
      "\u001b[0;36m  Cell \u001b[0;32mIn[8], line 2\u001b[0;36m\u001b[0m\n\u001b[0;31m    In object-oriented programming (OOP), self is a special parameter that refers to the instance of a class. It is used to access the attributes and methods of the object that is currently being manipulated.\u001b[0m\n\u001b[0m       ^\u001b[0m\n\u001b[0;31mSyntaxError\u001b[0m\u001b[0;31m:\u001b[0m invalid syntax\n"
     ]
    }
   ],
   "source": [
    "#Ans-4-\n",
    "In object-oriented programming (OOP), self is a special parameter that refers to the instance of a class. It is used to access the attributes and methods of the object that is currently being manipulated.\n",
    "\n",
    "When a method is called on an object, the object itself is passed as the first argument to the method. This argument is conventionally named self. The self parameter is used to differentiate between the attributes and methods of the object and the class itself.\n",
    "\n",
    "For example, consider the following class:\n",
    "    "
   ]
  },
  {
   "cell_type": "code",
   "execution_count": 10,
   "id": "d8882471-b75a-4e96-a97c-e3753cde8db6",
   "metadata": {},
   "outputs": [],
   "source": [
    "class Dog:\n",
    "    def __init__(self, name):\n",
    "        self.name = name\n",
    "        \n",
    "    def bark(self):\n",
    "        print(self.name + \" is barking!\")\n",
    "        \n",
    "        my_dog = Dog(\"Buddy\")\n",
    "        my_dog.bark()"
   ]
  },
  {
   "cell_type": "code",
   "execution_count": 11,
   "id": "016fa959-c58e-4e92-bbac-7ec62cd9743b",
   "metadata": {},
   "outputs": [
    {
     "ename": "SyntaxError",
     "evalue": "invalid syntax (1408439279.py, line 2)",
     "output_type": "error",
     "traceback": [
      "\u001b[0;36m  Cell \u001b[0;32mIn[11], line 2\u001b[0;36m\u001b[0m\n\u001b[0;31m    Inheritance is a fundamental concept in object-oriented programming (OOP) that allows a class to inherit properties and methods from another class. The class that is being inherited from is called the parent or superclass, and the class that inherits from it is called the child or subclass.\u001b[0m\n\u001b[0m                     ^\u001b[0m\n\u001b[0;31mSyntaxError\u001b[0m\u001b[0;31m:\u001b[0m invalid syntax\n"
     ]
    }
   ],
   "source": [
    "#Ans-5\n",
    "Inheritance is a fundamental concept in object-oriented programming (OOP) that allows a class to inherit properties and methods from another class. The class that is being inherited from is called the parent or superclass, and the class that inherits from it is called the child or subclass.\n",
    "\n",
    "There are four types of inheritance:\n",
    "\n",
    "Single inheritance: In this type of inheritance, a subclass inherits properties and methods from a single parent class."
   ]
  },
  {
   "cell_type": "code",
   "execution_count": 12,
   "id": "c666a2dd-9bf0-4584-bd40-8f265cfd95e3",
   "metadata": {},
   "outputs": [],
   "source": [
    "class Animal:\n",
    "    def __init__(self, name):\n",
    "        self.name = name\n",
    "    \n",
    "    def speak(self):\n",
    "        pass\n",
    "    \n",
    "class Dog(Animal):\n",
    "    def speak(self):\n",
    "        return \"Woof!\"\n",
    "\n",
    "my_dog = Dog(\"Buddy\")\n"
   ]
  },
  {
   "cell_type": "code",
   "execution_count": 13,
   "id": "a3e350be-eb1a-4f54-b6cb-dc9f654465bf",
   "metadata": {},
   "outputs": [
    {
     "name": "stdout",
     "output_type": "stream",
     "text": [
      "Buddy\n",
      "Woof!\n"
     ]
    }
   ],
   "source": [
    "print(my_dog.name)\n",
    "print(my_dog.speak())"
   ]
  },
  {
   "cell_type": "code",
   "execution_count": 14,
   "id": "e305e4d1-8b22-4a26-90f5-20d0ba4df54c",
   "metadata": {},
   "outputs": [
    {
     "ename": "SyntaxError",
     "evalue": "invalid syntax (2051016208.py, line 1)",
     "output_type": "error",
     "traceback": [
      "\u001b[0;36m  Cell \u001b[0;32mIn[14], line 1\u001b[0;36m\u001b[0m\n\u001b[0;31m    Multiple inheritance: In this type of inheritance, a subclass inherits properties and methods from multiple parent classes.\u001b[0m\n\u001b[0m             ^\u001b[0m\n\u001b[0;31mSyntaxError\u001b[0m\u001b[0;31m:\u001b[0m invalid syntax\n"
     ]
    }
   ],
   "source": [
    "Multiple inheritance: In this type of inheritance, a subclass inherits properties and methods from multiple parent classes."
   ]
  },
  {
   "cell_type": "code",
   "execution_count": 15,
   "id": "2091777b-b268-4ec1-8471-cea4aec03ad4",
   "metadata": {},
   "outputs": [],
   "source": [
    "class A:\n",
    "    def method1(self):\n",
    "        return \"Method 1 from A\"\n",
    "    \n",
    "class B:\n",
    "    def method2(self):\n",
    "        return \"Method 2 from B\"\n",
    "    \n",
    "class C(A, B):\n",
    "    def method3(self):\n",
    "        return \"Method 3 from C\""
   ]
  },
  {
   "cell_type": "code",
   "execution_count": 16,
   "id": "520d12e2-fc74-45bc-9c15-8d5f90f5c2f8",
   "metadata": {},
   "outputs": [
    {
     "name": "stdout",
     "output_type": "stream",
     "text": [
      "Method 1 from A\n",
      "Method 2 from B\n",
      "Method 3 from C\n"
     ]
    }
   ],
   "source": [
    "my_obj = C()\n",
    "print(my_obj.method1()) \n",
    "print(my_obj.method2())\n",
    "print(my_obj.method3()) "
   ]
  },
  {
   "cell_type": "code",
   "execution_count": 17,
   "id": "d97e9691-24f6-4352-94dc-f7b9f8493700",
   "metadata": {},
   "outputs": [
    {
     "ename": "SyntaxError",
     "evalue": "invalid syntax (2239133019.py, line 1)",
     "output_type": "error",
     "traceback": [
      "\u001b[0;36m  Cell \u001b[0;32mIn[17], line 1\u001b[0;36m\u001b[0m\n\u001b[0;31m    Hierarchical inheritance: In this type of inheritance, multiple child classes inherit properties and methods from a single parent class.\u001b[0m\n\u001b[0m                 ^\u001b[0m\n\u001b[0;31mSyntaxError\u001b[0m\u001b[0;31m:\u001b[0m invalid syntax\n"
     ]
    }
   ],
   "source": [
    "Hierarchical inheritance: In this type of inheritance, multiple child classes inherit properties and methods from a single parent class."
   ]
  },
  {
   "cell_type": "code",
   "execution_count": 18,
   "id": "b6153d29-8d63-46bd-8f73-ff0f1c2cfe3a",
   "metadata": {},
   "outputs": [],
   "source": [
    "class Animal:\n",
    "    def __init__(self, name):\n",
    "        self.name = name\n",
    "    \n",
    "    def speak(self):\n",
    "        pass\n",
    "    \n",
    "class Dog(Animal):\n",
    "    def speak(self):\n",
    "        return \"Woof!\"\n",
    "    \n",
    "class Cat(Animal):\n",
    "    def speak(self):\n",
    "        return \"Meow!\"\n",
    "    \n",
    "my_dog = Dog(\"Buddy\")\n",
    "my_cat = Cat(\"Misty\")"
   ]
  },
  {
   "cell_type": "code",
   "execution_count": 20,
   "id": "dd540696-e6b8-41b1-b944-2cf1ecdfde15",
   "metadata": {},
   "outputs": [
    {
     "name": "stdout",
     "output_type": "stream",
     "text": [
      "Buddy\n",
      "Woof!\n",
      "Misty\n",
      "Meow!\n"
     ]
    }
   ],
   "source": [
    "print(my_dog.name) \n",
    "print(my_dog.speak())\n",
    "print(my_cat.name) \n",
    "print(my_cat.speak())"
   ]
  },
  {
   "cell_type": "code",
   "execution_count": 21,
   "id": "607bbf15-7fa2-493a-8c7a-580b64416715",
   "metadata": {},
   "outputs": [
    {
     "ename": "SyntaxError",
     "evalue": "invalid syntax (765421927.py, line 1)",
     "output_type": "error",
     "traceback": [
      "\u001b[0;36m  Cell \u001b[0;32mIn[21], line 1\u001b[0;36m\u001b[0m\n\u001b[0;31m    Multilevel inheritance: In this type of inheritance, a subclass inherits properties and methods from a parent class, which in turn inherits from another parent class.\u001b[0m\n\u001b[0m               ^\u001b[0m\n\u001b[0;31mSyntaxError\u001b[0m\u001b[0;31m:\u001b[0m invalid syntax\n"
     ]
    }
   ],
   "source": [
    "Multilevel inheritance: In this type of inheritance, a subclass inherits properties and methods from a parent class, which in turn inherits from another parent class."
   ]
  },
  {
   "cell_type": "code",
   "execution_count": 22,
   "id": "b46c5141-3790-4bae-9d75-56b993f7edba",
   "metadata": {},
   "outputs": [],
   "source": [
    "class Animal:\n",
    "    def __init__(self, name):\n",
    "        self.name = name\n",
    "    \n",
    "    def speak(self):\n",
    "        pass\n",
    "    \n",
    "class Pet(Animal):\n",
    "    def play(self):\n",
    "        pass"
   ]
  },
  {
   "cell_type": "code",
   "execution_count": null,
   "id": "1c96ac3f-62af-40ad-9b9b-f9469e4c6606",
   "metadata": {},
   "outputs": [],
   "source": []
  }
 ],
 "metadata": {
  "kernelspec": {
   "display_name": "Python 3 (ipykernel)",
   "language": "python",
   "name": "python3"
  },
  "language_info": {
   "codemirror_mode": {
    "name": "ipython",
    "version": 3
   },
   "file_extension": ".py",
   "mimetype": "text/x-python",
   "name": "python",
   "nbconvert_exporter": "python",
   "pygments_lexer": "ipython3",
   "version": "3.10.8"
  }
 },
 "nbformat": 4,
 "nbformat_minor": 5
}
