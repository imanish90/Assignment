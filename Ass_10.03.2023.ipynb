{
 "cells": [
  {
   "cell_type": "code",
   "execution_count": null,
   "id": "eaea60e4-8a89-41c9-85ca-dbc4887a2b1e",
   "metadata": {},
   "outputs": [],
   "source": [
    "# Ans-1"
   ]
  },
  {
   "cell_type": "code",
   "execution_count": null,
   "id": "6ae8deae-b94b-461d-b42d-e60ff5a8946b",
   "metadata": {},
   "outputs": [],
   "source": [
    "Estimation statistics refers to a set of techniques used to estimate population parameters, such as mean, variance, or proportion, based on sample data. There are two main types of estimation in statistics: point estimate and interval estimate.\n",
    "\n",
    "A point estimate is a single value that is used to estimate the value of an unknown population parameter. Point estimates are usually computed from sample statistics, such as the sample mean, sample proportion, or sample variance. For example, if we want to estimate the average height of adult men in a city, we might randomly sample 100 men and compute the sample mean height. This sample mean is a point estimate of the population mean height.\n",
    "\n",
    "Interval estimate, on the other hand, is a range of values that is used to estimate the value of an unknown population parameter. The interval estimate is constructed by calculating a confidence interval, which is a range of values that is likely to contain the population parameter with a certain level of confidence. For example, a 95% confidence interval for the average height of adult men in a city might be constructed by calculating the mean height of a sample of 100 men and then constructing an interval around this sample mean that has a 95% probability of containing the population mean height. The resulting interval estimate provides more information about the possible range of values of the population parameter than a point estimate.\n",
    "\n",
    "In summary, estimation statistics is a set of techniques used to estimate population parameters based on sample data. Point estimate provides a single value estimate of the parameter, while interval estimate provides a range of values that is likely to contain the parameter with a certain level of confidence."
   ]
  },
  {
   "cell_type": "code",
   "execution_count": null,
   "id": "5946c442-043c-4414-8c1c-b3ec522b4f5b",
   "metadata": {},
   "outputs": [],
   "source": [
    "# Ans-2"
   ]
  },
  {
   "cell_type": "code",
   "execution_count": null,
   "id": "2b07d2e7-c8b1-4d3d-b855-2d4d1b0d51b9",
   "metadata": {},
   "outputs": [],
   "source": [
    "import math\n",
    "\n",
    "def estimate_population_mean(sample_mean, sample_std_dev, sample_size):\n",
    "    # Calculate the standard error of the mean\n",
    "    std_error_mean = sample_std_dev / math.sqrt(sample_size)\n",
    "    \n",
    "    # Calculate the margin of error for a 95% confidence interval\n",
    "    margin_of_error = 1.96 * std_error_mean\n",
    "    \n",
    "    # Calculate the lower and upper bounds of the confidence interval\n",
    "    lower_bound = sample_mean - margin_of_error\n",
    "    upper_bound = sample_mean + margin_of_error\n",
    "    \n",
    "    # Return the confidence interval as a tuple\n",
    "    return (lower_bound, upper_bound)"
   ]
  },
  {
   "cell_type": "code",
   "execution_count": null,
   "id": "ca559f10-4f78-4769-af6d-771b78668141",
   "metadata": {},
   "outputs": [],
   "source": [
    "This function takes three arguments:\n",
    "\n",
    "sample_mean: The sample mean that was calculated from the sample data\n",
    "sample_std_dev: The standard deviation of the sample data\n",
    "sample_size: The size of the sample data\n",
    "The function first calculates the standard error of the mean using the formula std_error_mean = sample_std_dev / sqrt(sample_size). It then calculates the margin of error for a 95% confidence interval using the value 1.96, which corresponds to the z-score for a 95% confidence level. The lower and upper bounds of the confidence interval are calculated by subtracting and adding the margin of error to the sample mean, respectively. Finally, the function returns the confidence interval as a tuple.\n",
    "\n",
    "Note that this function assumes that the population follows a normal distribution. If this assumption does not hold, different methods for estimating the population mean may be necessary."
   ]
  },
  {
   "cell_type": "code",
   "execution_count": null,
   "id": "dc90da19-9163-4eae-8103-a21af8033524",
   "metadata": {},
   "outputs": [],
   "source": [
    "# Ans-3"
   ]
  },
  {
   "cell_type": "code",
   "execution_count": null,
   "id": "edcbb11f-60e0-4607-8143-7568342d986d",
   "metadata": {},
   "outputs": [],
   "source": [
    "Hypothesis testing is a statistical method that is used to evaluate the plausibility of a hypothesis about a population parameter, based on sample data. The process involves formulating a null hypothesis (H0) and an alternative hypothesis (Ha), and then using sample data to determine whether there is sufficient evidence to reject the null hypothesis in favor of the alternative hypothesis.\n",
    "\n",
    "The null hypothesis typically represents a skeptical stance or the status quo, while the alternative hypothesis represents a new or alternative claim. Hypothesis testing allows researchers to make informed decisions based on data, and to determine whether the observed differences between groups or variables are statistically significant or due to chance.\n",
    "\n",
    "Hypothesis testing is used in a wide range of fields, including medicine, psychology, economics, and engineering. It can be used to test hypotheses about means, variances, proportions, correlations, and other population parameters. Hypothesis testing is particularly important in scientific research, as it allows researchers to draw conclusions about the population based on sample data, and to determine the reliability and validity of their findings.\n",
    "\n",
    "The importance of hypothesis testing lies in its ability to provide a systematic and objective approach to testing hypotheses, and to ensure that research findings are based on sound statistical principles. Hypothesis testing helps researchers to avoid making false conclusions based on random variation or sampling error, and to make sure that their findings are generalizable to the population of interest. It also allows researchers to compare different groups or variables, and to evaluate the effectiveness of interventions or treatments.\n",
    "\n",
    "Overall, hypothesis testing plays a critical role in scientific research, and provides a powerful tool for drawing conclusions based on empirical evidence."
   ]
  },
  {
   "cell_type": "code",
   "execution_count": null,
   "id": "e1cafa50-7254-4130-820a-6863771e7e0d",
   "metadata": {},
   "outputs": [],
   "source": [
    "# Ans-4"
   ]
  },
  {
   "cell_type": "code",
   "execution_count": null,
   "id": "fafe7738-707d-4ed0-97fe-a7f0d9457b74",
   "metadata": {},
   "outputs": [],
   "source": [
    "Here is an example of a hypothesis that states whether the average weight of male college students is greater than the average weight of female college students:\n",
    "\n",
    "Null Hypothesis (H0): The average weight of male college students is equal to or less than the average weight of female college students.\n",
    "\n",
    "Alternative Hypothesis (Ha): The average weight of male college students is greater than the average weight of female college students.\n",
    "\n",
    "To test this hypothesis, we would need to collect a random sample of male and female college students and calculate the sample means for each group. We would then use a hypothesis test, such as a t-test or z-test, to determine whether the observed difference in sample means is statistically significant.\n",
    "\n",
    "Note that the specific hypothesis and choice of test may vary depending on the research question, population, and sample size. Additionally, it's important to ensure that the sample is representative of the population of interest and that the assumptions of the chosen test are met."
   ]
  },
  {
   "cell_type": "code",
   "execution_count": null,
   "id": "11decec6-1f7f-492b-a33e-940cbdefca11",
   "metadata": {},
   "outputs": [],
   "source": [
    "# Ans-5"
   ]
  },
  {
   "cell_type": "code",
   "execution_count": null,
   "id": "a8919ee6-c4e8-440a-bcb5-d17ed4b19a7d",
   "metadata": {},
   "outputs": [],
   "source": [
    "Python script to conduct a hypothesis test on the difference between two population means, given a sample from each population:"
   ]
  },
  {
   "cell_type": "code",
   "execution_count": null,
   "id": "53103f8f-026c-4643-9416-7882c0eeb788",
   "metadata": {},
   "outputs": [],
   "source": [
    "import numpy as np\n",
    "from scipy.stats import ttest_ind\n",
    "\n",
    "# Generate random samples from two populations\n",
    "pop1 = np.random.normal(10, 2, 100)  # mean = 10, std dev = 2, n = 100\n",
    "pop2 = np.random.normal(12, 2, 100)  # mean = 12, std dev = 2, n = 100\n",
    "\n",
    "# Calculate the sample means and standard deviations\n",
    "sample_mean1 = np.mean(pop1)\n",
    "sample_std1 = np.std(pop1)\n",
    "sample_size1 = len(pop1)\n",
    "\n",
    "sample_mean2 = np.mean(pop2)\n",
    "sample_std2 = np.std(pop2)\n",
    "sample_size2 = len(pop2)\n",
    "\n",
    "# Conduct a two-sample t-test assuming unequal variances\n",
    "t_stat, p_val = ttest_ind(pop1, pop2, equal_var=False)\n",
    "\n",
    "# Print the results\n",
    "print(\"Sample 1 mean: {:.2f}, standard deviation: {:.2f}, sample size: {}\".format(sample_mean1, sample_std1, sample_size1))\n",
    "print(\"Sample 2 mean: {:.2f}, standard deviation: {:.2f}, sample size: {}\".format(sample_mean2, sample_std2, sample_size2))\n",
    "print(\"T-statistic: {:.2f}\".format(t_stat))\n",
    "print(\"P-value: {:.4f}\".format(p_val))"
   ]
  },
  {
   "cell_type": "code",
   "execution_count": null,
   "id": "bedb4e25-a2fb-4e53-a3e7-e6ec476e4cf1",
   "metadata": {},
   "outputs": [],
   "source": [
    "This script generates two random samples from normal distributions with mean 10 and 12, respectively, and standard deviation 2, with each sample consisting of 100 observations. It then calculates the sample means, standard deviations, and sample sizes for each population, and conducts a two-sample t-test assuming unequal variances using the ttest_ind function from the scipy.stats module.\n",
    "\n",
    "The ttest_ind function returns two values: the t-statistic and the p-value. The t-statistic measures the difference between the sample means relative to the variability within the samples, and the p-value indicates the probability of observing a t-statistic as extreme or more extreme than the observed value, assuming the null hypothesis is true.\n",
    "\n",
    "Note that this script assumes that the populations have unequal variances. If the variances are assumed to be equal, you can set the equal_var parameter in the ttest_ind function to True. Additionally, the specific hypothesis and choice of test may vary depending on the research question and population of interest."
   ]
  },
  {
   "cell_type": "code",
   "execution_count": null,
   "id": "30f6acd5-a966-4b80-85c8-76ec0c9831cd",
   "metadata": {},
   "outputs": [],
   "source": [
    "# Ans-6"
   ]
  },
  {
   "cell_type": "code",
   "execution_count": null,
   "id": "4859d1d1-1590-4235-948e-848a1802d729",
   "metadata": {},
   "outputs": [],
   "source": [
    "A null hypothesis is a statement that assumes that there is no difference or no relationship between variables in the population of interest. The alternative hypothesis, on the other hand, is a statement that suggests that there is a difference or a relationship between variables in the population. Hypothesis testing involves using sample data to determine whether there is enough evidence to reject the null hypothesis in favor of the alternative hypothesis.\n",
    "\n",
    "Here are some examples of null and alternative hypotheses:\n",
    "\n",
    "Null hypothesis: There is no difference in the mean test scores of students who study with music versus those who study in silence.\n",
    "Alternative hypothesis: Students who study with music have higher mean test scores than those who study in silence.\n",
    "\n",
    "Null hypothesis: There is no relationship between age and job satisfaction.\n",
    "Alternative hypothesis: Older employees have higher job satisfaction than younger employees.\n",
    "\n",
    "Null hypothesis: There is no difference in the proportion of male and female employees who take sick leave.\n",
    "Alternative hypothesis: A higher proportion of female employees take sick leave than male employees.\n",
    "\n",
    "Null hypothesis: There is no difference in the effectiveness of two different weight loss programs.\n",
    "Alternative hypothesis: One weight loss program is more effective than the other.\n",
    "\n",
    "Null hypothesis: There is no correlation between study time and GPA.\n",
    "Alternative hypothesis: Students who study more have higher GPAs than students who study less.\n",
    "\n",
    "Note that in each example, the null hypothesis assumes that there is no difference or no relationship between variables, while the alternative hypothesis suggests that there is a difference or a relationship. The specific hypotheses may vary depending on the research question and population of interest."
   ]
  },
  {
   "cell_type": "code",
   "execution_count": null,
   "id": "c9d0700d-9517-4657-932f-1368e324090a",
   "metadata": {},
   "outputs": [],
   "source": [
    "# Ans-7"
   ]
  },
  {
   "cell_type": "code",
   "execution_count": null,
   "id": "a1bc9a1d-6f78-4c99-95c5-236e132038f9",
   "metadata": {},
   "outputs": [],
   "source": [
    "Hypothesis testing is a method used to determine whether there is enough evidence to reject a null hypothesis in favor of an alternative hypothesis. Here are the general steps involved in hypothesis testing:\n",
    "\n",
    "State the null and alternative hypotheses: The first step is to clearly define the null hypothesis and the alternative hypothesis. The null hypothesis assumes that there is no difference or no relationship between variables, while the alternative hypothesis suggests that there is a difference or a relationship.\n",
    "\n",
    "Choose a significance level: The significance level, also known as alpha, is the probability of rejecting the null hypothesis when it is actually true. It is usually set to 0.05, which means there is a 5% chance of rejecting the null hypothesis when it is actually true.\n",
    "\n",
    "Determine the test statistic: The test statistic is a measure of how far the sample data deviates from what would be expected under the null hypothesis. The choice of test statistic depends on the type of hypothesis being tested and the level of measurement of the variables.\n",
    "\n",
    "Calculate the p-value: The p-value is the probability of observing a test statistic as extreme or more extreme than the observed value, assuming the null hypothesis is true. If the p-value is less than or equal to the significance level, then the null hypothesis is rejected in favor of the alternative hypothesis.\n",
    "\n",
    "Interpret the results: After calculating the p-value, the results are interpreted to determine whether there is enough evidence to reject the null hypothesis. If the null hypothesis is rejected, it means that there is enough evidence to suggest that the alternative hypothesis is true.\n",
    "\n",
    "Draw conclusions: Based on the results of the hypothesis test, conclusions are drawn about the population of interest. It is important to remember that hypothesis testing provides evidence for or against the null hypothesis, but it does not prove or disprove it.\n",
    "\n",
    "These are the general steps involved in hypothesis testing. The specific details and calculations may vary depending on the research question and population of interest."
   ]
  },
  {
   "cell_type": "code",
   "execution_count": null,
   "id": "a7ca5332-8c76-408d-945b-a711c2496134",
   "metadata": {},
   "outputs": [],
   "source": [
    "# Ans-8"
   ]
  },
  {
   "cell_type": "code",
   "execution_count": null,
   "id": "ea231c0d-e3d2-4f2c-b419-7231b3443f0a",
   "metadata": {},
   "outputs": [],
   "source": [
    "The p-value, also known as the probability value, is a measure of the evidence against the null hypothesis in hypothesis testing. It is the probability of observing a test statistic as extreme or more extreme than the observed value, assuming the null hypothesis is true. In other words, it represents the likelihood of obtaining the observed result or a more extreme result, if the null hypothesis is actually true.\n",
    "\n",
    "The significance of the p-value in hypothesis testing is that it helps us determine whether there is enough evidence to reject the null hypothesis. If the p-value is less than or equal to the significance level (usually set at 0.05), then the null hypothesis is rejected in favor of the alternative hypothesis. This means that the observed result is unlikely to have occurred by chance alone, and there is enough evidence to suggest that the alternative hypothesis is true.\n",
    "\n",
    "On the other hand, if the p-value is greater than the significance level, then the null hypothesis is not rejected. This means that the observed result is likely to have occurred by chance alone, and there is not enough evidence to suggest that the alternative hypothesis is true.\n",
    "\n",
    "It is important to note that the p-value is not a measure of the size of the effect or the importance of the result. It only indicates the strength of evidence against the null hypothesis. Therefore, it is necessary to interpret the p-value in the context of the research question and the population of interest."
   ]
  },
  {
   "cell_type": "code",
   "execution_count": null,
   "id": "01904c9d-c441-4445-8e69-6ddf049ef0d2",
   "metadata": {},
   "outputs": [],
   "source": [
    "# Ans-9"
   ]
  },
  {
   "cell_type": "code",
   "execution_count": null,
   "id": "2a13e546-f86a-4c81-baa1-015ea2e50b76",
   "metadata": {},
   "outputs": [],
   "source": [
    "Python code that generates a Student's t-distribution plot using matplotlib library with 10 degrees of freedom:"
   ]
  },
  {
   "cell_type": "code",
   "execution_count": null,
   "id": "824e7fb8-d3a2-4ab7-9b34-c023d9d36c8e",
   "metadata": {},
   "outputs": [],
   "source": [
    "import numpy as np\n",
    "import matplotlib.pyplot as plt\n",
    "\n",
    "df = 10  # degrees of freedom\n",
    "x = np.linspace(-4, 4, 1000)\n",
    "y = stats.t.pdf(x, df)\n",
    "\n",
    "plt.plot(x, y, label=f\"t-distribution with {df} df\")\n",
    "plt.legend()\n",
    "plt.title(\"Student's t-distribution\")\n",
    "plt.xlabel(\"x\")\n",
    "plt.ylabel(\"Probability density\")\n",
    "plt.show()"
   ]
  },
  {
   "cell_type": "code",
   "execution_count": null,
   "id": "523e3ee7-ba37-4a3b-958f-3c6f825d1a70",
   "metadata": {},
   "outputs": [],
   "source": [
    "In this code, we first import numpy and matplotlib.pyplot libraries. Then, we define the degrees of freedom parameter as df = 10. We generate 1000 evenly spaced values between -4 and 4 using np.linspace(-4, 4, 1000). We use the stats.t.pdf(x, df) function from the scipy.stats library to calculate the probability density values for each x value. Finally, we plot the t-distribution curve with the label \"t-distribution with 10 df\", and add a title and labels for the x and y axes using the plt.title(), plt.xlabel(), and plt.ylabel() functions respectively. The resulting plot should show a symmetric bell-shaped curve with a peak at x=0 and fat tails."
   ]
  },
  {
   "cell_type": "code",
   "execution_count": null,
   "id": "251f0e8f-458b-4ead-8d6c-6832cf5f527c",
   "metadata": {},
   "outputs": [],
   "source": [
    "# Ans-10"
   ]
  },
  {
   "cell_type": "code",
   "execution_count": null,
   "id": "b5093e45-e5b4-4f2c-878d-dfe45e154447",
   "metadata": {},
   "outputs": [],
   "source": [
    "Python code that calculates the two-sample t-test for independent samples:"
   ]
  },
  {
   "cell_type": "code",
   "execution_count": null,
   "id": "6e45b994-67a7-41a5-bb38-eeb7486dae0d",
   "metadata": {},
   "outputs": [],
   "source": [
    "import numpy as np\n",
    "from scipy.stats import ttest_ind\n",
    "\n",
    "# Generate two random samples of equal size\n",
    "sample1 = np.random.normal(loc=10, scale=2, size=50)\n",
    "sample2 = np.random.normal(loc=12, scale=2, size=50)\n",
    "\n",
    "# Calculate the t-test\n",
    "t_stat, p_val = ttest_ind(sample1, sample2)\n",
    "\n",
    "# Print the results\n",
    "print(\"Two-sample t-test results:\")\n",
    "print(f\"t-statistic = {t_stat:.4f}\")\n",
    "print(f\"p-value = {p_val:.4f}\")"
   ]
  },
  {
   "cell_type": "code",
   "execution_count": null,
   "id": "6c00b070-7bd8-4366-a963-523969548cfe",
   "metadata": {},
   "outputs": [],
   "source": [
    "In this code, we first import numpy and the ttest_ind function from the scipy.stats library. We then generate two random samples of equal size using the np.random.normal function, with mean loc set to 10 and 12 respectively, and standard deviation scale set to 2 for both samples.\n",
    "\n",
    "Next, we use the ttest_ind function to calculate the t-statistic and p-value for the two samples. The ttest_ind function takes the two samples as inputs and assumes that they are independent and have equal variances by default.\n",
    "\n",
    "Finally, we print the results of the t-test, including the t-statistic and p-value. If the p-value is less than the significance level (usually set to 0.05), we can reject the null hypothesis that the population means are equal and conclude that there is a significant difference between the means of the two populations."
   ]
  },
  {
   "cell_type": "code",
   "execution_count": null,
   "id": "e6c2e6d9-345a-46d5-8770-1d99979aa58d",
   "metadata": {},
   "outputs": [],
   "source": [
    "# Ans-11"
   ]
  },
  {
   "cell_type": "code",
   "execution_count": null,
   "id": "8a8f181b-08f5-415c-b43c-006bb3a5d68a",
   "metadata": {},
   "outputs": [],
   "source": [
    "Student's t-distribution is a probability distribution that is used to estimate the population mean when the sample size is small (less than 30) or the population standard deviation is unknown. It is named after the pseudonym \"Student\" used by William Sealy Gosset, who first introduced it in 1908.\n",
    "\n",
    "The t-distribution is similar in shape to the normal distribution but has heavier tails, which means that it has a greater probability of producing extreme values. The shape of the t-distribution changes with the degrees of freedom (df), which is the sample size minus one. As the sample size increases, the t-distribution approaches the normal distribution.\n",
    "\n",
    "The t-distribution is commonly used in hypothesis testing when the sample size is small or when the population standard deviation is unknown. It is used to calculate the t-statistic, which is the difference between the sample mean and the hypothesized population mean, divided by the standard error of the mean. The t-statistic is then compared to the critical values of the t-distribution to determine the p-value and whether to reject or fail to reject the null hypothesis.\n",
    "\n",
    "In summary, the t-distribution is used when:\n",
    "\n",
    "The sample size is small (less than 30).\n",
    "The population standard deviation is unknown.\n",
    "The sample is randomly drawn from a normally distributed population or can be assumed to be approximately normal.\n",
    "The t-distribution is an important tool in statistical inference and hypothesis testing, particularly in cases where the normal distribution assumption may not be appropriate."
   ]
  },
  {
   "cell_type": "code",
   "execution_count": null,
   "id": "53dd902e-e211-4d79-bb25-025125cd75e6",
   "metadata": {},
   "outputs": [],
   "source": [
    "# Ans-12"
   ]
  },
  {
   "cell_type": "code",
   "execution_count": null,
   "id": "0db6e091-0e4b-4c95-9c49-8ceed6a85f53",
   "metadata": {},
   "outputs": [],
   "source": [
    "The t-statistic is a measure of how many standard errors the sample mean is away from the hypothesized population mean, and it is used in hypothesis testing to determine whether the difference between the sample mean and the population mean is significant.\n",
    "\n",
    "The formula for the t-statistic is:\n",
    "\n",
    "t = (x̄ - μ) / (s / sqrt(n))\n",
    "\n",
    "where:\n",
    "\n",
    "x̄ is the sample mean\n",
    "μ is the hypothesized population mean\n",
    "s is the sample standard deviation\n",
    "n is the sample size\n",
    "The t-statistic formula is based on the central limit theorem, which states that for a large enough sample size, the sample mean follows a normal distribution. The t-statistic formula scales the difference between the sample mean and the population mean by the standard error of the mean, which is the standard deviation of the sample divided by the square root of the sample size.\n",
    "\n",
    "The resulting t-value is then compared to the critical values of the t-distribution to determine the p-value and whether to reject or fail to reject the null hypothesis. If the t-value is greater than the critical value, we can reject the null hypothesis and conclude that the difference between the sample mean and the population mean is statistically significant."
   ]
  },
  {
   "cell_type": "code",
   "execution_count": null,
   "id": "cea0e2a4-4791-4c75-abbb-2e32fd108172",
   "metadata": {},
   "outputs": [],
   "source": [
    "# Ans-13"
   ]
  },
  {
   "cell_type": "code",
   "execution_count": null,
   "id": "5b725b8e-31ad-4479-a480-281fdb115a75",
   "metadata": {},
   "outputs": [],
   "source": [
    "We can use the t-distribution and the sample mean and standard deviation to calculate the 95% confidence interval for the population mean revenue as follows:\n",
    "\n",
    "First, we need to calculate the standard error of the mean, which is the standard deviation of the sample divided by the square root of the sample size:\n",
    "\n",
    "standard error of the mean = standard deviation / sqrt(sample size) = $50 / sqrt(50) = $7.07\n",
    "\n",
    "Next, we can calculate the t-value for a 95% confidence level with a degrees of freedom of 49 (sample size - 1) using a t-table or a calculator:\n",
    "\n",
    "t-value = 2.009 (from t-table with df = 49 and alpha = 0.05/2)\n",
    "\n",
    "Finally, we can calculate the confidence interval for the population mean revenue by multiplying the standard error of the mean by the t-value and adding and subtracting the result from the sample mean:\n",
    "\n",
    "lower limit = sample mean - (t-value * standard error of the mean) = $500 - (2.009 * $7.07) = $485.32\n",
    "upper limit = sample mean + (t-value * standard error of the mean) = $500 + (2.009 * $7.07) = $514.68\n",
    "\n",
    "Therefore, we can say with 95% confidence that the true population mean revenue for the coffee shop falls within the range of $485.32 to $514.68 based on the given sample."
   ]
  },
  {
   "cell_type": "code",
   "execution_count": null,
   "id": "207dcc36-0195-41f2-ae3c-a5a3ed6ae10c",
   "metadata": {},
   "outputs": [],
   "source": [
    "# Ans-14"
   ]
  },
  {
   "cell_type": "code",
   "execution_count": null,
   "id": "37ac6c49-2fdb-4c5c-8dc2-d44f673cae14",
   "metadata": {},
   "outputs": [],
   "source": [
    "To test the hypothesis with a significance level of 0.05, we can use a one-sample t-test with the following null and alternative hypotheses:\n",
    "\n",
    "Null hypothesis: The population mean decrease in blood pressure is not significantly different from 10 mmHg. H0: μ = 10\n",
    "Alternative hypothesis: The population mean decrease in blood pressure is significantly less than 10 mmHg. Ha: μ < 10\n",
    "We can calculate the t-value using the formula:\n",
    "\n",
    "t = (x̄ - μ) / (s / sqrt(n))\n",
    "\n",
    "where:\n",
    "\n",
    "x̄ is the sample mean decrease in blood pressure\n",
    "μ is the hypothesized population mean decrease in blood pressure (10 mmHg in this case)\n",
    "s is the sample standard deviation\n",
    "n is the sample size\n",
    "Plugging in the values, we get:\n",
    "\n",
    "t = (8 - 10) / (3 / sqrt(100)) = -4.47\n",
    "\n",
    "The degrees of freedom for this test is (n - 1) = 99. We can find the critical t-value for a one-tailed test with a significance level of 0.05 and 99 degrees of freedom using a t-table or a calculator. The critical t-value is -1.660.\n",
    "\n",
    "Since the calculated t-value (-4.47) is less than the critical t-value (-1.660), we can reject the null hypothesis and conclude that the population mean decrease in blood pressure is significantly less than 10 mmHg at the 0.05 significance level.\n",
    "\n",
    "Therefore, we can say that there is evidence to support the researcher's hypothesis that the new drug decreases blood pressure by more than 10 mmHg."
   ]
  },
  {
   "cell_type": "code",
   "execution_count": null,
   "id": "1b6455bc-0820-45d5-a008-f4ea01ed65ad",
   "metadata": {},
   "outputs": [],
   "source": [
    "# Ans-15"
   ]
  },
  {
   "cell_type": "code",
   "execution_count": null,
   "id": "dde2d0ff-aae6-4256-b524-1c8c3e7ae60b",
   "metadata": {},
   "outputs": [],
   "source": [
    "To test the hypothesis that the true mean weight of the products is less than 5 pounds with a significance level of 0.01, we can use a one-sample t-test with the following null and alternative hypotheses:\n",
    "\n",
    "Null hypothesis: The true mean weight of the products is not significantly less than 5 pounds. H0: μ >= 5\n",
    "Alternative hypothesis: The true mean weight of the products is significantly less than 5 pounds. Ha: μ < 5\n",
    "We can calculate the t-value using the formula:\n",
    "\n",
    "t = (x̄ - μ) / (s / sqrt(n))\n",
    "\n",
    "where:\n",
    "\n",
    "x̄ is the sample mean weight\n",
    "μ is the hypothesized population mean weight (5 pounds in this case)\n",
    "s is the sample standard deviation\n",
    "n is the sample size\n",
    "Plugging in the values, we get:\n",
    "\n",
    "t = (4.8 - 5) / (0.5 / sqrt(25)) = -2.00\n",
    "\n",
    "The degrees of freedom for this test is (n - 1) = 24. We can find the critical t-value for a one-tailed test with a significance level of 0.01 and 24 degrees of freedom using a t-table or a calculator. The critical t-value is -2.492.\n",
    "\n",
    "Since the calculated t-value (-2.00) is greater than the critical t-value (-2.492), we fail to reject the null hypothesis and conclude that there is not enough evidence to support the claim that the true mean weight of the products is less than 5 pounds at the 0.01 significance level.\n",
    "\n",
    "Therefore, we can say that we do not have sufficient evidence to reject the company's claim that the mean weight of the products is 5 pounds."
   ]
  },
  {
   "cell_type": "code",
   "execution_count": null,
   "id": "edef7fb8-780e-4916-916b-bda4420b965c",
   "metadata": {},
   "outputs": [],
   "source": [
    "# Ans-16"
   ]
  },
  {
   "cell_type": "code",
   "execution_count": null,
   "id": "7e0ceff8-75f4-4999-80f3-b5de66dba05d",
   "metadata": {},
   "outputs": [],
   "source": [
    "To test the hypothesis that the population means for the two groups are equal with a significance level of 0.01, we can use a two-sample t-test with the following null and alternative hypotheses:\n",
    "\n",
    "Null hypothesis: The population means for the two groups are equal. H0: μ1 = μ2\n",
    "Alternative hypothesis: The population means for the two groups are not equal. Ha: μ1 ≠ μ2\n",
    "We can calculate the t-value using the formula:\n",
    "\n",
    "t = (x̄1 - x̄2) / sqrt((s1^2 / n1) + (s2^2 / n2))\n",
    "\n",
    "where:\n",
    "\n",
    "x̄1 and x̄2 are the sample means for the two groups\n",
    "s1 and s2 are the sample standard deviations for the two groups\n",
    "n1 and n2 are the sample sizes for the two groups\n",
    "Plugging in the values, we get:\n",
    "\n",
    "t = (80 - 75) / sqrt((10^2 / 30) + (8^2 / 40)) = 2.22\n",
    "\n",
    "The degrees of freedom for this test is calculated using the formula:\n",
    "\n",
    "df = (s1^2 / n1 + s2^2 / n2)^2 / ( (s1^2 / n1)^2 / (n1 - 1) + (s2^2 / n2)^2 / (n2 - 1))\n",
    "\n",
    "Plugging in the values, we get:\n",
    "\n",
    "df = (10^2 / 30 + 8^2 / 40)^2 / ((10^2 / 30)^2 / 29 + (8^2 / 40)^2 / 39) = 65.32\n",
    "\n",
    "We can find the critical t-value for a two-tailed test with a significance level of 0.01 and 65 degrees of freedom using a t-table or a calculator. The critical t-value is ±2.614.\n",
    "\n",
    "Since the calculated t-value (2.22) is less than the critical t-value (±2.614), we fail to reject the null hypothesis and conclude that there is not enough evidence to support the claim that the population means for the two groups are different at the 0.01 significance level.\n",
    "\n",
    "Therefore, we can say that we do not have sufficient evidence to reject the hypothesis that the population means for the two groups are equal."
   ]
  },
  {
   "cell_type": "code",
   "execution_count": null,
   "id": "826c2ec4-1eba-4669-8317-168f57778455",
   "metadata": {},
   "outputs": [],
   "source": [
    "# Ans-17"
   ]
  },
  {
   "cell_type": "code",
   "execution_count": null,
   "id": "fd21b9a7-df8a-4922-872e-0f0ad94ff7b0",
   "metadata": {},
   "outputs": [],
   "source": [
    "To estimate the population mean with a 99% confidence interval, we can use the following formula:\n",
    "\n",
    "Confidence interval = sample mean ± (critical value) x (standard error)\n",
    "\n",
    "where the critical value can be obtained from the t-distribution table with (n-1) degrees of freedom and a 99% confidence level, and the standard error is calculated as the standard deviation of the sample divided by the square root of the sample size.\n",
    "\n",
    "So, in this case:\n",
    "\n",
    "Sample size (n) = 50\n",
    "Sample mean = 4\n",
    "Sample standard deviation = 1.5\n",
    "The degrees of freedom for a sample size of 50 is (50-1) = 49. From the t-distribution table with 49 degrees of freedom and a 99% confidence level, the critical value is 2.681.\n",
    "\n",
    "The standard error is calculated as follows:\n",
    "\n",
    "Standard error = sample standard deviation / sqrt(sample size) = 1.5 / sqrt(50) = 0.2121\n",
    "\n",
    "Now we can substitute the values into the formula:\n",
    "\n",
    "Confidence interval = 4 ± (2.681) x (0.2121) = [3.424, 4.576]\n",
    "\n",
    "Therefore, we can say with 99% confidence that the population mean number of ads watched by viewers during a TV program is between 3.424 and 4.576."
   ]
  },
  {
   "cell_type": "code",
   "execution_count": null,
   "id": "9c0051d5-2be5-4c6f-b149-2551a5ff8b27",
   "metadata": {},
   "outputs": [],
   "source": []
  },
  {
   "cell_type": "code",
   "execution_count": null,
   "id": "3025dda4-b22f-4753-ac97-0686ab02f7b6",
   "metadata": {},
   "outputs": [],
   "source": []
  },
  {
   "cell_type": "code",
   "execution_count": null,
   "id": "979e0681-1d3e-47c6-8cad-014934c3e8da",
   "metadata": {},
   "outputs": [],
   "source": []
  },
  {
   "cell_type": "code",
   "execution_count": null,
   "id": "1351ee7f-cde0-42f3-9859-6bc29defb152",
   "metadata": {},
   "outputs": [],
   "source": []
  },
  {
   "cell_type": "code",
   "execution_count": null,
   "id": "4ddd13ad-c177-4155-9644-34aaf8d6a911",
   "metadata": {},
   "outputs": [],
   "source": []
  },
  {
   "cell_type": "code",
   "execution_count": null,
   "id": "67e6f7be-f10d-4bed-93d7-5bd9626c2d11",
   "metadata": {},
   "outputs": [],
   "source": []
  },
  {
   "cell_type": "code",
   "execution_count": null,
   "id": "b60faff1-5ecf-4f20-9e48-8023d2864cf8",
   "metadata": {},
   "outputs": [],
   "source": []
  },
  {
   "cell_type": "code",
   "execution_count": null,
   "id": "80f5ff9f-2b2a-495a-a99e-e6f9bad15bf6",
   "metadata": {},
   "outputs": [],
   "source": []
  },
  {
   "cell_type": "code",
   "execution_count": null,
   "id": "b799dff8-2810-4bd0-9122-b7eab087683f",
   "metadata": {},
   "outputs": [],
   "source": []
  }
 ],
 "metadata": {
  "kernelspec": {
   "display_name": "Python 3 (ipykernel)",
   "language": "python",
   "name": "python3"
  },
  "language_info": {
   "codemirror_mode": {
    "name": "ipython",
    "version": 3
   },
   "file_extension": ".py",
   "mimetype": "text/x-python",
   "name": "python",
   "nbconvert_exporter": "python",
   "pygments_lexer": "ipython3",
   "version": "3.10.8"
  }
 },
 "nbformat": 4,
 "nbformat_minor": 5
}
