{
 "cells": [
  {
   "cell_type": "code",
   "execution_count": null,
   "id": "7c38ed2c-105f-4d5c-a6ec-c58c156ff596",
   "metadata": {},
   "outputs": [],
   "source": [
    "# Ans-1"
   ]
  },
  {
   "cell_type": "code",
   "execution_count": null,
   "id": "d25a15fe-5af2-4f3b-a7cd-f0b329ff74a3",
   "metadata": {},
   "outputs": [],
   "source": [
    "A probability density function (PDF) is a mathematical function that describes the likelihood of a random variable taking on a specific value or range of values.\n",
    "\n",
    "In other words, the PDF gives the probability of the random variable being within a certain range of values, rather than at a specific value. The area under the curve of the PDF between two values represents the probability of the random variable being between those two values.\n",
    "\n",
    "The PDF is often used to describe continuous random variables, such as the height of a person or the temperature of a room, and is defined as the derivative of the cumulative distribution function (CDF) of the random variable.\n",
    "\n",
    "The PDF must satisfy certain conditions, such as being non-negative and having a total area under the curve equal to one. The PDF can be used to calculate the mean and variance of the random variable, as well as to calculate probabilities of certain events occurring."
   ]
  },
  {
   "cell_type": "code",
   "execution_count": null,
   "id": "02cd33cb-fac0-42c7-923a-2897a19074c6",
   "metadata": {},
   "outputs": [],
   "source": [
    "# Ans-2"
   ]
  },
  {
   "cell_type": "code",
   "execution_count": null,
   "id": "30685144-f626-4b28-b446-e2be53b9dc38",
   "metadata": {},
   "outputs": [],
   "source": [
    "There are several types of probability distributions, each with its own unique characteristics and uses. Some of the most common types of probability distributions include:\n",
    "\n",
    "Normal distribution: Also known as the Gaussian distribution, it is a bell-shaped curve that is symmetric around the mean. Many natural phenomena such as heights, weights, and IQ scores follow this distribution.\n",
    "\n",
    "Binomial distribution: This distribution describes the number of successes in a fixed number of independent trials, where each trial has only two possible outcomes (success or failure).\n",
    "\n",
    "Poisson distribution: This distribution describes the probability of a certain number of events occurring in a fixed interval of time or space when the events are rare and independent.\n",
    "\n",
    "Exponential distribution: This distribution describes the time between two consecutive events occurring in a Poisson process.\n",
    "\n",
    "Uniform distribution: This distribution describes the probability of a random variable taking on any value within a fixed interval with equal likelihood.\n",
    "\n",
    "Gamma distribution: This distribution is often used to model waiting times and represents the sum of independent exponential random variables.\n",
    "\n",
    "Beta distribution: This distribution is a continuous probability distribution defined on the interval [0, 1] and is often used to represent probabilities.\n",
    "\n",
    "These are just a few examples of probability distributions, and there are many more types of distributions that are used in different fields of study."
   ]
  },
  {
   "cell_type": "code",
   "execution_count": null,
   "id": "864b1f9c-e0dc-4a58-8f7e-b9f201a5412e",
   "metadata": {},
   "outputs": [],
   "source": [
    "# Ans-3"
   ]
  },
  {
   "cell_type": "code",
   "execution_count": null,
   "id": "a0f88faf-3581-403f-8161-6e4f6056ddea",
   "metadata": {},
   "outputs": [],
   "source": [
    "Sure, here's an example Python function that calculates the probability density function of a normal distribution at a given point, given its mean and standard deviation:"
   ]
  },
  {
   "cell_type": "code",
   "execution_count": null,
   "id": "22ef8a82-283f-4ebb-88ca-a162dcc991a4",
   "metadata": {},
   "outputs": [],
   "source": [
    "import math\n",
    "\n",
    "def normal_pdf(x, mean, std_dev):\n",
    "    \"\"\"\n",
    "    Calculates the probability density function (PDF) of a normal distribution\n",
    "    with the given mean and standard deviation at the given point x.\n",
    "    \"\"\"\n",
    "    exponent = -((x - mean) ** 2) / (2 * (std_dev ** 2))\n",
    "    denominator = math.sqrt(2 * math.pi) * std_dev\n",
    "    return (1 / denominator) * math.exp(exponent)"
   ]
  },
  {
   "cell_type": "code",
   "execution_count": null,
   "id": "65fc72a7-84e6-482d-a3d4-4ed5feaed417",
   "metadata": {},
   "outputs": [],
   "source": [
    "You can use this function by calling it with the values of x, mean, and standard deviation that you want to use:"
   ]
  },
  {
   "cell_type": "code",
   "execution_count": null,
   "id": "b7c3e498-9ed9-4eef-aab0-6b53929a84e3",
   "metadata": {},
   "outputs": [],
   "source": [
    "pdf_value = normal_pdf(2.5, 3.0, 0.5)\n",
    "print(pdf_value) "
   ]
  },
  {
   "cell_type": "code",
   "execution_count": null,
   "id": "f22f30da-05e8-47ab-a128-92fc8efaa682",
   "metadata": {},
   "outputs": [],
   "source": [
    "In this example, the function is called with x = 2.5, mean = 3.0, and standard deviation = 0.5, and returns the PDF value at x. The output is approximately 0.108."
   ]
  },
  {
   "cell_type": "code",
   "execution_count": null,
   "id": "285a4e92-b141-41bc-8c33-e2ecd07118cf",
   "metadata": {},
   "outputs": [],
   "source": [
    "# Ans-4"
   ]
  },
  {
   "cell_type": "code",
   "execution_count": null,
   "id": "42c56c11-8710-41e7-b0b1-37b8e6f7f8a1",
   "metadata": {},
   "outputs": [],
   "source": [
    "The Binomial distribution is a probability distribution that describes the number of successes in a fixed number of independent trials, where each trial has only two possible outcomes (success or failure). Some of the key properties of the Binomial distribution include:\n",
    "\n",
    "The trials are independent.\n",
    "There are a fixed number of trials.\n",
    "Each trial has only two possible outcomes (success or failure).\n",
    "The probability of success is constant for each trial.\n",
    "The outcomes of the trials are mutually exclusive.\n",
    "Two examples of events where the Binomial distribution can be applied are:\n",
    "\n",
    "Flipping a coin: If you flip a coin multiple times, each flip is independent and has only two possible outcomes (heads or tails). The probability of getting heads is constant for each flip, and the number of successes (heads) in a fixed number of flips follows a Binomial distribution.\n",
    "\n",
    "Quality control: A manufacturer might randomly sample a batch of products and test each one for defects. If each product can either pass or fail the test, the number of defective products in the sample follows a Binomial distribution. This can be useful for determining the probability of a certain number of defects occurring in a batch of products."
   ]
  },
  {
   "cell_type": "code",
   "execution_count": null,
   "id": "182c3d0b-ce0c-49fb-a913-f0c36e4498e8",
   "metadata": {},
   "outputs": [],
   "source": [
    "# Ans-5"
   ]
  },
  {
   "cell_type": "code",
   "execution_count": null,
   "id": "dc09ed94-fe4d-4ceb-91e0-df751a2efa9c",
   "metadata": {},
   "outputs": [],
   "source": [
    "Python code that generates a random sample of size 1000 from a Binomial distribution with probability of success 0.4 and plots a histogram of the results using Matplotlib:"
   ]
  },
  {
   "cell_type": "code",
   "execution_count": null,
   "id": "57622029-1d84-42b7-81b1-d13c42f37330",
   "metadata": {},
   "outputs": [],
   "source": [
    "import numpy as np\n",
    "import matplotlib.pyplot as plt\n",
    "\n",
    "# Generate a random sample of size 1000 from a Binomial distribution\n",
    "n = 1000  # sample size\n",
    "p = 0.4  # probability of success\n",
    "sample = np.random.binomial(n, p)\n",
    "\n",
    "# Plot a histogram of the sample\n",
    "plt.hist(sample, bins=range(n+1))\n",
    "plt.xlabel('Number of Successes')\n",
    "plt.ylabel('Frequency')\n",
    "plt.title('Binomial Distribution with n=1000 and p=0.4')\n",
    "plt.show()"
   ]
  },
  {
   "cell_type": "code",
   "execution_count": null,
   "id": "b84a68d2-d2e9-47cc-a2c2-63f15ccaa4e4",
   "metadata": {},
   "outputs": [],
   "source": [
    "In this example, we first generate a random sample of size 1000 from a Binomial distribution with probability of success 0.4 using NumPy's np.random.binomial function. We then plot a histogram of the sample using Matplotlib's plt.hist function, with the bins set to the range of possible values (0 to 1000 in this case). Finally, we add axis labels and a title to the plot and display it using plt.show().\n",
    "\n",
    "The resulting histogram should show a roughly symmetric distribution centered around the expected number of successes, which is n * p = 400 in this case."
   ]
  },
  {
   "cell_type": "code",
   "execution_count": null,
   "id": "7438412d-8644-4fe8-9279-5e41c94f89b9",
   "metadata": {},
   "outputs": [],
   "source": [
    "# Ans-6"
   ]
  },
  {
   "cell_type": "code",
   "execution_count": null,
   "id": "4bfadbc5-e55a-40fa-9117-9b8c691e1947",
   "metadata": {},
   "outputs": [],
   "source": [
    "Python function that calculates the cumulative distribution function (CDF) of a Poisson distribution with the given mean at a given point:"
   ]
  },
  {
   "cell_type": "code",
   "execution_count": null,
   "id": "51c3cf8d-d8da-4f1e-9678-a68691d4e5f3",
   "metadata": {},
   "outputs": [],
   "source": [
    "import math\n",
    "\n",
    "def poisson_cdf(x, mean):\n",
    "    \"\"\"\n",
    "    Calculates the cumulative distribution function (CDF) of a Poisson distribution\n",
    "    with the given mean at the given point x.\n",
    "    \"\"\"\n",
    "    cdf = 0.0\n",
    "    for i in range(x + 1):\n",
    "        cdf += (math.exp(-mean) * (mean ** i)) / math.factorial(i)\n",
    "    return cdf"
   ]
  },
  {
   "cell_type": "code",
   "execution_count": null,
   "id": "a6e9e1f7-c097-4872-88d3-c93996f51486",
   "metadata": {},
   "outputs": [],
   "source": [
    "This function uses a loop to sum up the probability mass function (PMF) values of all the points up to and including x to get the CDF value. The PMF of a Poisson distribution is given by the formula:\n",
    "\n",
    "PMF(k) = (e^-μ * μ^k) / k!\n",
    "\n",
    "where k is the number of events, e is the mathematical constant e (approximately 2.718), μ is the mean of the distribution, and k! is the factorial of k.\n",
    "\n",
    "You can use this function by calling it with the values of x and mean that you want to use:"
   ]
  },
  {
   "cell_type": "code",
   "execution_count": null,
   "id": "f9822a12-4dac-4a79-9414-04f3cc605100",
   "metadata": {},
   "outputs": [],
   "source": [
    "cdf_value = poisson_cdf(2, 3.0)\n",
    "print(cdf_value)"
   ]
  },
  {
   "cell_type": "code",
   "execution_count": null,
   "id": "383e3fe8-cf4e-406f-954f-b645842fe47b",
   "metadata": {},
   "outputs": [],
   "source": [
    "In this example, the function is called with x = 2 and mean = 3.0, and returns the CDF value at x. The output is approximately 0.423."
   ]
  },
  {
   "cell_type": "code",
   "execution_count": null,
   "id": "5beaa0ef-d82f-4533-b5f7-bd64ae740158",
   "metadata": {},
   "outputs": [],
   "source": [
    "# Ans-7"
   ]
  },
  {
   "cell_type": "code",
   "execution_count": null,
   "id": "880d488b-23c4-4d37-b7e1-085842363486",
   "metadata": {},
   "outputs": [],
   "source": [
    "The Binomial and Poisson distributions are both discrete probability distributions, but they differ in several important ways.\n",
    "\n",
    "Number of trials: The Binomial distribution describes the number of successes in a fixed number of independent trials, whereas the Poisson distribution describes the number of events in a fixed interval of time or space.\n",
    "\n",
    "Probability of success: In the Binomial distribution, the probability of success is constant for each trial. In the Poisson distribution, the average rate of events is constant over time or space.\n",
    "\n",
    "Mean and variance: For the Binomial distribution, the mean and variance are both equal to n * p, where n is the number of trials and p is the probability of success. For the Poisson distribution, the mean and variance are both equal to λ, the average rate of events.\n",
    "\n",
    "Assumptions: The Binomial distribution assumes a fixed number of trials and that each trial has only two possible outcomes. The Poisson distribution assumes that events occur randomly and independently in time or space, and that the rate of events is constant.\n",
    "\n",
    "Shape of the distribution: The Binomial distribution is usually bell-shaped and symmetric, especially when n is large and p is close to 0.5. The Poisson distribution is usually skewed to the right, especially when λ is small.\n",
    "\n",
    "In summary, the Binomial distribution describes the number of successes in a fixed number of independent trials with a constant probability of success, while the Poisson distribution describes the number of events in a fixed interval of time or space with a constant average rate of events."
   ]
  },
  {
   "cell_type": "code",
   "execution_count": null,
   "id": "0d881afb-027e-4ec3-922c-67a4f355090d",
   "metadata": {},
   "outputs": [],
   "source": [
    "# Ans-8"
   ]
  },
  {
   "cell_type": "code",
   "execution_count": null,
   "id": "a2acd43e-fdaa-4a92-8bbc-73457739b69b",
   "metadata": {},
   "outputs": [],
   "source": [
    "Python code that generates a random sample of size 1000 from a Poisson distribution with mean 5 and calculates the sample mean and variance:"
   ]
  },
  {
   "cell_type": "code",
   "execution_count": null,
   "id": "79ddf923-2801-472d-bf03-a7d2af4a2196",
   "metadata": {},
   "outputs": [],
   "source": [
    "import numpy as np\n",
    "\n",
    "# Generate a random sample of size 1000 from a Poisson distribution with mean 5\n",
    "sample = np.random.poisson(5, size=1000)\n",
    "\n",
    "# Calculate the sample mean and variance\n",
    "sample_mean = np.mean(sample)\n",
    "sample_var = np.var(sample)\n",
    "\n",
    "# Print the results\n",
    "print(\"Sample mean:\", sample_mean)\n",
    "print(\"Sample variance:\", sample_var)"
   ]
  },
  {
   "cell_type": "code",
   "execution_count": null,
   "id": "1b1f9056-36b3-4e37-bf84-7dce980193a0",
   "metadata": {},
   "outputs": [],
   "source": [
    "In this code, we use NumPy's np.random.poisson function to generate a random sample of size 1000 from a Poisson distribution with mean 5. We then use NumPy's np.mean and np.var functions to calculate the sample mean and variance, respectively.\n",
    "\n",
    "When you run this code, you should get results that are close to the true mean and variance of a Poisson distribution with mean 5. Since the Poisson distribution has a mean and variance of λ = 5, the sample mean and variance should also be close to 5."
   ]
  },
  {
   "cell_type": "code",
   "execution_count": null,
   "id": "0cc8c0c6-2361-4f96-b70f-bd7043e24ad5",
   "metadata": {},
   "outputs": [],
   "source": [
    "# Ans-9"
   ]
  },
  {
   "cell_type": "code",
   "execution_count": null,
   "id": "d8bddd4e-22f1-4b0f-a119-f3277b73cfb3",
   "metadata": {},
   "outputs": [],
   "source": [
    "In the Binomial distribution, the mean (μ) and variance (σ²) are related by the formula:\n",
    "\n",
    "σ² = np(1-p)\n",
    "\n",
    "where n is the number of trials and p is the probability of success. This formula shows that as the number of trials (n) increases, the variance of the Binomial distribution increases as well. This makes sense, because as we repeat the same experiment more and more times, we expect to see more variation in the outcomes.\n",
    "\n",
    "In the Poisson distribution, the mean (μ) and variance (σ²) are equal, so σ² = λ, where λ is the average rate of events. This means that the variance of the Poisson distribution is equal to its mean, and does not depend on any other factors like the number of trials or probability of success.\n",
    "\n",
    "In summary, in the Binomial distribution, the variance increases with the number of trials, while in the Poisson distribution, the variance is equal to the mean and is independent of any other factors.\n",
    "\n",
    "\n",
    "\n",
    "\n",
    "\n"
   ]
  },
  {
   "cell_type": "code",
   "execution_count": null,
   "id": "d0b6f387-755e-4740-ad94-6441f6d9b5cc",
   "metadata": {},
   "outputs": [],
   "source": [
    "# Ans-10"
   ]
  },
  {
   "cell_type": "code",
   "execution_count": null,
   "id": "e4f9b7e7-9c37-4c92-9d42-aabf59525ffb",
   "metadata": {},
   "outputs": [],
   "source": [
    "In a normal distribution, the least frequent data points appear in the tails of the distribution, far away from the mean. Specifically, the data points in the tails that are more than two or three standard deviations away from the mean are the least frequent.\n",
    "\n",
    "In a normal distribution, about 68% of the data falls within one standard deviation of the mean, about 95% of the data falls within two standard deviations of the mean, and about 99.7% of the data falls within three standard deviations of the mean. This means that only a very small proportion of the data falls in the tails of the distribution, and these data points are therefore relatively rare.\n",
    "\n",
    "For example, if we have a normal distribution with mean 0 and standard deviation 1, the data points that are more than three standard deviations away from the mean (i.e., less than -3 or greater than 3) will be the least frequent, as they represent only about 0.3% of the total data."
   ]
  },
  {
   "cell_type": "code",
   "execution_count": null,
   "id": "f1f3b03a-cbd7-497f-b97c-b44bc4f236a1",
   "metadata": {},
   "outputs": [],
   "source": []
  },
  {
   "cell_type": "code",
   "execution_count": null,
   "id": "5578cdaa-ade8-414e-a058-eb89a3531d56",
   "metadata": {},
   "outputs": [],
   "source": []
  },
  {
   "cell_type": "code",
   "execution_count": null,
   "id": "83bf4e1b-04a0-47cb-92e2-57f1036a5e5e",
   "metadata": {},
   "outputs": [],
   "source": []
  }
 ],
 "metadata": {
  "kernelspec": {
   "display_name": "Python 3 (ipykernel)",
   "language": "python",
   "name": "python3"
  },
  "language_info": {
   "codemirror_mode": {
    "name": "ipython",
    "version": 3
   },
   "file_extension": ".py",
   "mimetype": "text/x-python",
   "name": "python",
   "nbconvert_exporter": "python",
   "pygments_lexer": "ipython3",
   "version": "3.10.8"
  }
 },
 "nbformat": 4,
 "nbformat_minor": 5
}
