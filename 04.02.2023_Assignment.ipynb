{
 "cells": [
  {
   "cell_type": "code",
   "execution_count": 1,
   "id": "96bc9204-0a56-4b54-a1fd-7f96a476c322",
   "metadata": {},
   "outputs": [],
   "source": [
    "#Ans-1"
   ]
  },
  {
   "cell_type": "code",
   "execution_count": 2,
   "id": "4b216781-6382-4f04-b74b-6b0235480514",
   "metadata": {},
   "outputs": [
    {
     "name": "stdout",
     "output_type": "stream",
     "text": [
      "[(1, 'banana'), (2, 'orange'), (3, 'apple'), (4, 'pear')]\n"
     ]
    }
   ],
   "source": [
    "my_list = [(3, \"apple\"), (1, \"banana\"), (2, \"orange\"), (4, \"pear\")]\n",
    "sorted_list = sorted(my_list, key=lambda x: x[0])\n",
    "print(sorted_list)\n"
   ]
  },
  {
   "cell_type": "code",
   "execution_count": 3,
   "id": "06e9ab41-2c51-469f-b143-7cfbe93607b0",
   "metadata": {},
   "outputs": [],
   "source": [
    "# Ans-2"
   ]
  },
  {
   "cell_type": "code",
   "execution_count": 4,
   "id": "5f372c56-62aa-46cb-85c0-d54baf950ad0",
   "metadata": {},
   "outputs": [
    {
     "name": "stdout",
     "output_type": "stream",
     "text": [
      "[1, 4, 9, 16, 25, 36, 49, 64, 81, 100]\n"
     ]
    }
   ],
   "source": [
    "my_list = [1, 2, 3, 4, 5, 6, 7, 8, 9, 10]\n",
    "squares_list = list(map(lambda x: x**2, my_list))\n",
    "print(squares_list)"
   ]
  },
  {
   "cell_type": "code",
   "execution_count": 5,
   "id": "01923ef9-77e9-4478-9de4-db1589850676",
   "metadata": {},
   "outputs": [],
   "source": [
    "# Ans-3"
   ]
  },
  {
   "cell_type": "code",
   "execution_count": 6,
   "id": "853d9b2f-3805-4bd0-8a5c-634d5fb9f983",
   "metadata": {},
   "outputs": [
    {
     "name": "stdout",
     "output_type": "stream",
     "text": [
      "('1', '2', '3', '4', '5', '6', '7', '8', '9', '10')\n"
     ]
    }
   ],
   "source": [
    "my_list = [1, 2, 3, 4, 5, 6, 7, 8, 9, 10]\n",
    "tuple_of_strings = tuple(map(lambda x: str(x), my_list))\n",
    "print(tuple_of_strings)"
   ]
  },
  {
   "cell_type": "code",
   "execution_count": 7,
   "id": "c0ecb100-3af4-43af-ac7f-a237f4668c47",
   "metadata": {},
   "outputs": [],
   "source": [
    "#Ans-4\n"
   ]
  },
  {
   "cell_type": "code",
   "execution_count": 9,
   "id": "25d721e9-8172-4654-8fdc-ec2e1048ea13",
   "metadata": {},
   "outputs": [
    {
     "name": "stdout",
     "output_type": "stream",
     "text": [
      "15511210043330985984000000\n"
     ]
    }
   ],
   "source": [
    "import functools\n",
    "my_list = list(range(1, 26))\n",
    "product = functools.reduce(lambda x, y: x*y, my_list)\n",
    "print(product)"
   ]
  },
  {
   "cell_type": "code",
   "execution_count": 10,
   "id": "03ee3f0d-7c52-492f-96d5-2305e7f8a9e4",
   "metadata": {},
   "outputs": [],
   "source": [
    "# Ans-5"
   ]
  },
  {
   "cell_type": "code",
   "execution_count": 11,
   "id": "2ca7773b-de59-4050-8bdc-3bfcc7675c5a",
   "metadata": {},
   "outputs": [
    {
     "name": "stdout",
     "output_type": "stream",
     "text": [
      "[6, 60, 90, 120]\n"
     ]
    }
   ],
   "source": [
    "my_list = [2, 3, 6, 9, 27, 60, 90, 120, 55, 46]\n",
    "filtered_list = list(filter(lambda x: x % 2 == 0 and x % 3 == 0, my_list))\n",
    "print(filtered_list)"
   ]
  },
  {
   "cell_type": "code",
   "execution_count": 12,
   "id": "7c9ff57b-c78b-4968-97ad-2f3f6d1e7cae",
   "metadata": {},
   "outputs": [],
   "source": [
    "# Ans-6"
   ]
  },
  {
   "cell_type": "code",
   "execution_count": 13,
   "id": "4a0b94d2-2552-4bbe-accc-750cc0988bdb",
   "metadata": {},
   "outputs": [
    {
     "name": "stdout",
     "output_type": "stream",
     "text": [
      "['php', 'aba', 'radar', 'level']\n"
     ]
    }
   ],
   "source": [
    "my_list = ['python', 'php', 'aba', 'radar', 'level']\n",
    "palindromes = list(filter(lambda x: x == x[::-1], my_list))\n",
    "print(palindromes)"
   ]
  },
  {
   "cell_type": "code",
   "execution_count": null,
   "id": "c515c2fc-5380-4f75-ab44-768d665f756d",
   "metadata": {},
   "outputs": [],
   "source": []
  }
 ],
 "metadata": {
  "kernelspec": {
   "display_name": "Python 3 (ipykernel)",
   "language": "python",
   "name": "python3"
  },
  "language_info": {
   "codemirror_mode": {
    "name": "ipython",
    "version": 3
   },
   "file_extension": ".py",
   "mimetype": "text/x-python",
   "name": "python",
   "nbconvert_exporter": "python",
   "pygments_lexer": "ipython3",
   "version": "3.10.8"
  }
 },
 "nbformat": 4,
 "nbformat_minor": 5
}
