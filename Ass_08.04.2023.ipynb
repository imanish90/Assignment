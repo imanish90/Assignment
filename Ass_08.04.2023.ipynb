{
 "cells": [
  {
   "cell_type": "code",
   "execution_count": null,
   "id": "e1d61091-39ed-4d23-b7ea-a3a5dfa319d7",
   "metadata": {},
   "outputs": [],
   "source": [
    "# Ans-1"
   ]
  },
  {
   "cell_type": "code",
   "execution_count": null,
   "id": "02843d90-b982-411b-95b1-6a833e1d3883",
   "metadata": {},
   "outputs": [],
   "source": [
    "In the given scenario, the best regression metric to employ would be the Mean Squared Error (MSE).\n",
    "\n",
    "MSE measures the average squared difference between the predicted and actual values. In the case of SVM regression model for house price prediction, the MSE will give an idea of how well the model is able to predict the price of the house based on the given characteristics. A lower value of MSE indicates that the predicted values are closer to the actual values, while a higher value indicates that the model is not performing well.\n",
    "\n",
    "Other commonly used regression metrics include Mean Absolute Error (MAE), Root Mean Squared Error (RMSE), and R-squared. However, in the case of SVM regression model, MSE would be the most appropriate metric to use."
   ]
  },
  {
   "cell_type": "code",
   "execution_count": null,
   "id": "ade42a06-2d38-4e15-bf7e-1f857e07e040",
   "metadata": {},
   "outputs": [],
   "source": [
    "# Ans-2"
   ]
  },
  {
   "cell_type": "code",
   "execution_count": null,
   "id": "488c0654-ed3c-4d39-b53f-0c23afe961f5",
   "metadata": {},
   "outputs": [],
   "source": [
    "If the goal is to predict the actual price of a house as accurately as possible, then Mean Squared Error (MSE) would be the more appropriate evaluation metric to use for the SVM regression model.\n",
    "\n",
    "MSE measures the average squared difference between the predicted and actual values, which is directly related to the accuracy of the model's predictions. A lower value of MSE indicates that the model is making more accurate predictions.\n",
    "\n",
    "On the other hand, R-squared measures the proportion of variance in the dependent variable (i.e. house price) that is explained by the independent variables (i.e. characteristics of the house). While R-squared can be useful for understanding the overall performance of the model, it does not provide a direct measure of prediction accuracy.\n",
    "\n",
    "Therefore, if the main goal is to predict the actual price of a house as accurately as possible, then MSE should be the primary evaluation metric."
   ]
  },
  {
   "cell_type": "code",
   "execution_count": null,
   "id": "d22d04a9-323b-40ff-8b9e-8ce7d7ca9375",
   "metadata": {},
   "outputs": [],
   "source": [
    "# Ans-3"
   ]
  },
  {
   "cell_type": "code",
   "execution_count": null,
   "id": "fa9460df-197d-4902-a876-4416243c1ca2",
   "metadata": {},
   "outputs": [],
   "source": [
    "When dealing with a dataset that has a significant number of outliers, Mean Absolute Error (MAE) would be the most appropriate regression metric to use with an SVM model.\n",
    "\n",
    "MAE measures the absolute difference between the predicted and actual values, without squaring the errors. As a result, MAE is more robust to outliers than Mean Squared Error (MSE), which squares the errors and gives more weight to larger errors. Therefore, MAE can provide a more accurate representation of the model's performance in the presence of outliers.\n",
    "\n",
    "In summary, if the dataset contains a significant number of outliers, it is recommended to use MAE as the primary regression metric for an SVM model."
   ]
  },
  {
   "cell_type": "markdown",
   "id": "bcd1e749-67ff-45e8-be01-805b7009af6c",
   "metadata": {},
   "source": [
    "# Ans-4"
   ]
  },
  {
   "cell_type": "code",
   "execution_count": null,
   "id": "8d7a9f6e-1312-4e4b-bef3-0b1fb442ffdd",
   "metadata": {},
   "outputs": [],
   "source": [
    "When both Mean Squared Error (MSE) and Root Mean Squared Error (RMSE) are very close in value, it is generally recommended to choose RMSE as the evaluation metric for an SVM regression model with a polynomial kernel.\n",
    "\n",
    "RMSE is a more interpretable metric compared to MSE, as it is in the same unit as the dependent variable. In this case, the dependent variable would be the target value that we are trying to predict using the model. RMSE also has the advantage of penalizing larger errors more heavily than smaller errors, since it takes the square root of the mean of squared errors.\n",
    "\n",
    "Therefore, if MSE and RMSE are very close in value, it is recommended to choose RMSE as the evaluation metric for an SVM regression model with a polynomial kernel."
   ]
  },
  {
   "cell_type": "code",
   "execution_count": null,
   "id": "5d703b2e-1944-4959-a9d4-38b6600a5d3a",
   "metadata": {},
   "outputs": [],
   "source": [
    "# Ans-5"
   ]
  },
  {
   "cell_type": "code",
   "execution_count": null,
   "id": "b415a301-f8d1-4f7b-8a16-a199fa0eac1e",
   "metadata": {},
   "outputs": [],
   "source": [
    "If the goal is to measure how well the model explains the variance in the target variable, the most appropriate evaluation metric for SVM regression models with different kernels would be the coefficient of determination, also known as R-squared.\n",
    "\n",
    "R-squared is a statistical measure that represents the proportion of the variance in the target variable that is explained by the model. It ranges from 0 to 1, where a value of 1 indicates that the model perfectly fits the data.\n",
    "\n",
    "R-squared is a useful metric for comparing the performance of different SVM regression models with different kernels because it provides a standardized measure of the amount of variance explained by the model, regardless of the kernel used. Therefore, R-squared is the most appropriate evaluation metric to use in this scenario."
   ]
  },
  {
   "cell_type": "code",
   "execution_count": null,
   "id": "bc2a9211-44b7-45b0-b701-4f2763518008",
   "metadata": {},
   "outputs": [],
   "source": []
  },
  {
   "cell_type": "code",
   "execution_count": null,
   "id": "4bd09b05-49ea-47b9-bdbe-316b8e63dd09",
   "metadata": {},
   "outputs": [],
   "source": []
  },
  {
   "cell_type": "code",
   "execution_count": null,
   "id": "b5058895-133b-4498-b744-51bfa1d92172",
   "metadata": {},
   "outputs": [],
   "source": []
  },
  {
   "cell_type": "code",
   "execution_count": null,
   "id": "507f7006-7af4-4bec-a19a-c2a74ba24d73",
   "metadata": {},
   "outputs": [],
   "source": []
  },
  {
   "cell_type": "code",
   "execution_count": null,
   "id": "0c72d257-2647-4bb9-b631-06e7479409e9",
   "metadata": {},
   "outputs": [],
   "source": []
  },
  {
   "cell_type": "code",
   "execution_count": null,
   "id": "6407acaa-d662-4d47-bb09-4c0578076624",
   "metadata": {},
   "outputs": [],
   "source": []
  },
  {
   "cell_type": "code",
   "execution_count": null,
   "id": "aa796b97-4380-4c3a-8e52-03de7acdca62",
   "metadata": {},
   "outputs": [],
   "source": []
  },
  {
   "cell_type": "code",
   "execution_count": null,
   "id": "f04a3ee8-607d-4479-8ae4-6c3757fb5b31",
   "metadata": {},
   "outputs": [],
   "source": []
  },
  {
   "cell_type": "code",
   "execution_count": null,
   "id": "89343177-879a-434c-94cc-a8d593791044",
   "metadata": {},
   "outputs": [],
   "source": []
  },
  {
   "cell_type": "code",
   "execution_count": null,
   "id": "de7c6d1e-542f-4484-a6f6-362b0fce8c4e",
   "metadata": {},
   "outputs": [],
   "source": []
  },
  {
   "cell_type": "code",
   "execution_count": null,
   "id": "24b61880-8400-4fe8-b552-70c20ac222ff",
   "metadata": {},
   "outputs": [],
   "source": []
  },
  {
   "cell_type": "code",
   "execution_count": null,
   "id": "b1ce5dbe-4ed1-4d3a-8cda-69a9dc52adc6",
   "metadata": {},
   "outputs": [],
   "source": []
  },
  {
   "cell_type": "code",
   "execution_count": null,
   "id": "67bc6ad7-182e-4ca3-b203-184198de35a1",
   "metadata": {},
   "outputs": [],
   "source": []
  },
  {
   "cell_type": "code",
   "execution_count": null,
   "id": "c4765902-8e22-4aa5-bf29-9061b2b1278d",
   "metadata": {},
   "outputs": [],
   "source": []
  },
  {
   "cell_type": "code",
   "execution_count": null,
   "id": "8e783e94-44e5-488d-aecd-fbbedf7154fc",
   "metadata": {},
   "outputs": [],
   "source": []
  },
  {
   "cell_type": "code",
   "execution_count": null,
   "id": "f2de3a67-4029-4c5b-be37-e6e870fb01e7",
   "metadata": {},
   "outputs": [],
   "source": []
  },
  {
   "cell_type": "code",
   "execution_count": null,
   "id": "d78fbc35-7ab5-4f56-93eb-f0842b6a6912",
   "metadata": {},
   "outputs": [],
   "source": []
  }
 ],
 "metadata": {
  "kernelspec": {
   "display_name": "Python 3 (ipykernel)",
   "language": "python",
   "name": "python3"
  },
  "language_info": {
   "codemirror_mode": {
    "name": "ipython",
    "version": 3
   },
   "file_extension": ".py",
   "mimetype": "text/x-python",
   "name": "python",
   "nbconvert_exporter": "python",
   "pygments_lexer": "ipython3",
   "version": "3.10.8"
  }
 },
 "nbformat": 4,
 "nbformat_minor": 5
}
