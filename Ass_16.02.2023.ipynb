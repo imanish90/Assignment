{
 "cells": [
  {
   "cell_type": "markdown",
   "id": "b15e6828-a94f-4b72-870e-1c4cac214aa9",
   "metadata": {},
   "source": [
    "# Ans-1"
   ]
  },
  {
   "cell_type": "code",
   "execution_count": null,
   "id": "868f5831-65c2-4af4-b4cf-11156383cb61",
   "metadata": {},
   "outputs": [],
   "source": [
    "A database is a collection of data that is organized in a way that allows easy retrieval, storage, and management of data. A database can be viewed as a digital filing cabinet where information is stored, categorized, and easily accessed.\n",
    "\n",
    "There are two main types of databases: SQL and NoSQL. SQL stands for Structured Query Language, and it is a language used to manage and manipulate relational databases. NoSQL, on the other hand, stands for \"not only SQL\" and is a type of database that is not based on the traditional SQL database model.\n",
    "\n",
    "The main differences between SQL and NoSQL databases are:\n",
    "\n",
    "Data Structure: SQL databases are based on the relational model, which means that data is stored in tables with rows and columns, and relationships are established between tables. NoSQL databases, on the other hand, can have different data structures, including key-value pairs, document-based, column-based, or graph-based structures.\n",
    "\n",
    "Scalability: SQL databases are vertically scalable, which means that if you need to handle more data or more users, you need to upgrade your hardware to a more powerful server. NoSQL databases, on the other hand, are horizontally scalable, which means that you can add more servers to your database cluster to handle more data or more users.\n",
    "\n",
    "Flexibility: SQL databases have a predefined schema that must be followed, which means that changing the structure of the database can be difficult. NoSQL databases, on the other hand, are more flexible and can easily adapt to changing data requirements.\n",
    "\n",
    "Query Language: SQL databases use SQL to query and manipulate data, while NoSQL databases use their own query languages, which are specific to each database type.\n",
    "\n",
    "In summary, SQL databases are a good fit for applications that require complex queries, transactions, and a fixed data structure, while NoSQL databases are more suitable for applications that require high scalability, flexibility, and fast performance with unstructured or semi-structured data."
   ]
  },
  {
   "cell_type": "code",
   "execution_count": null,
   "id": "5d042ea5-0033-459f-b287-55c0763baf92",
   "metadata": {},
   "outputs": [],
   "source": [
    "# Ans-2"
   ]
  },
  {
   "cell_type": "code",
   "execution_count": null,
   "id": "6c6370dc-846e-4b71-806b-07a673c15ee3",
   "metadata": {},
   "outputs": [],
   "source": [
    "DDL stands for Data Definition Language, which is a set of SQL commands used to define the database structure, such as creating tables, altering table structures, and deleting tables.\n",
    "\n",
    "The following are some commonly used DDL commands and their use cases:\n",
    "\n",
    "CREATE: The CREATE command is used to create a new database object, such as a table, index, view, or stored procedure. For example, to create a new table called \"employees\" with columns for ID, name, and salary, the following SQL statement can be used:"
   ]
  },
  {
   "cell_type": "code",
   "execution_count": null,
   "id": "28ca03c3-5d6b-4c71-9871-b023d932f808",
   "metadata": {},
   "outputs": [],
   "source": [
    "CREATE TABLE employees (\n",
    "    id INT PRIMARY KEY,\n",
    "    name VARCHAR(50),\n",
    "    salary DECIMAL(10,2)\n",
    ");"
   ]
  },
  {
   "cell_type": "code",
   "execution_count": null,
   "id": "7def578c-a114-4151-bb20-193e18da4cd8",
   "metadata": {},
   "outputs": [],
   "source": [
    "DROP: The DROP command is used to delete a database object, such as a table, index, view, or stored procedure. For example, to delete the \"employees\" table, the following SQL statement can be used:"
   ]
  },
  {
   "cell_type": "code",
   "execution_count": null,
   "id": "99a8586b-f314-4896-89d9-b20f35f73f73",
   "metadata": {},
   "outputs": [],
   "source": [
    "DROP TABLE employees;"
   ]
  },
  {
   "cell_type": "code",
   "execution_count": null,
   "id": "3f76efca-f6c9-4d23-8e20-0fbed6b46252",
   "metadata": {},
   "outputs": [],
   "source": [
    "ALTER: The ALTER command is used to modify the structure of an existing database object, such as adding or removing columns from a table, changing the data type of a column, or renaming a table. For example, to add a new column called \"department\" to the \"employees\" table, the following SQL statement can be used:"
   ]
  },
  {
   "cell_type": "code",
   "execution_count": null,
   "id": "82bcb44d-8c55-479f-b9ce-545925c985f9",
   "metadata": {},
   "outputs": [],
   "source": [
    "ALTER TABLE employees\n",
    "ADD COLUMN department VARCHAR(50);"
   ]
  },
  {
   "cell_type": "code",
   "execution_count": null,
   "id": "61c5f74a-6b68-4ac1-b7cf-f906537c6ad2",
   "metadata": {},
   "outputs": [],
   "source": [
    "TRUNCATE: The TRUNCATE command is used to delete all data from a table while keeping the table structure intact. Unlike the DROP command, which deletes the entire table, TRUNCATE only deletes the data, making it a faster way to delete large amounts of data from a table. For example, to delete all data from the \"employees\" table, the following SQL statement can be used:"
   ]
  },
  {
   "cell_type": "code",
   "execution_count": null,
   "id": "bbfe8959-232a-4f56-8ede-c914fd79e6fb",
   "metadata": {},
   "outputs": [],
   "source": [
    "TRUNCATE TABLE employees;"
   ]
  },
  {
   "cell_type": "code",
   "execution_count": null,
   "id": "899f1948-eecc-4e9f-8d2d-3362f6380bf0",
   "metadata": {},
   "outputs": [],
   "source": [
    "In summary, DDL commands are used to define the database structure and schema, including creating and deleting tables, altering table structures, and deleting data from tables. These commands are essential for managing the database and ensuring its integrity and consistency."
   ]
  },
  {
   "cell_type": "code",
   "execution_count": null,
   "id": "8e4c541b-d1f0-4d47-bd80-1d75545712b6",
   "metadata": {},
   "outputs": [],
   "source": [
    "# Ans-3"
   ]
  },
  {
   "cell_type": "code",
   "execution_count": null,
   "id": "52e2b8a7-bc86-4049-906b-8aea2d4170a7",
   "metadata": {},
   "outputs": [],
   "source": [
    "DML stands for Data Manipulation Language, which is a set of SQL commands used to manipulate data stored in a database. DML commands include INSERT, UPDATE, and DELETE, which are used to insert, modify, and delete data in a table.\n",
    "\n",
    "The following are some commonly used DML commands and their use cases:\n",
    "\n",
    "INSERT: The INSERT command is used to add new rows to a table. For example, to insert a new employee with ID 1, name \"John Doe\", and salary 50000 into the \"employees\" table, the following SQL statement can be used:"
   ]
  },
  {
   "cell_type": "code",
   "execution_count": null,
   "id": "ca499e87-d833-4342-8f79-18eebe7917c1",
   "metadata": {},
   "outputs": [],
   "source": [
    "INSERT INTO employees (id, name, salary)\n",
    "VALUES (1, 'John Doe', 50000);"
   ]
  },
  {
   "cell_type": "code",
   "execution_count": null,
   "id": "d1bd56bd-3e26-4881-a7df-ab65de95c2f8",
   "metadata": {},
   "outputs": [],
   "source": [
    "UPDATE: The UPDATE command is used to modify existing rows in a table. For example, to update the salary of employee with ID 1 to 60000 in the \"employees\" table, the following SQL statement can be used:"
   ]
  },
  {
   "cell_type": "code",
   "execution_count": null,
   "id": "0493c627-ad56-48b7-8d9d-bf332cc761ab",
   "metadata": {},
   "outputs": [],
   "source": [
    "UPDATE employees\n",
    "SET salary = 60000\n",
    "WHERE id = 1;"
   ]
  },
  {
   "cell_type": "code",
   "execution_count": null,
   "id": "fa08e988-32dc-4592-8771-9b0a913d893e",
   "metadata": {},
   "outputs": [],
   "source": [
    "DELETE: The DELETE command is used to remove one or more rows from a table. For example, to delete the employee with ID 1 from the \"employees\" table, the following SQL statement can be used:"
   ]
  },
  {
   "cell_type": "code",
   "execution_count": null,
   "id": "5379ce86-9e13-45d5-a0df-3e7a796a927b",
   "metadata": {},
   "outputs": [],
   "source": [
    "DELETE FROM employees\n",
    "WHERE id = 1;"
   ]
  },
  {
   "cell_type": "code",
   "execution_count": null,
   "id": "ee3ef105-e2ea-43ed-b5ee-ee1203b7e825",
   "metadata": {},
   "outputs": [],
   "source": [
    "In summary, DML commands are used to manipulate the data stored in a database, including inserting new rows, updating existing rows, and deleting rows. These commands are essential for maintaining the accuracy and consistency of the data stored in a database."
   ]
  },
  {
   "cell_type": "code",
   "execution_count": null,
   "id": "084c8eb7-a299-42e1-a486-a5d5fc2ee4f7",
   "metadata": {},
   "outputs": [],
   "source": [
    "# Ans-4"
   ]
  },
  {
   "cell_type": "code",
   "execution_count": null,
   "id": "d9b9917b-3ba9-47d5-b60c-ea0593bccbec",
   "metadata": {},
   "outputs": [],
   "source": [
    "DQL stands for Data Query Language, which is a set of SQL commands used to retrieve data from a database. The SELECT command is the most commonly used DQL command, and it is used to query data from one or more tables in a database.\n",
    "\n",
    "The following is an example of how to use the SELECT command:\n",
    "\n",
    "Suppose we have a table called \"employees\" that contains information about employees in a company, including their ID, name, department, and salary. To retrieve the names and salaries of all employees in the \"sales\" department, the following SQL statement can be used:"
   ]
  },
  {
   "cell_type": "code",
   "execution_count": null,
   "id": "9818e815-a69e-42f6-918b-08de2634df19",
   "metadata": {},
   "outputs": [],
   "source": [
    "SELECT name, salary\n",
    "FROM employees\n",
    "WHERE department = 'sales';"
   ]
  },
  {
   "cell_type": "code",
   "execution_count": null,
   "id": "48c62c0c-8b91-46e4-833f-589d21b3d841",
   "metadata": {},
   "outputs": [],
   "source": [
    "This statement selects the \"name\" and \"salary\" columns from the \"employees\" table where the \"department\" column is equal to \"sales\". The result is a table that contains the names and salaries of all employees in the \"sales\" department.\n",
    "\n",
    "Additionally, the SELECT command can be used with other SQL clauses, such as ORDER BY to sort the results, GROUP BY to group the results by a specific column, and JOIN to combine data from multiple tables.\n",
    "\n",
    "In summary, DQL commands are used to retrieve data from a database using the SELECT command. The SELECT command can be used with other SQL clauses to filter, sort, and group data to obtain the desired results."
   ]
  },
  {
   "cell_type": "code",
   "execution_count": null,
   "id": "2c051751-f32f-49d1-8a4a-63d8556c95a6",
   "metadata": {},
   "outputs": [],
   "source": [
    "# Ans-5"
   ]
  },
  {
   "cell_type": "code",
   "execution_count": null,
   "id": "9c642a09-aae4-42d7-a851-466bdbecd524",
   "metadata": {},
   "outputs": [],
   "source": [
    "A Primary Key and a Foreign Key are both used to establish relationships between tables in a relational database.\n",
    "\n",
    "A Primary Key is a column or set of columns in a table that uniquely identifies each row in the table. A primary key is used to enforce data integrity by ensuring that each row in the table is unique and can be identified by a unique value or set of values. A primary key can be made up of one or more columns and is typically used as a reference by other tables to establish relationships. For example, in a table of employees, the employee ID column may be set as the primary key to ensure that each employee has a unique ID and that this ID can be used to reference the employee in other tables.\n",
    "\n",
    "A Foreign Key is a column or set of columns in one table that references the primary key of another table. A foreign key is used to establish relationships between tables and ensure referential integrity. It ensures that a row in one table can only reference a row in another table if that row exists in the other table's primary key. For example, in a table of orders, there may be a foreign key column that references the primary key of the customers table. This ensures that each order is associated with a valid customer.\n",
    "\n",
    "In summary, a Primary Key is used to uniquely identify rows in a table, while a Foreign Key is used to establish relationships between tables by referencing the Primary Key of another table. Together, they help ensure data integrity and establish the relationships necessary for a well-designed relational database."
   ]
  },
  {
   "cell_type": "code",
   "execution_count": null,
   "id": "32842b63-e95b-44f0-93a8-3732cb392765",
   "metadata": {},
   "outputs": [],
   "source": [
    "# Ans-6"
   ]
  },
  {
   "cell_type": "code",
   "execution_count": null,
   "id": "a551d949-7013-44d8-8b72-d0efd5b413da",
   "metadata": {},
   "outputs": [],
   "source": [
    "Here's an example Python code to connect to a MySQL database and execute a simple query:"
   ]
  },
  {
   "cell_type": "code",
   "execution_count": null,
   "id": "9c3a3345-ca31-41ab-96ae-bae3bc22178e",
   "metadata": {},
   "outputs": [],
   "source": []
  }
 ],
 "metadata": {
  "kernelspec": {
   "display_name": "Python 3 (ipykernel)",
   "language": "python",
   "name": "python3"
  },
  "language_info": {
   "codemirror_mode": {
    "name": "ipython",
    "version": 3
   },
   "file_extension": ".py",
   "mimetype": "text/x-python",
   "name": "python",
   "nbconvert_exporter": "python",
   "pygments_lexer": "ipython3",
   "version": "3.10.8"
  }
 },
 "nbformat": 4,
 "nbformat_minor": 5
}
