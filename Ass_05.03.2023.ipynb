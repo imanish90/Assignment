{
 "cells": [
  {
   "cell_type": "code",
   "execution_count": null,
   "id": "76668fae-c058-489e-9a65-508c92c6e8ad",
   "metadata": {},
   "outputs": [],
   "source": [
    "# Ans-1"
   ]
  },
  {
   "cell_type": "code",
   "execution_count": null,
   "id": "8fc6e511-e7d3-4859-93f8-28f7f8f633a1",
   "metadata": {},
   "outputs": [],
   "source": [
    "Bokeh is a Python library for creating interactive data visualizations in web browsers. Here's an example of how to create a simple Bokeh plot using Python code:"
   ]
  },
  {
   "cell_type": "code",
   "execution_count": null,
   "id": "6417e343-8408-48bb-a22e-a0e63f17e9b4",
   "metadata": {},
   "outputs": [],
   "source": [
    "from bokeh.plotting import figure, output_file, show\n",
    "\n",
    "# Create some data\n",
    "x = [1, 2, 3, 4, 5]\n",
    "y = [6, 7, 2, 4, 5]\n",
    "\n",
    "# Output to a static HTML file\n",
    "output_file(\"bokeh_plot.html\")\n",
    "\n",
    "# Create a figure object\n",
    "p = figure(title=\"Simple Bokeh Plot\", x_axis_label='x', y_axis_label='y')\n",
    "\n",
    "# Add a line glyph to the figure\n",
    "p.line(x, y, legend_label=\"Line\", line_width=2)\n",
    "\n",
    "# Add a circle glyph to the figure\n",
    "p.circle(x, y, legend_label=\"Circle\", fill_color=\"white\", size=8)\n",
    "\n",
    "# Show the plot\n",
    "show(p)"
   ]
  },
  {
   "cell_type": "code",
   "execution_count": null,
   "id": "43c157c2-ace6-47b3-8cdb-2bee27e93bc9",
   "metadata": {},
   "outputs": [],
   "source": [
    "In this example, we're creating a line plot and a scatter plot by adding line and circle glyphs to the figure object. We're also setting some options for the plot, such as the title and axis labels. Finally, we're using the output_file and show functions to output the plot to a static"
   ]
  },
  {
   "cell_type": "code",
   "execution_count": null,
   "id": "be5ad002-b67f-4707-9522-69e8ce9f3d46",
   "metadata": {},
   "outputs": [],
   "source": [
    "# Ans-2"
   ]
  },
  {
   "cell_type": "code",
   "execution_count": null,
   "id": "a7be60e6-f56f-4bd3-942b-bbe5fe356cb2",
   "metadata": {},
   "outputs": [],
   "source": [
    "Glyphs are the basic visual building blocks in Bokeh that represent individual data points on a plot. They can be simple shapes like circles or squares, or more complex shapes like lines or patches. Glyphs are added to a Bokeh plot using the figure() function and the appropriate glyph method.\n",
    "\n",
    "Here's an example of how to add a circle glyph to a Bokeh plot:"
   ]
  },
  {
   "cell_type": "code",
   "execution_count": null,
   "id": "00f6a481-fb51-461e-81fa-6a0f24ddfde7",
   "metadata": {},
   "outputs": [],
   "source": [
    "from bokeh.plotting import figure, output_file, show\n",
    "\n",
    "# create some sample data\n",
    "x = [1, 2, 3, 4, 5]\n",
    "y = [6, 7, 2, 4, 5]\n",
    "\n",
    "# create a Bokeh figure object\n",
    "p = figure(title=\"My Plot\", x_axis_label=\"X-axis\", y_axis_label=\"Y-axis\")\n",
    "\n",
    "# add a circle glyph to the figure\n",
    "p.circle(x, y, size=10, color=\"red\")\n",
    "\n",
    "# specify where the output file will be saved\n",
    "output_file(\"myplot.html\")\n",
    "\n",
    "# display the plot\n",
    "show(p)"
   ]
  },
  {
   "cell_type": "code",
   "execution_count": null,
   "id": "df3172d6-5a4a-4def-b584-b1f5e5aa7d77",
   "metadata": {},
   "outputs": [],
   "source": [
    "In this example, we create a Bokeh figure object with a title and labels for the x and y axes. Then, we add a circle glyph to the figure using the circle() method and specifying the x and y data, the size of the circles, and the color. Finally, we specify where the output file will be saved and display the plot using the show() function.\n",
    "\n",
    "There are many other glyph methods available in Bokeh, such as line(), rect(), and text(). You can also customize the appearance of the glyphs by specifying additional parameters like line width or fill color."
   ]
  },
  {
   "cell_type": "code",
   "execution_count": null,
   "id": "d0352ee1-bba6-4739-a8f3-060ff7aa225b",
   "metadata": {},
   "outputs": [],
   "source": [
    "# Ans-3"
   ]
  },
  {
   "cell_type": "code",
   "execution_count": null,
   "id": "e433171a-22f5-4ab7-a53e-3b61c0b722dc",
   "metadata": {},
   "outputs": [],
   "source": [
    "You can customize the appearance of a Bokeh plot, including the axes, title, and legend, using various options provided by the Bokeh library. Here's an example of how to customize a Bokeh plot:"
   ]
  },
  {
   "cell_type": "code",
   "execution_count": null,
   "id": "45fd76b7-408e-4a2a-9e07-00e2ad118edb",
   "metadata": {},
   "outputs": [],
   "source": [
    "from bokeh.plotting import figure, output_file, show\n",
    "\n",
    "# create some sample data\n",
    "x = [1, 2, 3, 4, 5]\n",
    "y = [6, 7, 2, 4, 5]\n",
    "\n",
    "# create a Bokeh figure object\n",
    "p = figure(title=\"My Plot\", x_axis_label=\"X-axis\", y_axis_label=\"Y-axis\", \n",
    "           plot_width=600, plot_height=400, tools='pan,box_zoom,reset')\n",
    "\n",
    "# add a circle glyph to the figure\n",
    "p.circle(x, y, size=10, color=\"red\", legend_label=\"Data\")\n",
    "\n",
    "# customize the appearance of the plot\n",
    "p.title.text_font_size = \"20pt\"\n",
    "p.xaxis.axis_label_text_font_size = \"16pt\"\n",
    "p.yaxis.axis_label_text_font_size = \"16pt\"\n",
    "p.legend.label_text_font_size = \"14pt\"\n",
    "p.legend.location = \"top_left\"\n",
    "p.legend.background_fill_alpha = 0.5\n",
    "\n",
    "# specify where the output file will be saved\n",
    "output_file(\"myplot.html\")\n",
    "\n",
    "# display the plot\n",
    "show(p)"
   ]
  },
  {
   "cell_type": "code",
   "execution_count": null,
   "id": "f6037aef-7535-4812-a2ec-55125cbfa3ce",
   "metadata": {},
   "outputs": [],
   "source": [
    "In this example, we have customized the appearance of the plot in several ways:\n",
    "\n",
    "We have set the plot width and height using the plot_width and plot_height parameters of the figure() function.\n",
    "We have added some tools for interacting with the plot such as zoom, pan, and reset.\n",
    "We have customized"
   ]
  },
  {
   "cell_type": "code",
   "execution_count": null,
   "id": "220c3015-64ab-4fb2-85c2-052fd1608e5a",
   "metadata": {},
   "outputs": [],
   "source": [
    "# Ans-4"
   ]
  },
  {
   "cell_type": "code",
   "execution_count": null,
   "id": "d7459996-6719-4161-92c5-0f9624b66693",
   "metadata": {},
   "outputs": [],
   "source": [
    "Bokeh server is a component of the Bokeh data visualization library that allows for creating interactive web applications with data visualizations. The server enables the creation of interactive plots that can be updated in real time, as the user interacts with the plot.\n",
    "\n",
    "To use Bokeh server to create an interactive plot, you need to follow these steps:\n",
    "\n",
    "Create a Bokeh plot as you would normally do, using the Bokeh library. This includes creating a data source, specifying the type of plot, and configuring the plot appearance.\n",
    "\n",
    "Once the plot is created, you can add interactivity to it by adding widgets such as sliders, buttons, or dropdowns. These widgets allow users to interact with the plot and update its data.\n",
    "\n",
    "Next, you need to define a callback function that will be executed when the user interacts with the plot. The callback function should take the updated widget values as input and update the plot accordingly.\n",
    "\n",
    "Finally, you need to run the Bokeh server, which will host the plot and allow users to interact with it. You can run the server using the command line interface or by embedding the server in a Python script.\n",
    "\n",
    "When the server is running, users can access the interactive plot through a web browser. They can use the widgets to change the plot's data, and the plot will update in real time based on the user's actions. This makes it easy to explore data and gain insights in a dynamic and interactive way.\n",
    "\n",
    "Overall, Bokeh server is a powerful tool for creating interactive data visualizations that can be updated in real time. By using Bokeh server, you can create dynamic web applications that allow users to explore and interact with data in new and exciting ways."
   ]
  },
  {
   "cell_type": "code",
   "execution_count": null,
   "id": "ccfcdbef-9354-4862-ae9d-c2313ae64779",
   "metadata": {},
   "outputs": [],
   "source": [
    "# Ans-5"
   ]
  },
  {
   "cell_type": "code",
   "execution_count": null,
   "id": "60fc47bf-0df5-4aef-bd57-57a18ba7d84f",
   "metadata": {},
   "outputs": [],
   "source": [
    "Bokeh plots can be embedded in web pages or dashboards using Flask or Django by following these general steps:\n",
    "\n",
    "First, create a Bokeh plot as you would normally do using the Bokeh library in Python. This includes creating a data source, specifying the type of plot, and configuring the plot appearance.\n",
    "\n",
    "Next, use the bokeh.embed module to generate the JavaScript code needed to embed the Bokeh plot in a web page or dashboard.\n",
    "\n",
    "In Flask, you can render the Bokeh plot as an HTML template using the Flask render_template function. You can pass the JavaScript code generated by the bokeh.embed module to the template as a context variable.\n",
    "\n",
    "In Django, you can create a view function that generates the JavaScript code using the bokeh.embed module and returns it as an HTTP response. You can then use a Django template to embed the Bokeh plot in a web page or dashboard.\n",
    "\n",
    "Here is an example code snippet that demonstrates how to embed a Bokeh plot in a Flask app:"
   ]
  },
  {
   "cell_type": "code",
   "execution_count": null,
   "id": "53c63772-80ca-49fb-a64d-7fb2b03192f7",
   "metadata": {},
   "outputs": [],
   "source": [
    "from flask import Flask, render_template\n",
    "from bokeh.plotting import figure\n",
    "from bokeh.embed import components\n",
    "\n",
    "app = Flask(__name__)\n",
    "\n",
    "@app.route(\"/\")\n",
    "def index():\n",
    "    # Create a Bokeh plot\n",
    "    plot = figure()\n",
    "    plot.circle([1, 2, 3], [4, 5, 6])\n",
    "\n",
    "    # Generate the JavaScript code to embed the plot\n",
    "    script, div = components(plot)\n",
    "\n",
    "    # Render the plot as an HTML template\n",
    "    return render_template(\"index.html\", script=script, div=div)\n",
    "\n",
    "if __name__ == \"__main__\":\n",
    "    app.run(debug=True)"
   ]
  },
  {
   "cell_type": "code",
   "execution_count": null,
   "id": "df4b4e70-0032-4cb7-bc42-5c7bbcc63797",
   "metadata": {},
   "outputs": [],
   "source": [
    "In this example, the components function from the bokeh.embed module is used to generate the JavaScript code needed to embed the Bokeh plot. The resulting script and div variables are passed to the index.html template using the Flask `render"
   ]
  }
 ],
 "metadata": {
  "kernelspec": {
   "display_name": "Python 3 (ipykernel)",
   "language": "python",
   "name": "python3"
  },
  "language_info": {
   "codemirror_mode": {
    "name": "ipython",
    "version": 3
   },
   "file_extension": ".py",
   "mimetype": "text/x-python",
   "name": "python",
   "nbconvert_exporter": "python",
   "pygments_lexer": "ipython3",
   "version": "3.10.8"
  }
 },
 "nbformat": 4,
 "nbformat_minor": 5
}
