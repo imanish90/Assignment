{
 "cells": [
  {
   "cell_type": "code",
   "execution_count": null,
   "id": "ae36d7da-d45a-4852-a154-bf154be971d7",
   "metadata": {},
   "outputs": [],
   "source": [
    "#Ans-1-"
   ]
  },
  {
   "cell_type": "code",
   "execution_count": 1,
   "id": "7d2a77b0-b498-4da7-aff2-642b41ffcaac",
   "metadata": {},
   "outputs": [],
   "source": [
    "def check_password(password):\n",
    "    # Check length\n",
    "    if len(password) < 10:\n",
    "        return \"Invalid password: Password must be at least 10 characters long\"\n",
    "\n",
    "    # Check for lowercase letters\n",
    "    if sum(1 for c in password if c.islower()) < 2:\n",
    "        return \"Invalid password: Password must contain at least two lowercase letters\"\n",
    "\n",
    "    # Check for uppercase letters\n",
    "    if sum(1 for c in password if c.isupper()) < 2:\n",
    "        return \"Invalid password: Password must contain at least two uppercase letters\"\n",
    "\n",
    "    # Check for digits\n",
    "    if sum(1 for c in password if c.isdigit()) < 1:\n",
    "        return \"Invalid password: Password must contain at least one digit\"\n",
    "\n",
    "    # Check for special characters\n",
    "    special_chars = [\"!\", \"@\", \"#\", \"$\", \"%\", \"^\", \"&\", \"*\", \"(\", \")\", \"-\", \"_\", \"=\", \"+\", \"{\", \"}\", \"[\", \"]\", \"|\", \"\\\\\", \":\", \";\", \"\\\"\", \"'\", \"<\", \">\", \",\", \".\", \"?\", \"/\"]\n",
    "    if sum(1 for c in password if c in special_chars) < 3:\n",
    "        return \"Invalid password: Password must contain at least three special characters\"\n",
    "\n",
    "    # Password meets all criteria\n",
    "    return \"Valid password\""
   ]
  },
  {
   "cell_type": "code",
   "execution_count": 2,
   "id": "88679d8e-d921-42e5-8eef-83b2e84fa589",
   "metadata": {},
   "outputs": [
    {
     "name": "stdout",
     "output_type": "stream",
     "text": [
      "Invalid password: Password must contain at least three special characters\n"
     ]
    }
   ],
   "source": [
    "password = \"MyPa$$w0rd\"\n",
    "result = check_password(password)\n",
    "print(result)"
   ]
  },
  {
   "cell_type": "code",
   "execution_count": 3,
   "id": "46ac9183-88dc-4906-9e00-ecc6dd6b3fd3",
   "metadata": {},
   "outputs": [],
   "source": [
    "# Ans-2-"
   ]
  },
  {
   "cell_type": "code",
   "execution_count": 4,
   "id": "9d05b627-0173-4735-9408-4b0b36986a8c",
   "metadata": {},
   "outputs": [
    {
     "name": "stdout",
     "output_type": "stream",
     "text": [
      "['banana']\n"
     ]
    }
   ],
   "source": [
    "string_list = ['apple', 'banana', 'cherry', 'date', 'elderberry']\n",
    "letter = 'b'\n",
    "starts_with_b = filter(lambda s: s.startswith(letter), string_list)\n",
    "print(list(starts_with_b))"
   ]
  },
  {
   "cell_type": "code",
   "execution_count": 5,
   "id": "3af2500d-1046-4a20-9c5d-c45739473a15",
   "metadata": {},
   "outputs": [
    {
     "name": "stdout",
     "output_type": "stream",
     "text": [
      "[True, False, False, False]\n"
     ]
    }
   ],
   "source": [
    "string_list = ['123', '456.78', 'abc', '']\n",
    "is_numeric = map(lambda s: s.isnumeric(), string_list)\n",
    "print(list(is_numeric))"
   ]
  },
  {
   "cell_type": "code",
   "execution_count": 6,
   "id": "757a9177-fcec-4e11-94ef-68bbe757ff55",
   "metadata": {},
   "outputs": [
    {
     "name": "stdout",
     "output_type": "stream",
     "text": [
      "[('orange', 80), ('mango', 99), ('grapes', 1000)]\n"
     ]
    }
   ],
   "source": [
    "fruits = [(\"mango\", 99), (\"orange\", 80), (\"grapes\", 1000)]\n",
    "sorted_fruits = sorted(fruits, key=lambda f: f[1])\n",
    "print(sorted_fruits) "
   ]
  },
  {
   "cell_type": "code",
   "execution_count": 7,
   "id": "2264b98a-25bd-45d8-ac2b-e4165e0be273",
   "metadata": {},
   "outputs": [
    {
     "name": "stdout",
     "output_type": "stream",
     "text": [
      "[1, 4, 9, 16, 25, 36, 49, 64, 81, 100]\n"
     ]
    }
   ],
   "source": [
    "squares = [x*x for x in range(1, 11)]\n",
    "print(squares) "
   ]
  },
  {
   "cell_type": "code",
   "execution_count": 8,
   "id": "bdf7ca08-8218-45b8-8808-8a32da1e07c4",
   "metadata": {},
   "outputs": [
    {
     "name": "stdout",
     "output_type": "stream",
     "text": [
      "[1.0, 1.2599210498948732, 1.4422495703074083, 1.5874010519681994, 1.7099759466766968, 1.8171205928321397, 1.912931182772389, 2.0, 2.080083823051904, 2.154434690031884]\n"
     ]
    }
   ],
   "source": [
    "import math\n",
    "cube_roots = [math.pow(x, 1/3) for x in range(1, 11)]\n",
    "print(cube_roots) "
   ]
  },
  {
   "cell_type": "code",
   "execution_count": 9,
   "id": "87a2e4cc-a796-4fe3-abf4-794f988d52da",
   "metadata": {},
   "outputs": [
    {
     "name": "stdout",
     "output_type": "stream",
     "text": [
      "False\n"
     ]
    }
   ],
   "source": [
    "num = 7\n",
    "is_even = lambda n: n % 2 == 0\n",
    "print(is_even(num))"
   ]
  },
  {
   "cell_type": "code",
   "execution_count": 10,
   "id": "cb2294fa-cf4b-414c-a012-147feb163dc7",
   "metadata": {},
   "outputs": [
    {
     "name": "stdout",
     "output_type": "stream",
     "text": [
      "[1, 3, 5, 7, 9]\n"
     ]
    }
   ],
   "source": [
    "nums = [1, 2, 3, 4, 5, 6, 7, 8, 9, 10]\n",
    "odd_nums = list(filter(lambda n: n % 2 == 1, nums))\n",
    "print(odd_nums)"
   ]
  },
  {
   "cell_type": "code",
   "execution_count": 11,
   "id": "9cea92d1-9030-43f6-870a-21487424dc18",
   "metadata": {},
   "outputs": [
    {
     "name": "stdout",
     "output_type": "stream",
     "text": [
      "[2, 3, 7, 6]\n",
      "[-4, -1, -5, -2]\n"
     ]
    }
   ],
   "source": [
    "nums = [-4, 2, 3, -1, 0, -5, 7, 6, -2]\n",
    "positive_nums = [n for n in nums if n > 0]\n",
    "negative_nums = [n for n in nums if n < 0]\n",
    "print(positive_nums)  # Output: [2, 3, 7, 6]\n",
    "print(negative_nums)"
   ]
  },
  {
   "cell_type": "code",
   "execution_count": null,
   "id": "e647bf81-a90a-483d-9f21-524b4e5fbac0",
   "metadata": {},
   "outputs": [],
   "source": []
  }
 ],
 "metadata": {
  "kernelspec": {
   "display_name": "Python 3 (ipykernel)",
   "language": "python",
   "name": "python3"
  },
  "language_info": {
   "codemirror_mode": {
    "name": "ipython",
    "version": 3
   },
   "file_extension": ".py",
   "mimetype": "text/x-python",
   "name": "python",
   "nbconvert_exporter": "python",
   "pygments_lexer": "ipython3",
   "version": "3.10.8"
  }
 },
 "nbformat": 4,
 "nbformat_minor": 5
}
