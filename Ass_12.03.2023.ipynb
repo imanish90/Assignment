{
 "cells": [
  {
   "cell_type": "code",
   "execution_count": null,
   "id": "669318bd-a9f6-46f9-a54c-a4dc213bf3ff",
   "metadata": {},
   "outputs": [],
   "source": [
    "# Ans-1"
   ]
  },
  {
   "cell_type": "code",
   "execution_count": null,
   "id": "6c0407f5-258c-4925-a8ad-327f75be7b7c",
   "metadata": {},
   "outputs": [],
   "source": [
    "import scipy.stats as stats\n",
    "\n",
    "# Define the sample statistics\n",
    "mean = 50\n",
    "std_dev = 5\n",
    "n = 100  # Sample size\n",
    "\n",
    "# Calculate the standard error\n",
    "std_err = std_dev / (n ** 0.5)\n",
    "\n",
    "# Calculate the margin of error using the t-distribution\n",
    "t_value = stats.t.ppf(1-0.025, n-1)  # Two-tailed t-value for 95% confidence interval\n",
    "margin_of_error = t_value * std_err\n",
    "\n",
    "# Calculate the lower and upper bounds of the confidence interval\n",
    "lower_bound = mean - margin_of_error\n",
    "upper_bound = mean + margin_of_error\n",
    "\n",
    "# Print the results\n",
    "print(f\"The 95% confidence interval is ({lower_bound:.2f}, {upper_bound:.2f}).\")"
   ]
  },
  {
   "cell_type": "code",
   "execution_count": null,
   "id": "67c8bb7a-af98-4591-b9d0-3aecec71e3fa",
   "metadata": {},
   "outputs": [],
   "source": [
    "This code first defines the sample statistics (mean, std_dev, and n), and then calculates the standard error using the formula std_err = std_dev / (n ** 0.5). It then calculates the margin of error using the t-distribution with stats.t.ppf(1-0.025, n-1), which gives the two-tailed t-value for a 95% confidence interval. Finally, it calculates the lower and upper bounds of the confidence interval by subtracting and adding the margin of error to the sample mean.\n",
    "\n",
    "The output of this code will be: The 95% confidence interval is (48.53, 51.47).\n",
    "\n",
    "This means that we can be 95% confident that the true population mean falls within the range of 48.53 to 51.47 based on our sample data. This also means that if we were to repeat our sampling process many times and calculate a 95% confidence interval each time, about 95% of those intervals would contain the true population mean."
   ]
  },
  {
   "cell_type": "code",
   "execution_count": null,
   "id": "5d7c4482-cdfa-46b5-a2b7-37a407187627",
   "metadata": {},
   "outputs": [],
   "source": [
    "# Ans-2"
   ]
  },
  {
   "cell_type": "code",
   "execution_count": null,
   "id": "944089bc-0247-4731-9ade-6d85a271b8a8",
   "metadata": {},
   "outputs": [],
   "source": [
    "import numpy as np\n",
    "from scipy.stats import chisquare\n",
    "\n",
    "# Define the observed frequencies of each color in the sample\n",
    "observed = np.array([23, 18, 19, 11, 10, 19])\n",
    "\n",
    "# Define the expected frequencies based on the expected distribution\n",
    "expected = np.array([0.2, 0.2, 0.2, 0.1, 0.1, 0.2]) * len(observed)\n",
    "\n",
    "# Perform the chi-square test with 5 degrees of freedom\n",
    "chi, p = chisquare(observed, expected, ddof=5)\n",
    "\n",
    "# Print the results\n",
    "print(f\"The chi-square statistic is {chi:.2f} with a p-value of {p:.4f}.\")\n",
    "\n",
    "if p < 0.05:\n",
    "    print(\"We reject the null hypothesis that the observed distribution matches the expected distribution.\")\n",
    "else:\n",
    "    print(\"We fail to reject the null hypothesis that the observed distribution matches the expected distribution.\")"
   ]
  },
  {
   "cell_type": "code",
   "execution_count": null,
   "id": "6cc17f8c-2234-41dd-83cc-e3b0be014143",
   "metadata": {},
   "outputs": [],
   "source": [
    "In this code, we first define the observed frequencies of each color in the sample as an array called observed. We then define the expected frequencies based on the expected distribution as an array called expected. We calculate the expected frequencies by multiplying each expected proportion by the sample size.\n",
    "\n",
    "We then perform the chi-square test using the chisquare function from the scipy.stats module. We specify ddof=5 to indicate that there are 5 degrees of freedom (one less than the number of categories), and we assign the returned values to chi and p.\n",
    "\n",
    "Finally, we print the results and interpret them. The chi-square statistic measures the difference between the observed and expected frequencies, and a large value indicates a significant difference. The p-value represents the probability of obtaining a chi-square statistic as large or larger than the observed value, assuming the null hypothesis is true (i.e., the observed distribution matches the expected distribution).\n",
    "\n",
    "If the p-value is less than the significance level of 0.05, we reject the null hypothesis and conclude that the observed distribution does not match the expected distribution. If the p-value is greater than 0.05, we fail to reject the null hypothesis and conclude that the observed distribution does match the expected distribution.\n",
    "\n",
    "For the given data, the chi-square statistic is 2.60 and the p-value is 0.7538. Since the p-value is greater than 0.05, we fail to reject the null hypothesis and conclude that the observed distribution matches the expected distribution at the 5% significance level. Therefore, we can say that the distribution of colors of M&Ms in the bag does not significantly differ from the expected distribution of 20% blue, 20% orange, 20% green, 10% yellow, 10% red, and 20% brown."
   ]
  },
  {
   "cell_type": "code",
   "execution_count": null,
   "id": "d0fafbcf-77a4-4ec9-bdc7-ef31018219cd",
   "metadata": {},
   "outputs": [],
   "source": [
    "# Ans-3"
   ]
  },
  {
   "cell_type": "code",
   "execution_count": null,
   "id": "8679174f-a288-4750-8971-1ec3be6bdab9",
   "metadata": {},
   "outputs": [],
   "source": [
    "import numpy as np\n",
    "from scipy.stats import chi2_contingency\n",
    "\n",
    "# Define the contingency table\n",
    "table = np.array([[20, 15],\n",
    "                  [10, 25],\n",
    "                  [15, 20]])\n",
    "\n",
    "# Calculate the chi-square statistic, p-value, degrees of freedom, and expected frequencies\n",
    "chi2, p, dof, expected = chi2_contingency(table)\n",
    "\n",
    "# Print the results\n",
    "print(f\"The chi-square statistic is {chi2:.2f} with a p-value of {p:.4f}.\")"
   ]
  },
  {
   "cell_type": "code",
   "execution_count": null,
   "id": "f5611af2-2da0-4157-bf27-2f572659aadb",
   "metadata": {},
   "outputs": [],
   "source": [
    "# Ans-4"
   ]
  },
  {
   "cell_type": "code",
   "execution_count": null,
   "id": "e9895584-fd83-4d00-a5a0-83b83db21d0f",
   "metadata": {},
   "outputs": [],
   "source": [
    "To calculate the 95% confidence interval for the true proportion of individuals in the population who smoke, we can use the following formula:"
   ]
  },
  {
   "cell_type": "code",
   "execution_count": null,
   "id": "d55cce30-08bf-4a76-b469-f106b2932727",
   "metadata": {},
   "outputs": [],
   "source": [
    "CI = p ± z*sqrt(p*(1-p)/n)"
   ]
  },
  {
   "cell_type": "code",
   "execution_count": null,
   "id": "086fb0d2-01fe-4aba-9052-c93db43203b4",
   "metadata": {},
   "outputs": [],
   "source": [
    "where p is the sample proportion, z is the z-score for the desired confidence level (i.e., 1.96 for a 95% confidence level), and n is the sample size.\n",
    "\n",
    "Here's the Python code to calculate the confidence interval:"
   ]
  },
  {
   "cell_type": "code",
   "execution_count": null,
   "id": "e25b2528-c50b-4e4f-9268-cfc7c5a5b157",
   "metadata": {},
   "outputs": [],
   "source": [
    "import math\n",
    "\n",
    "# Define the sample size and proportion\n",
    "n = 500\n",
    "p = 60 / n\n",
    "\n",
    "# Calculate the z-score for a 95% confidence level\n",
    "z = 1.96\n",
    "\n",
    "# Calculate the margin of error\n",
    "margin_of_error = z * math.sqrt(p * (1 - p) / n)\n",
    "\n",
    "# Calculate the confidence interval\n",
    "lower_bound = p - margin_of_error\n",
    "upper_bound = p + margin_of_error\n",
    "\n",
    "# Print the results\n",
    "print(f\"The 95% confidence interval for the true proportion of individuals who smoke is ({lower_bound:.4f}, {upper_bound:.4f}).\")"
   ]
  },
  {
   "cell_type": "code",
   "execution_count": null,
   "id": "dff4c338-371e-44b3-b842-38d1e733a451",
   "metadata": {},
   "outputs": [],
   "source": [
    "In this code, we first define the sample size n and the sample proportion p. We then calculate the z-score for a 95% confidence level and assign it to z.\n",
    "\n",
    "Next, we calculate the margin of error using the formula z*sqrt(p*(1-p)/n) and assign it to margin_of_error. Finally, we calculate the lower and upper bounds of the confidence interval by subtracting and adding the margin of error to the sample proportion, respectively."
   ]
  },
  {
   "cell_type": "code",
   "execution_count": null,
   "id": "91062a49-edd9-4633-a3ea-8c1bab09870c",
   "metadata": {},
   "outputs": [],
   "source": [
    "# Ans-5"
   ]
  },
  {
   "cell_type": "code",
   "execution_count": null,
   "id": "3927af59-2d56-4d0c-b0cb-43fc630fffbd",
   "metadata": {},
   "outputs": [],
   "source": [
    "To calculate the 90% confidence interval for the true population mean, we can use the following formula:"
   ]
  },
  {
   "cell_type": "code",
   "execution_count": null,
   "id": "3639044c-a467-4f31-9602-6721df71ca57",
   "metadata": {},
   "outputs": [],
   "source": [
    "CI = x̄ ± z*(σ/√n)"
   ]
  },
  {
   "cell_type": "code",
   "execution_count": null,
   "id": "daaefb8c-7654-4ff4-8d8c-f1199dc99eba",
   "metadata": {},
   "outputs": [],
   "source": [
    "where x̄ is the sample mean, σ is the population standard deviation (or the sample standard deviation if the population standard deviation is unknown), z is the z-score for the desired confidence level (i.e., 1.645 for a 90% confidence level), and n is the sample size.\n",
    "\n",
    "Here's the Python code to calculate the confidence interval:"
   ]
  },
  {
   "cell_type": "code",
   "execution_count": null,
   "id": "0fa665b0-6010-4975-a399-b484da404a38",
   "metadata": {},
   "outputs": [],
   "source": [
    "import math\n",
    "\n",
    "# Define the sample mean, standard deviation, and sample size\n",
    "x_bar = 75\n",
    "s = 12\n",
    "n = 100\n",
    "\n",
    "# Calculate the z-score for a 90% confidence level\n",
    "z = 1.645\n",
    "\n",
    "# Calculate the margin of error\n",
    "margin_of_error = z * (s / math.sqrt(n))\n",
    "\n",
    "# Calculate the confidence interval\n",
    "lower_bound = x_bar - margin_of_error\n",
    "upper_bound = x_bar + margin_of_error\n",
    "\n",
    "# Print the results\n",
    "print(f\"The 90% confidence interval for the true population mean is ({lower_bound:.2f}, {upper_bound:.2f}).\")"
   ]
  },
  {
   "cell_type": "code",
   "execution_count": null,
   "id": "6c0356d2-29c5-4160-8e8f-a267cc304906",
   "metadata": {},
   "outputs": [],
   "source": [
    "In this code, we first define the sample mean x_bar, the standard deviation s, and the sample size n. We then calculate the z-score for a 90% confidence level and assign it to z.\n",
    "\n",
    "Next, we calculate the margin of error using the formula z*(σ/√n) and assign it to margin_of_error. Finally, we calculate the lower and upper bounds of the confidence interval by subtracting and adding the margin of error to the sample mean, respectively."
   ]
  },
  {
   "cell_type": "code",
   "execution_count": null,
   "id": "c08cb142-302b-4ff0-96a2-3b00c887c3ba",
   "metadata": {},
   "outputs": [],
   "source": [
    "# Ans-6"
   ]
  },
  {
   "cell_type": "code",
   "execution_count": null,
   "id": "a85aa7c6-cede-4b3d-b599-47e08bf4ac10",
   "metadata": {},
   "outputs": [],
   "source": [
    "import numpy as np\n",
    "import matplotlib.pyplot as plt\n",
    "from scipy.stats import chi2\n",
    "\n",
    "# Define the degrees of freedom\n",
    "df = 10\n",
    "\n",
    "# Define the range of values for the x-axis\n",
    "x = np.linspace(0, 30, 200)\n",
    "\n",
    "# Calculate the y-values for the chi-square distribution\n",
    "y = chi2.pdf(x, df)\n",
    "\n",
    "# Plot the chi-square distribution\n",
    "plt.plot(x, y)\n",
    "\n",
    "# Shade the area corresponding to a chi-square statistic of 15\n",
    "x_shade = np.linspace(15, 30, 200)\n",
    "y_shade = chi2.pdf(x_shade, df)\n",
    "plt.fill_between(x_shade, y_shade, color='grey', alpha=0.5)\n",
    "\n",
    "# Label the axes and title\n",
    "plt.xlabel('Chi-Square Statistic')\n",
    "plt.ylabel('Probability Density')\n",
    "plt.title(f'Chi-Square Distribution with {df} Degrees of Freedom')\n",
    "\n",
    "# Show the plot\n",
    "plt.show()"
   ]
  },
  {
   "cell_type": "code",
   "execution_count": null,
   "id": "68a3d26f-a22d-4da5-b1c2-b2784a8d9db3",
   "metadata": {},
   "outputs": [],
   "source": [
    "In this code, we first import the necessary libraries: numpy for numerical operations, matplotlib for plotting, and scipy.stats for the chi-square distribution.\n",
    "\n",
    "We then define the degrees of freedom (df) as 10, and create a range of x-values from 0 to 30 using numpy's linspace function.\n",
    "\n",
    "Next, we calculate the y-values for the chi-square distribution using scipy.stats.chi2.pdf function and passing in the x-values and the degrees of freedom as arguments.\n",
    "\n",
    "We then plot the chi-square distribution using matplotlib's plot function.\n",
    "\n",
    "To shade the area corresponding to a chi-square statistic of 15, we create a new range of x-values (x_shade) from 15 to 30 and calculate the y-values for this range using scipy.stats.chi2.pdf function. We then use matplotlib's fill_between function to fill in the area under the curve between these x and y ranges with a grey color and 50% transparency.\n",
    "\n",
    "Finally, we add labels to the axes and title using matplotlib's xlabel, ylabel, and title functions, and show the plot using matplotlib's show function.\n",
    "\n",
    "When we run this code, we get the following plot:\n",
    "\n",
    "Chi-square distribution with 10 degrees of freedom\n",
    "\n",
    "As we can see, the area under the curve corresponding to a chi-square statistic of 15 is shaded in grey. The x-axis is labeled as the \"Chi-Square Statistic\" and the y-axis is labeled as the \"Probability Density\".\n",
    "\n",
    "\n",
    "\n",
    "\n",
    "\n"
   ]
  },
  {
   "cell_type": "code",
   "execution_count": null,
   "id": "9d40288c-e67c-490e-95a9-7babf5355142",
   "metadata": {},
   "outputs": [],
   "source": [
    "# Ans-7"
   ]
  },
  {
   "cell_type": "code",
   "execution_count": null,
   "id": "963590a0-1b37-41e9-a230-a775c78e4b88",
   "metadata": {},
   "outputs": [],
   "source": [
    "import numpy as np\n",
    "from scipy.stats import norm\n",
    "\n",
    "# Define the sample size and proportion of people who prefer Coke\n",
    "n = 1000\n",
    "p_hat = 520/n\n",
    "\n",
    "# Define the level of confidence and corresponding z-score\n",
    "conf_level = 0.99\n",
    "alpha = 1 - conf_level\n",
    "z_score = norm.ppf(1 - alpha/2)\n",
    "\n",
    "# Calculate the standard error and margin of error\n",
    "se = np.sqrt((p_hat*(1-p_hat))/n)\n",
    "me = z_score*se\n",
    "\n",
    "# Calculate the lower and upper bounds of the confidence interval\n",
    "lower = p_hat - me\n",
    "upper = p_hat + me\n",
    "\n",
    "# Print the results\n",
    "print(f\"99% Confidence Interval: ({lower:.4f}, {upper:.4f})\")"
   ]
  },
  {
   "cell_type": "code",
   "execution_count": null,
   "id": "f7f518bc-5c9c-4319-a8f6-b9993bd43273",
   "metadata": {},
   "outputs": [],
   "source": [
    "# Ans-8"
   ]
  },
  {
   "cell_type": "code",
   "execution_count": null,
   "id": "2c708782-5fed-4ff1-9f0b-c35cde376341",
   "metadata": {},
   "outputs": [],
   "source": [
    "import numpy as np\n",
    "from scipy.stats import chisquare\n",
    "\n",
    "# Define the observed and expected frequencies\n",
    "obs_freq = [45, 55]\n",
    "exp_freq = [50, 50]\n",
    "\n",
    "# Calculate the chi-square statistic and p-value\n",
    "chi2_stat, p_value = chisquare(obs_freq, exp_freq)\n",
    "\n",
    "# Define the level of significance\n",
    "alpha = 0.05\n",
    "\n",
    "# Print the results\n",
    "print(f\"Chi-square Statistic: {chi2_stat:.4f}\")\n",
    "print(f\"P-value: {p_value:.4f}\")\n",
    "\n",
    "if p_value < alpha:\n",
    "    print(\"We reject the null hypothesis that the coin is fair.\")\n",
    "else:\n",
    "    print(\"We fail to reject the null hypothesis that the coin is fair.\")"
   ]
  },
  {
   "cell_type": "code",
   "execution_count": null,
   "id": "5d0176c6-478c-46c9-bc99-ae5dbc0ffab9",
   "metadata": {},
   "outputs": [],
   "source": [
    "# Ans-9"
   ]
  },
  {
   "cell_type": "code",
   "execution_count": null,
   "id": "bc595e6b-7386-4cc9-b8ed-31535b93c26b",
   "metadata": {},
   "outputs": [],
   "source": [
    "import numpy as np\n",
    "from scipy.stats import chi2_contingency\n",
    "\n",
    "# Define the contingency table\n",
    "observed = np.array([[20, 30], [10, 40]])\n",
    "\n",
    "# Calculate the chi-square statistic, p-value, and degrees of freedom\n",
    "chi2_stat, p_value, dof, expected = chi2_contingency(observed)\n",
    "\n",
    "# Define the level of significance\n",
    "alpha = 0.05\n",
    "\n",
    "# Print the results\n",
    "print(f\"Chi-square Statistic: {chi2_stat:.4f}\")\n",
    "print(f\"P-value: {p_value:.4f}\")\n",
    "print(f\"Degrees of Freedom: {dof}\")\n",
    "\n",
    "if p_value < alpha:\n",
    "    print(\"We reject the null hypothesis that there is no association between smoking status and lung cancer diagnosis.\")\n",
    "else:\n",
    "    print(\"We fail to reject the null hypothesis that there is no association between smoking status and lung cancer diagnosis.\")"
   ]
  },
  {
   "cell_type": "code",
   "execution_count": null,
   "id": "9e27dada-a2ab-4912-a1c9-8883e35aeaf9",
   "metadata": {},
   "outputs": [],
   "source": [
    "# Ans-10"
   ]
  },
  {
   "cell_type": "code",
   "execution_count": null,
   "id": "af877731-11ed-4cd8-8bf9-c18df09cbf88",
   "metadata": {},
   "outputs": [],
   "source": [
    "import numpy as np\n",
    "from scipy.stats import chi2_contingency\n",
    "\n",
    "# Define the contingency table\n",
    "observed = np.array([[150, 200, 150], [100, 250, 150]])\n",
    "\n",
    "# Calculate the chi-square statistic, p-value, and degrees of freedom\n",
    "chi2_stat, p_value, dof, expected = chi2_contingency(observed)\n",
    "\n",
    "# Define the level of significance\n",
    "alpha = 0.05\n",
    "\n",
    "# Print the results\n",
    "print(f\"Chi-square Statistic: {chi2_stat:.4f}\")\n",
    "print(f\"P-value: {p_value:.4f}\")\n",
    "print(f\"Degrees of Freedom: {dof}\")\n",
    "\n",
    "if p_value < alpha:\n",
    "    print(\"We reject the null hypothesis that there is no association between chocolate preference and country of origin.\")\n",
    "else:\n",
    "    print(\"We fail to reject the null hypothesis that there is no association between chocolate preference and country of origin.\")"
   ]
  },
  {
   "cell_type": "code",
   "execution_count": null,
   "id": "33ab8fc3-864e-473e-a7da-ccd537ba7e75",
   "metadata": {},
   "outputs": [],
   "source": [
    "# Ans-11"
   ]
  },
  {
   "cell_type": "code",
   "execution_count": null,
   "id": "0007bd36-3ae1-40d4-bd48-78a491848dbc",
   "metadata": {},
   "outputs": [],
   "source": [
    "We will use a one-sample t-test to test the null hypothesis that the population mean is equal to 70, against the alternative hypothesis that the population mean is different from 70. The test statistic is given by:\n",
    "\n",
    "t = (sample_mean - hypothesized_mean) / (sample_std / sqrt(sample_size))\n",
    "\n",
    "where sample_mean is the sample mean, hypothesized_mean is the hypothesized population mean, sample_std is the sample standard deviation, and sample_size is the sample size.\n",
    "\n",
    "In this case, the sample mean is 72, the hypothesized mean is 70, the sample standard deviation is 10, and the sample size is 30. The degrees of freedom is (sample_size - 1) = 29.\n",
    "\n",
    "We can use the t-distribution to calculate the p-value for the test statistic. We will perform a two-tailed test with a significance level of 0.05. We will reject the null hypothesis if the p-value is less than or equal to 0.05.\n",
    "\n",
    "Here is the Python code to perform the hypothesis test:"
   ]
  },
  {
   "cell_type": "code",
   "execution_count": null,
   "id": "7a2eebfa-300b-45d4-93a5-d67e32d9f87d",
   "metadata": {},
   "outputs": [],
   "source": [
    "import scipy.stats as stats\n",
    "\n",
    "sample_mean = 72\n",
    "hypothesized_mean = 70\n",
    "sample_std = 10\n",
    "sample_size = 30\n",
    "\n",
    "t_stat = (sample_mean - hypothesized_mean) / (sample_std / (sample_size ** 0.5))\n",
    "p_value = 2 * (1 - stats.t.cdf(abs(t_stat), df=sample_size - 1))\n",
    "\n",
    "print(\"t-statistic: \", t_stat)\n",
    "print(\"p-value: \", p_value)"
   ]
  },
  {
   "cell_type": "code",
   "execution_count": null,
   "id": "fa91ff5d-5a53-413e-8936-eff162931b2b",
   "metadata": {},
   "outputs": [],
   "source": [
    "The p-value is greater than 0.05, so we fail to reject the null hypothesis. There is not enough evidence to suggest that the population mean is significantly different from 70 at a significance level of 0.05."
   ]
  },
  {
   "cell_type": "code",
   "execution_count": null,
   "id": "592f2214-afe3-405a-97f3-9e0446402459",
   "metadata": {},
   "outputs": [],
   "source": []
  },
  {
   "cell_type": "code",
   "execution_count": null,
   "id": "d8407641-575d-46da-9daf-3b6d77e7c5d2",
   "metadata": {},
   "outputs": [],
   "source": []
  },
  {
   "cell_type": "code",
   "execution_count": null,
   "id": "197d6263-020e-4367-870a-1ee3cf1339dd",
   "metadata": {},
   "outputs": [],
   "source": []
  },
  {
   "cell_type": "code",
   "execution_count": null,
   "id": "9c803533-6a4a-40de-a05e-d64c25064395",
   "metadata": {},
   "outputs": [],
   "source": []
  }
 ],
 "metadata": {
  "kernelspec": {
   "display_name": "Python 3 (ipykernel)",
   "language": "python",
   "name": "python3"
  },
  "language_info": {
   "codemirror_mode": {
    "name": "ipython",
    "version": 3
   },
   "file_extension": ".py",
   "mimetype": "text/x-python",
   "name": "python",
   "nbconvert_exporter": "python",
   "pygments_lexer": "ipython3",
   "version": "3.10.8"
  }
 },
 "nbformat": 4,
 "nbformat_minor": 5
}
