{
 "cells": [
  {
   "cell_type": "code",
   "execution_count": null,
   "id": "6acfe3a4-e9fd-4dca-9cd1-fc8ec7433e93",
   "metadata": {},
   "outputs": [],
   "source": [
    "# Ans-1"
   ]
  },
  {
   "cell_type": "code",
   "execution_count": null,
   "id": "3b0c875e-eef3-4d7b-b1b9-17bd6b009b67",
   "metadata": {},
   "outputs": [],
   "source": [
    "MongoDB is a document-oriented NoSQL database that stores data in a flexible, JSON-like format called BSON (Binary JSON). It is designed to handle large amounts of unstructured or semi-structured data, and it provides high scalability and performance.\n",
    "\n",
    "Non-relational databases, also known as NoSQL databases, are databases that do not use a traditional relational data model with tables, rows, and columns. Instead, they use various data models, such as key-value, document, or graph models, to store data in a more flexible and scalable way.\n",
    "\n",
    "MongoDB is preferred over SQL databases in scenarios where:\n",
    "\n",
    "Scalability is a concern: MongoDB can scale horizontally, meaning it can distribute data across multiple servers, allowing for better performance and handling of large datasets.\n",
    "\n",
    "Flexibility is required: MongoDB's document-based data model allows for greater flexibility when dealing with unstructured or semi-structured data.\n",
    "\n",
    "Rapid development is important: MongoDB's flexible schema and document-based data model make it easier to quickly prototype and iterate on applications.\n",
    "\n",
    "Real-time data processing: MongoDB's ability to handle large amounts of data in real-time makes it a good choice for applications that require real-time data processing and analysis.\n",
    "\n",
    "Cloud-based applications: MongoDB is well-suited for cloud-based applications due to its ability to scale horizontally and its support for distributed architectures."
   ]
  },
  {
   "cell_type": "code",
   "execution_count": null,
   "id": "7d0502b2-f330-4a88-9f21-9419c338a69d",
   "metadata": {},
   "outputs": [],
   "source": [
    "# Ans-2"
   ]
  },
  {
   "cell_type": "code",
   "execution_count": null,
   "id": "34ef3447-07dd-407b-b9f0-54afb27305f4",
   "metadata": {},
   "outputs": [],
   "source": [
    "MongoDB is a popular NoSQL database that offers a range of features to make data storage and retrieval more efficient, scalable, and flexible. Some of the key features of MongoDB are:\n",
    "\n",
    "Document-oriented: MongoDB stores data in a flexible, document-based format called BSON. This makes it easier to store complex, semi-structured data without the need for a predefined schema.\n",
    "\n",
    "High Scalability: MongoDB is designed to scale horizontally by distributing data across multiple servers. This allows for better performance and handling of large datasets.\n",
    "\n",
    "Rich Query Language: MongoDB offers a powerful query language that allows for complex queries, including geospatial queries and text search.\n",
    "\n",
    "Indexing: MongoDB supports indexing of fields in documents, making it faster to query and retrieve data.\n",
    "\n",
    "Aggregation: MongoDB offers powerful aggregation features that allow for complex data analysis, including groupings, filtering, and transformations.\n",
    "\n",
    "Replication: MongoDB supports replication of data across multiple servers, allowing for high availability and fault tolerance.\n",
    "\n",
    "Sharding: MongoDB supports sharding, which is a process of distributing data across multiple servers to improve scalability and performance.\n",
    "\n",
    "Ad hoc queries: MongoDB allows for ad hoc queries, meaning you can query the database without first defining a schema or creating a table.\n",
    "\n",
    "GridFS: MongoDB supports GridFS, a mechanism for storing and retrieving large files and documents, such as images, videos, and audio files.\n",
    "\n",
    "Open-source: MongoDB is open-source software, which means it is freely available for use and modification by developers and organizations.\n",
    "\n",
    "Overall, MongoDB's features make it a popular choice for applications that require flexible data storage, scalability, and performance."
   ]
  },
  {
   "cell_type": "code",
   "execution_count": null,
   "id": "7dc7c341-dff0-41a4-88d4-825835e75f30",
   "metadata": {},
   "outputs": [],
   "source": [
    "# Ans-3"
   ]
  },
  {
   "cell_type": "code",
   "execution_count": null,
   "id": "ff9b8589-8824-4a26-8b0d-9628f468e43c",
   "metadata": {},
   "outputs": [],
   "source": [
    "To connect MongoDB to Python, we need to use a Python driver for MongoDB called \"pymongo.\" Here is an example code that connects to a MongoDB database, creates a collection, and inserts a document into the collection:"
   ]
  },
  {
   "cell_type": "code",
   "execution_count": null,
   "id": "940e26cb-0296-4da5-871f-0cc84727837c",
   "metadata": {},
   "outputs": [],
   "source": [
    "import pymongo\n",
    "\n",
    "# Connect to the MongoDB server\n",
    "client = pymongo.MongoClient(\"mongodb://localhost:27017/\")\n",
    "\n",
    "# Create a new database\n",
    "mydb = client[\"mydatabase\"]\n",
    "\n",
    "# Create a new collection\n",
    "mycol = mydb[\"customers\"]\n",
    "\n",
    "# Insert a document into the collection\n",
    "mydict = { \"name\": \"John\", \"address\": \"Highway 37\" }\n",
    "x = mycol.insert_one(mydict)\n",
    "\n",
    "# Print the ID of the inserted document\n",
    "print(x.inserted_id)"
   ]
  },
  {
   "cell_type": "code",
   "execution_count": null,
   "id": "525c49ca-2f76-4172-8830-cdd258ead9b4",
   "metadata": {},
   "outputs": [],
   "source": [
    "In this code, we first import the \"pymongo\" library and create a new instance of the MongoClient class. We specify the MongoDB server's address as a parameter to the constructor.\n",
    "\n",
    "Next, we create a new database called \"mydatabase\" by accessing the \"client\" object's dictionary-like interface. We then create a new collection called \"customers\" within the \"mydatabase\" database.\n",
    "\n",
    "Finally, we insert a new document into the \"customers\" collection using the \"insert_one()\" method, which returns the ID of the inserted document. We print the ID to the console.\n",
    "\n",
    "Note that in this example, we are using a local MongoDB server at the default port 27017. If you are connecting to a remote MongoDB server or using a different port, you will need to modify the connection string accordingly."
   ]
  },
  {
   "cell_type": "code",
   "execution_count": null,
   "id": "3ffa129d-f73b-4c06-a48c-b8d1d9b5f12c",
   "metadata": {},
   "outputs": [],
   "source": [
    "# Ans-4"
   ]
  },
  {
   "cell_type": "code",
   "execution_count": null,
   "id": "d3994d4c-1ee9-48f7-a9da-77e8ddbc247f",
   "metadata": {},
   "outputs": [],
   "source": [
    "Sure! Here is an example code that inserts one record and multiple records into the \"customers\" collection created in the previous question and prints them using the find() and find_one() methods:\n",
    "\n",
    "makefile"
   ]
  },
  {
   "cell_type": "code",
   "execution_count": null,
   "id": "ba356c12-bcf9-4b4f-b72d-a0397da40fb6",
   "metadata": {},
   "outputs": [],
   "source": [
    "import pymongo\n",
    "\n",
    "# Connect to the MongoDB server\n",
    "client = pymongo.MongoClient(\"mongodb://localhost:27017/\")\n",
    "\n",
    "# Get the \"mydatabase\" database and \"customers\" collection\n",
    "mydb = client[\"mydatabase\"]\n",
    "mycol = mydb[\"customers\"]\n",
    "\n",
    "# Insert one record\n",
    "mydict = { \"name\": \"Jane\", \"address\": \"Park Avenue 42\" }\n",
    "x = mycol.insert_one(mydict)\n",
    "\n",
    "# Insert many records\n",
    "mylist = [\n",
    "  { \"name\": \"Peter\", \"address\": \"Lowstreet 27\" },\n",
    "  { \"name\": \"Amy\", \"address\": \"Apple st 652\" },\n",
    "  { \"name\": \"Hannah\", \"address\": \"Mountain 21\" },\n",
    "  { \"name\": \"Michael\", \"address\": \"Valley 345\" },\n",
    "  { \"name\": \"Sandy\", \"address\": \"Ocean blvd 2\" },\n",
    "  { \"name\": \"Betty\", \"address\": \"Green Grass 1\" },\n",
    "  { \"name\": \"Richard\", \"address\": \"Sky st 331\" },\n",
    "  { \"name\": \"Susan\", \"address\": \"One way 98\" },\n",
    "  { \"name\": \"Vicky\", \"address\": \"Yellow Garden 2\" },\n",
    "  { \"name\": \"Ben\", \"address\": \"Park Lane 38\" },\n",
    "  { \"name\": \"William\", \"address\": \"Central st 954\" },\n",
    "  { \"name\": \"Chuck\", \"address\": \"Main Road 989\" },\n",
    "  { \"name\": \"Viola\", \"address\": \"Sideway 1633\" }\n",
    "]\n",
    "x = mycol.insert_many(mylist)\n",
    "\n",
    "# Print the inserted record using find_one()\n",
    "print(mycol.find_one())\n",
    "\n",
    "# Print all inserted records using find()\n",
    "for x in mycol.find():\n",
    "    print(x)"
   ]
  },
  {
   "cell_type": "code",
   "execution_count": null,
   "id": "e526c096-6e1b-4123-b363-5a55c4601e37",
   "metadata": {},
   "outputs": [],
   "source": [
    "In this code, we first connect to the MongoDB server and get the \"mydatabase\" database and \"customers\" collection using the pymongo library.\n",
    "\n",
    "Next, we insert one record into the \"customers\" collection using the insert_one() method, and we insert multiple records using the insert_many() method.\n",
    "\n",
    "Finally, we print the inserted record using the find_one() method, which returns the first document in the collection that matches the query. We also print all inserted records using the find() method, which returns a cursor object that we can iterate over using a for loop."
   ]
  },
  {
   "cell_type": "code",
   "execution_count": null,
   "id": "f772e4d8-aafb-4619-bf21-afef62305016",
   "metadata": {},
   "outputs": [],
   "source": [
    "# Ans-5"
   ]
  },
  {
   "cell_type": "code",
   "execution_count": null,
   "id": "9dd3c4ae-ad7e-4b63-a975-c2b2942cfebe",
   "metadata": {},
   "outputs": [],
   "source": [
    "The find() method is used to query a MongoDB database for documents that match a specific set of criteria. This method returns a cursor object, which can be used to iterate over the documents that match the query.\n",
    "\n",
    "To use the find() method, we first need to specify the collection that we want to search in. We can do this by calling the find() method on the collection object.\n",
    "\n",
    "We can then pass a query object to the find() method, which specifies the criteria that the documents must meet to be included in the results. This query object is a dictionary that contains key-value pairs that represent the fields and values that we want to search for.\n",
    "\n",
    "For example, let's say we have a collection called \"customers\" with documents that have the fields \"name\" and \"age\". We can use the find() method to search for all documents where the name is \"John\" and the age is greater than or equal to 25, like this:"
   ]
  },
  {
   "cell_type": "code",
   "execution_count": null,
   "id": "6d7cc96f-c539-44cb-b00b-0471b221d6d3",
   "metadata": {},
   "outputs": [],
   "source": [
    "import pymongo\n",
    "\n",
    "# Connect to the MongoDB server\n",
    "client = pymongo.MongoClient(\"mongodb://localhost:27017/\")\n",
    "\n",
    "# Get the \"mydatabase\" database and \"customers\" collection\n",
    "mydb = client[\"mydatabase\"]\n",
    "mycol = mydb[\"customers\"]\n",
    "\n",
    "# Search for documents where the name is \"John\" and the age is greater than or equal to 25\n",
    "myquery = { \"name\": \"John\", \"age\": { \"$gte\": 25 } }\n",
    "myresults = mycol.find(myquery)\n",
    "\n",
    "# Print the results\n",
    "for x in myresults:\n",
    "  print(x)"
   ]
  },
  {
   "cell_type": "code",
   "execution_count": null,
   "id": "7c0d15ed-69b9-428d-9d8c-d352ced73f31",
   "metadata": {},
   "outputs": [],
   "source": [
    "In this code, we connect to the MongoDB server and get the \"mydatabase\" database and \"customers\" collection using the pymongo library.\n",
    "\n",
    "We then define a query object that specifies that we want to search for documents where the name is \"John\" and the age is greater than or equal to 25. We pass this query object to the find() method, which returns a cursor object that we can iterate over using a for loop.\n",
    "\n",
    "Finally, we print each document that matches the query by iterating over the cursor object and printing each document."
   ]
  },
  {
   "cell_type": "code",
   "execution_count": null,
   "id": "34a620d4-5175-4af5-ab41-43ed17be913b",
   "metadata": {},
   "outputs": [],
   "source": [
    "# Ans-6"
   ]
  },
  {
   "cell_type": "code",
   "execution_count": null,
   "id": "24860248-531f-4147-8192-0f9b58327a6d",
   "metadata": {},
   "outputs": [],
   "source": [
    "The sort() method in MongoDB is used to sort the documents in a collection based on one or more fields. The sort() method takes a dictionary as an argument, where each key represents a field to sort on, and the corresponding value is either 1 for ascending order or -1 for descending order.\n",
    "\n",
    "For example, let's say we have a collection called \"customers\" with documents that have the fields \"name\" and \"age\". We can use the sort() method to sort the documents by age in ascending order, like this:"
   ]
  },
  {
   "cell_type": "code",
   "execution_count": null,
   "id": "5b64efe3-c551-46f2-b790-3e797cc29696",
   "metadata": {},
   "outputs": [],
   "source": [
    "import pymongo\n",
    "\n",
    "# Connect to the MongoDB server\n",
    "client = pymongo.MongoClient(\"mongodb://localhost:27017/\")\n",
    "\n",
    "# Get the \"mydatabase\" database and \"customers\" collection\n",
    "mydb = client[\"mydatabase\"]\n",
    "mycol = mydb[\"customers\"]\n",
    "\n",
    "# Sort the documents by age in ascending order\n",
    "myresults = mycol.find().sort(\"age\", 1)\n",
    "\n",
    "# Print the results\n",
    "for x in myresults:\n",
    "  print(x)"
   ]
  },
  {
   "cell_type": "code",
   "execution_count": null,
   "id": "b4b59457-d6f6-4527-b1eb-4c53d8461447",
   "metadata": {},
   "outputs": [],
   "source": [
    "# Ans-7"
   ]
  },
  {
   "cell_type": "code",
   "execution_count": null,
   "id": "07bf3cf9-9680-4feb-a8a4-909a88c5a54a",
   "metadata": {},
   "outputs": [],
   "source": [
    "These are methods in MongoDB that are used to remove data from a collection.\n",
    "\n",
    "delete_one() is used to remove a single document that matches a specified filter from the collection. If there are multiple documents that match the filter, only the first one that is found will be deleted.\n",
    "\n",
    "delete_many() is used to remove all documents that match a specified filter from the collection. This method is useful when you need to delete multiple documents at once.\n",
    "\n",
    "drop() is used to completely remove a collection from the database. This method deletes all documents from the collection and also removes the collection from the database schema. Once a collection is dropped, all indexes and data associated with it are permanently deleted.\n",
    "\n",
    "These methods are used to keep the database organized and to remove unnecessary data. For example, if a collection contains outdated or irrelevant data, the delete_many() method can be used to remove all the documents that are no longer needed. The drop() method is used when you need to completely remove a collection from the database. It's important to use these methods with caution and to ensure that you have a backup of the data before performing any deletions."
   ]
  }
 ],
 "metadata": {
  "kernelspec": {
   "display_name": "Python 3 (ipykernel)",
   "language": "python",
   "name": "python3"
  },
  "language_info": {
   "codemirror_mode": {
    "name": "ipython",
    "version": 3
   },
   "file_extension": ".py",
   "mimetype": "text/x-python",
   "name": "python",
   "nbconvert_exporter": "python",
   "pygments_lexer": "ipython3",
   "version": "3.10.8"
  }
 },
 "nbformat": 4,
 "nbformat_minor": 5
}
