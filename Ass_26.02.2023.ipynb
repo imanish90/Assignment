{
 "cells": [
  {
   "cell_type": "code",
   "execution_count": null,
   "id": "fce3fff3-93f2-45f9-b931-9ee0e02dc3f9",
   "metadata": {},
   "outputs": [],
   "source": [
    "# Ans-1"
   ]
  },
  {
   "cell_type": "code",
   "execution_count": null,
   "id": "c5a1a6ea-f5f3-49bf-81dd-5a71d8d4fea3",
   "metadata": {},
   "outputs": [],
   "source": [
    "Yes, there is a difference in the data type of variables list_ and array_list. The variable list_ is a Python list of strings while array_list is a NumPy array of strings.\n",
    "\n",
    "To print the data types of both variables, you can use the type() function as follows:"
   ]
  },
  {
   "cell_type": "code",
   "execution_count": null,
   "id": "d44cb1bf-456e-4003-ace8-2c36d9bdab06",
   "metadata": {},
   "outputs": [],
   "source": [
    "print(type(list_))\n",
    "print(type(array_list))"
   ]
  },
  {
   "cell_type": "code",
   "execution_count": null,
   "id": "5a02497f-6c63-451b-b549-2e7b16835ea7",
   "metadata": {},
   "outputs": [],
   "source": [
    "As you can see from the output, the data type of list_ is list while the data type of array_list is numpy.ndarray"
   ]
  },
  {
   "cell_type": "code",
   "execution_count": null,
   "id": "1543ddc0-ad2e-4515-8384-e5f3a1276a3f",
   "metadata": {},
   "outputs": [],
   "source": [
    "# Ans-2"
   ]
  },
  {
   "cell_type": "code",
   "execution_count": null,
   "id": "dd34c0c2-a766-4dbd-a255-5cc25ee97055",
   "metadata": {},
   "outputs": [],
   "source": [
    "# for list_\n",
    "for element in list_:\n",
    "    print(type(element))\n",
    "    \n",
    "# for array_list\n",
    "for element in array_list:\n",
    "    print(type(element))"
   ]
  },
  {
   "cell_type": "code",
   "execution_count": null,
   "id": "2c486c31-5eb2-4a75-a058-b2627d149432",
   "metadata": {},
   "outputs": [],
   "source": [
    "As you can see, the data type of each element in list_ is str while the data type of each element in array_list is numpy.str_"
   ]
  },
  {
   "cell_type": "code",
   "execution_count": null,
   "id": "9ae45cba-e007-431a-931f-ee71df82b3e3",
   "metadata": {},
   "outputs": [],
   "source": [
    "# Ans-3"
   ]
  },
  {
   "cell_type": "code",
   "execution_count": null,
   "id": "bff24f65-0d7a-4200-a6e6-779787dc378e",
   "metadata": {},
   "outputs": [],
   "source": [
    "Yes, there will be a difference in the data type of the elements present in list_ and array_list after applying dtype=int in the np.array() function. The dtype=int argument will convert each string element in the list_ to an integer element in the resulting array_list.\n",
    "\n",
    "To print the data type of each element in both variables, list_ and array_list, you can use a for loop and the type() function as follows:\n",
    "\n",
    "bash\n"
   ]
  },
  {
   "cell_type": "code",
   "execution_count": null,
   "id": "a9b61c97-d9c4-4e25-aa67-f06cce524958",
   "metadata": {},
   "outputs": [],
   "source": [
    "# for list_\n",
    "for element in list_:\n",
    "    print(type(element))\n",
    "    \n",
    "# for array_list\n",
    "for element in array_list:\n",
    "    print(type(element))"
   ]
  },
  {
   "cell_type": "code",
   "execution_count": null,
   "id": "3567683d-8710-4894-b4d3-28db1445a85c",
   "metadata": {},
   "outputs": [],
   "source": [
    "As you can see, the data type of each element in list_ is str while the data type of each element in array_list is numpy.int32.\n",
    "\n",
    "Regarding the code provided, num_list is a list of lists, and num_array is a two-dimensional NumPy array created from num_list. Each element in num_array will have the data type numpy.int32. You can print the data type of each element in num_array using a nested for loop as follows:\n",
    "\n"
   ]
  },
  {
   "cell_type": "code",
   "execution_count": null,
   "id": "b1558c13-a449-42bc-bc88-8fba0f1a5396",
   "metadata": {},
   "outputs": [],
   "source": [
    "# for num_array\n",
    "for row in num_array:\n",
    "    for element in row:\n",
    "        print(type(element))"
   ]
  },
  {
   "cell_type": "code",
   "execution_count": null,
   "id": "97f24356-8975-4181-a227-7cc24538c6f7",
   "metadata": {},
   "outputs": [],
   "source": [
    "As you can see, the data type of each element in num_array is numpy.int32."
   ]
  },
  {
   "cell_type": "code",
   "execution_count": null,
   "id": "2551d95a-bd5c-4091-86f4-9042320e47e1",
   "metadata": {},
   "outputs": [],
   "source": [
    "# Ans-4"
   ]
  },
  {
   "cell_type": "code",
   "execution_count": null,
   "id": "71576e58-47aa-47ab-a84d-76f74d8adf57",
   "metadata": {},
   "outputs": [],
   "source": [
    "To find the shape and size of num_array, you can use the .shape and .size attributes of the NumPy array, respectively, as follows:"
   ]
  },
  {
   "cell_type": "code",
   "execution_count": null,
   "id": "94c3bd12-620a-4f02-92e6-04a5d2a915ca",
   "metadata": {},
   "outputs": [],
   "source": [
    "import numpy as np\n",
    "\n",
    "num_list = [[1, 2, 3], [4, 5, 6]]\n",
    "num_array = np.array(num_list)\n",
    "\n",
    "# Find shape of num_array\n",
    "print(\"Shape of num_array:\", num_array.shape)\n",
    "\n",
    "# Find size of num_array\n",
    "print(\"Size of num_array:\", num_array.size)"
   ]
  },
  {
   "cell_type": "code",
   "execution_count": null,
   "id": "5140d276-2b47-43a9-99a8-fa00952c3d8c",
   "metadata": {},
   "outputs": [],
   "source": [
    "# Ans-5"
   ]
  },
  {
   "cell_type": "code",
   "execution_count": null,
   "id": "9271357d-cca8-40bb-8958-e6c98f87753a",
   "metadata": {},
   "outputs": [],
   "source": [
    "You can create a 3x3 NumPy array containing all zeros using the numpy.zeros() function as follows:\n",
    "\n",
    "python"
   ]
  },
  {
   "cell_type": "code",
   "execution_count": null,
   "id": "6f8083f2-18a4-4e16-8e18-86c9dee99ded",
   "metadata": {},
   "outputs": [],
   "source": [
    "import numpy as np\n",
    "\n",
    "# Create a 3x3 array of zeros\n",
    "zero_array = np.zeros((3, 3))\n",
    "\n",
    "print(zero_array)"
   ]
  },
  {
   "cell_type": "code",
   "execution_count": null,
   "id": "796db8b4-7ae7-47c8-b0cc-f12d1f957523",
   "metadata": {},
   "outputs": [],
   "source": [
    "# Ans-6"
   ]
  },
  {
   "cell_type": "code",
   "execution_count": null,
   "id": "98efa33b-7d81-4dd6-b944-846d58546cd4",
   "metadata": {},
   "outputs": [],
   "source": [
    "You can create a 5x5 identity matrix using the numpy.identity() function as follows:"
   ]
  },
  {
   "cell_type": "code",
   "execution_count": null,
   "id": "990ae730-9203-45fb-aa40-bc1016f2d587",
   "metadata": {},
   "outputs": [],
   "source": [
    "import numpy as np\n",
    "\n",
    "# Create a 5x5 identity matrix\n",
    "identity_matrix = np.identity(5)\n",
    "\n",
    "print(identity_matrix)"
   ]
  }
 ],
 "metadata": {
  "kernelspec": {
   "display_name": "Python 3 (ipykernel)",
   "language": "python",
   "name": "python3"
  },
  "language_info": {
   "codemirror_mode": {
    "name": "ipython",
    "version": 3
   },
   "file_extension": ".py",
   "mimetype": "text/x-python",
   "name": "python",
   "nbconvert_exporter": "python",
   "pygments_lexer": "ipython3",
   "version": "3.10.8"
  }
 },
 "nbformat": 4,
 "nbformat_minor": 5
}
