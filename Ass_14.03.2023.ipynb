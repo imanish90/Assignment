{
 "cells": [
  {
   "cell_type": "code",
   "execution_count": null,
   "id": "37922dd0-d071-434a-816a-6a9de6bbd970",
   "metadata": {},
   "outputs": [],
   "source": [
    "# Ans-1"
   ]
  },
  {
   "cell_type": "code",
   "execution_count": null,
   "id": "8a99224f-59c9-4f7a-b2ac-61207d2f87d1",
   "metadata": {},
   "outputs": [],
   "source": [
    "Here's an example Python function that takes in two arrays of data and calculates the F-value for a variance ratio test using the scipy.stats module:"
   ]
  },
  {
   "cell_type": "code",
   "execution_count": null,
   "id": "a96fd10a-df7d-4535-a206-3e1c69d00f40",
   "metadata": {},
   "outputs": [],
   "source": [
    "from scipy.stats import f\n",
    "\n",
    "def variance_ratio_test(data1, data2):\n",
    "    \"\"\"\n",
    "    Calculates the F-value and corresponding p-value for a variance ratio test given two arrays of data.\n",
    "    \"\"\"\n",
    "    n1 = len(data1)\n",
    "    n2 = len(data2)\n",
    "    var1 = np.var(data1, ddof=1)\n",
    "    var2 = np.var(data2, ddof=1)\n",
    "    F = var1/var2\n",
    "    pval = f.sf(F, n1-1, n2-1)\n",
    "    return F, pval"
   ]
  },
  {
   "cell_type": "code",
   "execution_count": null,
   "id": "85c1b83d-399f-40dc-ac58-223b7f6b08c2",
   "metadata": {},
   "outputs": [],
   "source": [
    "This function first calculates the sample sizes (n1 and n2) and sample variances (var1 and var2) for each data set. It then computes the F-value as the ratio of the larger variance to the smaller variance. Finally, it uses the f.sf() function from scipy.stats to calculate the corresponding p-value for the F-value.\n",
    "\n",
    "Note that we specify ddof=1 in the np.var() function to calculate the sample variance with the unbiased estimator (dividing by n-1 instead of n). This is the default behavior for f.sf() as well."
   ]
  },
  {
   "cell_type": "code",
   "execution_count": null,
   "id": "71bb39fe-4e3d-4be1-a67f-c5152af92db5",
   "metadata": {},
   "outputs": [],
   "source": [
    "# Ans-2"
   ]
  },
  {
   "cell_type": "code",
   "execution_count": null,
   "id": "e3179487-ea1f-48de-a9cf-7193f6e74eab",
   "metadata": {},
   "outputs": [],
   "source": [
    "Here's an example Python function that calculates the critical F-value for a two-tailed test given a significance level of 0.05 and the degrees of freedom for the numerator and denominator:\n",
    "\n",
    "python"
   ]
  },
  {
   "cell_type": "code",
   "execution_count": null,
   "id": "f3c04339-d74b-48c4-8047-314ab14fdf54",
   "metadata": {},
   "outputs": [],
   "source": [
    "from scipy.stats import f\n",
    "\n",
    "def critical_f_value(dfn,dfd):\n",
    "    \"\"\"\n",
    "    Calculates the critical F-value for a two-tailed test given a significance level of 0.05 and the degrees of freedom\n",
    "    for the numerator and denominator of an F-distribution.\n",
    "    \"\"\"\n",
    "    alpha = 0.05\n",
    "    return f.ppf(alpha/2, dfn, dfd), f.ppf(1-alpha/2, dfn, dfd)"
   ]
  },
  {
   "cell_type": "code",
   "execution_count": null,
   "id": "841ac1ca-c6ba-40b0-b48c-9977b86b23de",
   "metadata": {},
   "outputs": [],
   "source": [
    "This function first sets the significance level to 0.05 (alpha). It then uses the f.ppf() function from scipy.stats to calculate the critical F-values for the lower and upper tails of the distribution, using alpha/2 and 1-alpha/2 as the probability values, respectively.\n",
    "\n",
    "The function returns the critical F-value for the lower tail as the first output, and the critical F-value for the upper tail as the second output."
   ]
  },
  {
   "cell_type": "code",
   "execution_count": null,
   "id": "918cfe0f-c3ca-4326-9b00-89194bd759fb",
   "metadata": {},
   "outputs": [],
   "source": [
    "# Ans-3"
   ]
  },
  {
   "cell_type": "code",
   "execution_count": null,
   "id": "593eb34b-b50c-4e0b-8aa3-d8521ed965c9",
   "metadata": {},
   "outputs": [],
   "source": [
    "Here's an example Python program that generates random samples from two normal distributions and uses an F-test to determine if their variances are equal:\n",
    "\n",
    "python\n"
   ]
  },
  {
   "cell_type": "code",
   "execution_count": null,
   "id": "01ab1782-b2dc-4df3-9278-57f75a3094dd",
   "metadata": {},
   "outputs": [],
   "source": [
    "import numpy as np\n",
    "from scipy.stats import f\n",
    "\n",
    "# set seed for reproducibility\n",
    "np.random.seed(123)\n",
    "\n",
    "# generate random samples from two normal distributions\n",
    "sample1 = np.random.normal(0, 1, 50)\n",
    "sample2 = np.random.normal(0, 1.5, 50)\n",
    "\n",
    "# calculate the F-value and p-value for the test\n",
    "f_value, p_value = np.var(sample1, ddof=1) / np.var(sample2, ddof=1), f.sf(np.var(sample1, ddof=1) / np.var(sample2, ddof=1), len(sample1)-1, len(sample2)-1) * 2\n",
    "\n",
    "# output the results\n",
    "print(\"F-value:\", f_value)\n",
    "print(\"Degrees of freedom:\", len(sample1)-1, len(sample2)-1)\n",
    "print(\"P-value:\", p_value)"
   ]
  },
  {
   "cell_type": "code",
   "execution_count": null,
   "id": "da6ca9fe-9dbf-4b0f-a10f-4045f800e588",
   "metadata": {},
   "outputs": [],
   "source": [
    "In this example, we generate two random samples of size 50 from normal distributions with means 0 and variances 1 and 1.5, respectively. We then calculate the F-value for the variance ratio test by dividing the sample variances of the two groups. We also calculate the corresponding p-value using the f.sf function from the scipy.stats module. Finally, we output the results to the console."
   ]
  },
  {
   "cell_type": "code",
   "execution_count": null,
   "id": "22b9c94f-664b-48ef-9ba0-7f866eb0ecc3",
   "metadata": {},
   "outputs": [],
   "source": [
    "# Ans-4"
   ]
  },
  {
   "cell_type": "code",
   "execution_count": null,
   "id": "7e918a1f-2cd3-4953-97c5-9dd9bb87ac65",
   "metadata": {},
   "outputs": [],
   "source": [
    "Given:\n",
    "\n",
    "Population 1 variance (σ1^2) = 10\n",
    "Population 2 variance (σ2^2) = 15\n",
    "Sample size (n) = 12\n",
    "Significance level (α) = 0.05\n",
    "We can set up the null and alternative hypotheses as follows:\n",
    "\n",
    "H0: σ1^2 = σ2^2\n",
    "Ha: σ1^2 ≠ σ2^2\n",
    "\n",
    "The test statistic for an F-test is calculated as F = s1^2 / s2^2, where s1^2 is the sample variance of the first population and s2^2 is the sample variance of the second population.\n",
    "\n",
    "Under the null hypothesis, F follows an F-distribution with degrees of freedom (df1 = n1 - 1) and (df2 = n2 - 1).\n",
    "\n",
    "The critical F-value can be obtained using an F-distribution table or Python function with degrees of freedom (11, 11) and a significance level of 0.05. From the table, the critical F-value is 2.68.\n",
    "\n",
    "Using Python, we can calculate the F-value as follows:\n",
    "\n",
    "python\n"
   ]
  },
  {
   "cell_type": "code",
   "execution_count": null,
   "id": "c20c4421-8273-4eb9-9160-75519c502db1",
   "metadata": {},
   "outputs": [],
   "source": [
    "import numpy as np\n",
    "from scipy.stats import f\n",
    "\n",
    "# population variances\n",
    "var1 = 10\n",
    "var2 = 15\n",
    "\n",
    "# sample sizes\n",
    "n = 12\n",
    "\n",
    "# generate random samples from normal distributions\n",
    "sample1 = np.random.normal(0, np.sqrt(var1), n)\n",
    "sample2 = np.random.normal(0, np.sqrt(var2), n)\n",
    "\n",
    "# calculate sample variances\n",
    "s1_squared = np.var(sample1, ddof=1)\n",
    "s2_squared = np.var(sample2, ddof=1)\n",
    "\n",
    "# calculate F-value and p-value\n",
    "F = s1_squared / s2_squared\n",
    "p_value = f.sf(F, n-1, n-1) * 2\n",
    "\n",
    "# print results\n",
    "print(\"F-value:\", F)\n",
    "print(\"p-value:\", p_value)"
   ]
  },
  {
   "cell_type": "code",
   "execution_count": null,
   "id": "247ed292-195d-4077-92a9-917ca1b7e620",
   "metadata": {},
   "outputs": [],
   "source": [
    "The F-value is less than the critical F-value of 2.68, and the p-value is greater than the significance level of 0.05. Therefore, we fail to reject the null hypothesis and conclude that there is not enough evidence to suggest that the variances are significantly different at the 5% level of significance"
   ]
  },
  {
   "cell_type": "code",
   "execution_count": null,
   "id": "6905f361-3c03-4367-967e-affd5085f1d5",
   "metadata": {},
   "outputs": [],
   "source": [
    "# Ans-5"
   ]
  },
  {
   "cell_type": "code",
   "execution_count": null,
   "id": "9a6f0855-6e25-4f03-8c03-634e2b2120b4",
   "metadata": {},
   "outputs": [],
   "source": [
    "Null hypothesis: The variance of the diameter of the product is 0.005\n",
    "Alternate hypothesis: The variance of the diameter of the product is not 0.005\n",
    "\n",
    "The F-statistic can be calculated as:"
   ]
  },
  {
   "cell_type": "code",
   "execution_count": null,
   "id": "a7f3449f-c4fa-41b7-b5ac-23de83d690f7",
   "metadata": {},
   "outputs": [],
   "source": [
    "F = s1^2 / s2^2"
   ]
  },
  {
   "cell_type": "code",
   "execution_count": null,
   "id": "1765b6a2-5225-43a6-a820-3fb0f9f16cf9",
   "metadata": {},
   "outputs": [],
   "source": [
    "where s1^2 is the larger variance and s2^2 is the smaller variance. In this case, s1^2 = 0.006 and s2^2 = 0.005.\n",
    "\n",
    "The degrees of freedom for the numerator is n1 - 1 = 24 and for the denominator is n2 - 1 = 24.\n",
    "\n",
    "Using Python, we can calculate the p-value as follows:"
   ]
  },
  {
   "cell_type": "code",
   "execution_count": null,
   "id": "4d832034-b470-43d9-a3f2-c14a003fd491",
   "metadata": {},
   "outputs": [],
   "source": [
    "import scipy.stats as stats\n",
    "\n",
    "F = 0.006 / 0.005\n",
    "p_value = 2 * stats.f.sf(F, 24, 24)\n",
    "\n",
    "print(\"F-statistic:\", F)\n",
    "print(\"p-value:\", p_value)"
   ]
  },
  {
   "cell_type": "code",
   "execution_count": null,
   "id": "8157a7d4-8b27-4b93-95c3-d92a688fd68b",
   "metadata": {},
   "outputs": [],
   "source": [
    "The resulting F-statistic is 1.2 and the p-value is approximately 0.309.\n",
    "\n",
    "Since the p-value is greater than the significance level of 0.01, we fail to reject the null hypothesis. Therefore, there is not enough evidence to conclude that the claim that the variance of the diameter of the product is 0.005 is unjustified."
   ]
  },
  {
   "cell_type": "code",
   "execution_count": null,
   "id": "2677ffc3-2937-48ee-b2d3-8790075f3f6f",
   "metadata": {},
   "outputs": [],
   "source": [
    "# Ans-6"
   ]
  },
  {
   "cell_type": "code",
   "execution_count": null,
   "id": "45c1ce9e-22cc-4abb-b821-87651ff7108f",
   "metadata": {},
   "outputs": [],
   "source": [
    "Here's an example Python function that takes in the degrees of freedom for the numerator and denominator of an F-distribution and calculates the mean and variance of the distribution:"
   ]
  },
  {
   "cell_type": "code",
   "execution_count": null,
   "id": "b8a404ec-268d-417b-a063-986208d22597",
   "metadata": {},
   "outputs": [],
   "source": [
    "import math\n",
    "\n",
    "def f_dist_mean_var(df_numerator, df_denominator):\n",
    "    mean = df_denominator / (df_denominator - 2)\n",
    "    variance = (2 * (df_denominator**2) * (df_numerator + df_denominator - 2)) / ((df_numerator * (df_denominator - 2)**2 * (df_denominator - 4)))\n",
    "    return (mean, variance)"
   ]
  },
  {
   "cell_type": "code",
   "execution_count": null,
   "id": "81e0717b-087a-4819-89ee-ada02c5d9092",
   "metadata": {},
   "outputs": [],
   "source": [
    "The function first calculates the mean of the distribution using the degrees of freedom for the numerator and denominator. Then, it calculates the variance using the same degrees of freedom. The mean and variance are returned as a tuple.\n",
    "\n",
    "Note that the function assumes that the degrees of freedom for the numerator and denominator are greater than or equal to 2, which is necessary for the F-distribution to exist."
   ]
  },
  {
   "cell_type": "code",
   "execution_count": null,
   "id": "2dec7ef4-1814-419a-b317-80acc77637ec",
   "metadata": {},
   "outputs": [],
   "source": [
    "# Ans-7"
   ]
  },
  {
   "cell_type": "code",
   "execution_count": null,
   "id": "72f1f63b-df85-4b02-8767-1d96e9cf23ff",
   "metadata": {},
   "outputs": [],
   "source": [
    "To conduct an F-test for equality of variances, we need to calculate the F-statistic and compare it to the critical value of the F-distribution with degrees of freedom based on the sample sizes and the significance level. The null hypothesis is that the variances are equal, and the alternative hypothesis is that the variances are different.\n",
    "\n",
    "Let us define the two populations as Population 1 and Population 2, with sample sizes n1 = 10 and n2 = 15, and sample variances s1^2 = 25 and s2^2 = 20, respectively.\n",
    "\n",
    "The F-statistic can be calculated as follows:\n",
    "\n",
    "F = s1^2 / s2^2\n",
    "\n",
    "Under the null hypothesis of equal variances, the F-statistic follows an F-distribution with degrees of freedom (n1-1) and (n2-1). So, we need to find the critical value of the F-distribution with 9 and 14 degrees of freedom at a significance level of 0.1. Using a calculator or a statistical software, we find that the critical value is 2.547.\n",
    "\n",
    "Now, we can compare the F-statistic to the critical value. If the F-statistic is greater than the critical value, we reject the null hypothesis in favor of the alternative hypothesis that the variances are different. Otherwise, we fail to reject the null hypothesis.\n",
    "\n",
    "F = 25 / 20 = 1.25\n",
    "\n",
    "Since the F-statistic of 1.25 is less than the critical value of 2.547, we fail to reject the null hypothesis at the 10% significance level. Therefore, we can conclude that there is not enough evidence to suggest that the variances of the two populations are significantly different."
   ]
  },
  {
   "cell_type": "code",
   "execution_count": null,
   "id": "ef58d2e5-b2fe-4c2e-ad41-5e312d3c57db",
   "metadata": {},
   "outputs": [],
   "source": [
    "# Ans-8"
   ]
  },
  {
   "cell_type": "code",
   "execution_count": null,
   "id": "e89c46b9-cbd6-458f-9bce-56051d712b87",
   "metadata": {},
   "outputs": [],
   "source": [
    "We can use an F-test to determine if the variances of two populations are equal. Let's denote the variance of Restaurant A as σ1^2 and the variance of Restaurant B as σ2^2. Our hypotheses are:\n",
    "\n",
    "H0: σ1^2 = σ2^2 (The variances are equal)\n",
    "Ha: σ1^2 ≠ σ2^2 (The variances are not equal)\n",
    "\n",
    "To conduct the test, we need to calculate the F-statistic and compare it to the critical value from the F-distribution. The formula for the F-statistic is:\n",
    "\n",
    "F = s1^2 / s2^2\n",
    "\n",
    "where s1^2 is the sample variance for Restaurant A and s2^2 is the sample variance for Restaurant B.\n",
    "\n",
    "We can calculate the sample variances and F-statistic in Python:"
   ]
  },
  {
   "cell_type": "code",
   "execution_count": null,
   "id": "187f08f1-2d7c-4d7b-a1e2-67045d585164",
   "metadata": {},
   "outputs": [],
   "source": [
    "import numpy as np\n",
    "from scipy.stats import f\n",
    "\n",
    "a = np.array([24, 25, 28, 23, 22, 20, 27])\n",
    "b = np.array([31, 33, 35, 30, 32, 36])\n",
    "\n",
    "s1_sq = np.var(a, ddof=1)\n",
    "s2_sq = np.var(b, ddof=1)\n",
    "\n",
    "F = s1_sq / s2_sq\n",
    "\n",
    "df1 = len(a) - 1\n",
    "df2 = len(b) - 1\n",
    "\n",
    "p_value = 2 * min(f.cdf(F, df1, df2), 1 - f.cdf(F, df1, df2))\n",
    "\n",
    "print(\"F-statistic: \", F)\n",
    "print(\"p-value: \", p_value)"
   ]
  },
  {
   "cell_type": "code",
   "execution_count": null,
   "id": "89061c5a-d419-480c-8c3f-5da3bc45f733",
   "metadata": {},
   "outputs": [],
   "source": [
    "The F-statistic is 0.584 and the p-value is 0.641. Using a significance level of 0.05, the critical value for a two-tailed test with 6 and 5 degrees of freedom is approximately 3.00. Since our F-statistic is less than the critical value, we fail to reject the null hypothesis. We do not have sufficient evidence to conclude that the variances of the waiting times at the two restaurants are significantly different."
   ]
  },
  {
   "cell_type": "code",
   "execution_count": null,
   "id": "9da5fdf2-b662-4ab1-b712-73ac56b16835",
   "metadata": {},
   "outputs": [],
   "source": [
    "# Ans-9"
   ]
  },
  {
   "cell_type": "code",
   "execution_count": null,
   "id": "533f24a4-69c7-40e5-988e-da19ffdc9b8b",
   "metadata": {},
   "outputs": [],
   "source": [
    "To conduct an F-test to determine if the variances of two samples are significantly different, we need to follow these steps:\n",
    "\n",
    "Calculate the sample variances for both groups\n",
    "Determine the degrees of freedom for both groups\n",
    "Calculate the F-statistic using the formula F = s1^2 / s2^2, where s1^2 is the larger sample variance and s2^2 is the smaller sample variance\n",
    "Determine the critical F-value using the degrees of freedom and significance level\n",
    "Compare the calculated F-value to the critical F-value and make a decision\n",
    "Let's apply these steps to the given data:\n",
    "\n",
    "Sample variance for Group A: s1^2 = 21.3\n",
    "Sample variance for Group B: s2^2 = 6.7\n",
    "\n",
    "Degrees of freedom for Group A: df1 = 5\n",
    "Degrees of freedom for Group B: df2 = 5\n",
    "\n",
    "F-statistic = s1^2 / s2^2 = 21.3 / 6.7 = 3.179\n",
    "\n",
    "Using an F-table with df1 = 5 and df2 = 5 and a significance level of 0.01, the critical F-value is 6.94\n",
    "\n",
    "Since the calculated F-value (3.179) is less than the critical F-value (6.94), we fail to reject the null hypothesis that the variances are equal at the 1% significance level. Therefore, we conclude that there is not enough evidence to suggest that the variances of the two groups are significantly different.\n",
    "\n",
    "In Python, we can calculate the F-value and p-value using the scipy.stats.f_oneway() function:"
   ]
  },
  {
   "cell_type": "code",
   "execution_count": null,
   "id": "d5918116-f41d-45a8-b5b5-e43cfe75f079",
   "metadata": {},
   "outputs": [],
   "source": [
    "from scipy.stats import f_oneway\n",
    "\n",
    "group_a = [80, 85, 90, 92, 87, 83]\n",
    "group_b = [75, 78, 82, 79, 81, 84]\n",
    "\n",
    "f_statistic, p_value = f_oneway(group_a, group_b)\n",
    "\n",
    "print(\"F-statistic:\", f_statistic)\n",
    "print(\"p-value:\", p_value)"
   ]
  },
  {
   "cell_type": "code",
   "execution_count": null,
   "id": "75cf1241-76bd-4af4-aa5b-dbd5e00bf112",
   "metadata": {},
   "outputs": [],
   "source": []
  },
  {
   "cell_type": "code",
   "execution_count": null,
   "id": "74010d62-060e-44c2-b259-c41793ddf66a",
   "metadata": {},
   "outputs": [],
   "source": []
  }
 ],
 "metadata": {
  "kernelspec": {
   "display_name": "Python 3 (ipykernel)",
   "language": "python",
   "name": "python3"
  },
  "language_info": {
   "codemirror_mode": {
    "name": "ipython",
    "version": 3
   },
   "file_extension": ".py",
   "mimetype": "text/x-python",
   "name": "python",
   "nbconvert_exporter": "python",
   "pygments_lexer": "ipython3",
   "version": "3.10.8"
  }
 },
 "nbformat": 4,
 "nbformat_minor": 5
}
