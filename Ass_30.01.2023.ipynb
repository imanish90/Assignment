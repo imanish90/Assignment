{
 "cells": [
  {
   "cell_type": "code",
   "execution_count": null,
   "id": "689a7474-4121-4978-8a9e-f5526128fe01",
   "metadata": {},
   "outputs": [],
   "source": [
    "# Ans-1"
   ]
  },
  {
   "cell_type": "code",
   "execution_count": null,
   "id": "80b3df11-c9f4-41e2-b054-f97b07a63d64",
   "metadata": {},
   "outputs": [],
   "source": [
    "Python code that accepts the percentage from the user and displays the grade based on the criteria you provided:"
   ]
  },
  {
   "cell_type": "code",
   "execution_count": null,
   "id": "826d4f07-1066-4ef1-98e9-719fb7aefadc",
   "metadata": {},
   "outputs": [],
   "source": [
    "percentage = float(input(\"Enter your percentage: \"))\n",
    "\n",
    "if percentage >= 90:\n",
    "    grade = \"A\"\n",
    "elif percentage >= 80 and percentage < 90:\n",
    "    grade = \"B\"\n",
    "elif percentage >= 60 and percentage < 80:\n",
    "    grade = \"C\"\n",
    "else:\n",
    "    grade = \"D\"\n",
    "\n",
    "print(\"Your grade is:\", grade)"
   ]
  },
  {
   "cell_type": "code",
   "execution_count": null,
   "id": "a1f6a2ff-a733-4ad7-89d0-f2e7c886eec4",
   "metadata": {},
   "outputs": [],
   "source": [
    "In this program, we first accept the percentage from the user as input using the input() function and convert it to a float using the float() function.\n",
    "\n",
    "Then, we use a series of if-elif-else statements to check the percentage and assign the corresponding grade to the grade variable. Finally, we use the print() function to display the grade to the user."
   ]
  },
  {
   "cell_type": "code",
   "execution_count": null,
   "id": "60a8e4ec-474b-4e99-adab-4a1028637b59",
   "metadata": {},
   "outputs": [],
   "source": [
    "# Ans-2"
   ]
  },
  {
   "cell_type": "code",
   "execution_count": null,
   "id": "df034962-d987-458d-8f71-8ac6087e4cda",
   "metadata": {},
   "outputs": [],
   "source": [
    "cost_price = float(input(\"Enter the cost price of the bike: Rs. \"))\n",
    "\n",
    "if cost_price > 100000:\n",
    "    tax = cost_price * 0.15\n",
    "elif cost_price > 50000:\n",
    "    tax = cost_price * 0.10\n",
    "else:\n",
    "    tax = cost_price * 0.05\n",
    "\n",
    "print(f\"The road tax to be paid is Rs. {tax:.2f}\")"
   ]
  },
  {
   "cell_type": "code",
   "execution_count": null,
   "id": "bc188e32-97e6-4252-83a2-1b23b8dcbc6a",
   "metadata": {},
   "outputs": [],
   "source": [
    "In this program, we first ask the user to enter the cost price of the bike, which we store in the cost_price variable as a floating-point number.\n",
    "\n",
    "Next, we use an if-elif-else statement to determine the road tax to be paid based on the given criteria. If the cost price is greater than 100000, the tax is calculated as 15% of the cost price. If the cost price is between 50000 and 100000, the tax is calculated as 10% of the cost price. Otherwise, if the cost price is less than or equal to 50000, the tax is calculated as 5% of the cost price.\n",
    "\n",
    "Finally, we display the road tax to be paid using a formatted string that includes the value of the tax variable. We use the :.2f format specifier to display the tax amount with 2 decimal places."
   ]
  },
  {
   "cell_type": "code",
   "execution_count": null,
   "id": "845c0d07-de4c-4e64-a256-defc771641c4",
   "metadata": {},
   "outputs": [],
   "source": [
    "# Ans-3"
   ]
  },
  {
   "cell_type": "code",
   "execution_count": null,
   "id": "66d9c0ba-5bed-4eff-9d74-6d58efaa7fd9",
   "metadata": {},
   "outputs": [],
   "source": [
    "city = input(\"Enter a city: \")\n",
    "\n",
    "if city.lower() == \"delhi\":\n",
    "    monument = \"Red Fort\"\n",
    "elif city.lower() == \"agra\":\n",
    "    monument = \"Taj Mahal\"\n",
    "elif city.lower() == \"jaipur\":\n",
    "    monument = \"Jai Mahal\"\n",
    "else:\n",
    "    monument = \"Monument information not available for this city\"\n",
    "\n",
    "print(f\"The monument of {city.title()} is {monument}\")"
   ]
  },
  {
   "cell_type": "code",
   "execution_count": null,
   "id": "5a2ef2e7-7989-475c-9f36-85515fbb699a",
   "metadata": {},
   "outputs": [],
   "source": [
    "In this program, we first ask the user to enter a city, which we store in the city variable as a string.\n",
    "\n",
    "Next, we use an if-elif-else statement to determine the monument associated with the city. If the user enters \"delhi\" (case-insensitive), we set the monument variable to \"Red Fort\". If the user enters \"agra\", we set monument to \"Taj Mahal\". If the user enters \"jaipur\", we set monument to \"Jai Mahal\". Otherwise, if the user enters any other city, we set monument to a default message indicating that the monument information is not available for that city.\n",
    "\n",
    "Finally, we display the name of the monument associated with the city using a formatted string that includes the values of the city and monument variables. We use the title() method to capitalize the first letter of each word in the city variable."
   ]
  },
  {
   "cell_type": "code",
   "execution_count": null,
   "id": "8c6a5634-d19e-4c95-8637-72d59bbdbf96",
   "metadata": {},
   "outputs": [],
   "source": [
    "# Ans-4"
   ]
  },
  {
   "cell_type": "code",
   "execution_count": null,
   "id": "87a9c352-e348-43f0-8dcb-5d1a2dc5bd6a",
   "metadata": {},
   "outputs": [],
   "source": [
    "Let's assume the given number is \"n\". We want to find out how many times we can divide \"n\" by 3 before it becomes less than or equal to 10.\n",
    "\n",
    "We can start by subtracting 10 from \"n\" and then dividing the result by 3 repeatedly until we get a number less than or equal to zero. The number of times we perform this operation will give us the answer.\n",
    "\n",
    "In mathematical terms, we can express this as follows:\n",
    "\n",
    "(n - 10) / 3 ≤ 0\n",
    "\n",
    "Solving for \"n\", we get:\n",
    "\n",
    "n ≤ 30\n",
    "\n",
    "This means that \"n\" should be less than or equal to 30 for the above inequality to hold true.\n",
    "\n",
    "Now, we can use a loop to perform the division operation and count the number of times we do it:"
   ]
  },
  {
   "cell_type": "code",
   "execution_count": null,
   "id": "80d3cea2-feb3-493a-9be6-549d5a993daa",
   "metadata": {},
   "outputs": [],
   "source": [
    "n = [YOUR GIVEN NUMBER]\n",
    "count = 0\n",
    "while n > 10:\n",
    "    n /= 3\n",
    "    count += 1\n",
    "print(count)"
   ]
  },
  {
   "cell_type": "code",
   "execution_count": null,
   "id": "0536c56e-d73b-4b42-8d37-81a61c0e60ea",
   "metadata": {},
   "outputs": [],
   "source": [
    "Replace [YOUR GIVEN NUMBER] with the actual value you want to test. The above code will divide \"n\" by 3 repeatedly until it becomes less than or equal to 10, and count the number of times it did so. Finally, it will print the count.\n",
    "\n",
    "I hope this helps! Let me know if you have any further questions."
   ]
  },
  {
   "cell_type": "code",
   "execution_count": null,
   "id": "ff623bf9-0a86-4c6f-ace4-a357fc5899fa",
   "metadata": {},
   "outputs": [],
   "source": [
    "# Ans-5"
   ]
  },
  {
   "cell_type": "code",
   "execution_count": null,
   "id": "0de63e25-8094-47c0-92cc-1988c748b255",
   "metadata": {},
   "outputs": [],
   "source": [
    "In Python, a while loop is used to repeatedly execute a block of code as long as a certain condition is true. The loop will continue to run until the condition becomes false.\n",
    "\n",
    "Here's the general syntax of a while loop in Python:\n",
    "while condition:\n",
    "    # code to be executed while the condition is true\n",
    "    \n",
    "    The condition is an expression that is evaluated before each iteration of the loop. If the condition is true, the code inside the loop is executed. If the condition is false, the loop is exited and the program continues with the code that follows the loop.\n",
    "\n",
    "Here are some examples of when and how to use a while loop in Python:\n",
    "\n",
    "Repeating an action until a condition is met\n",
    "\n",
    "i = 0\n",
    "while i < 10:\n",
    "    print(i)\n",
    "    i += 1\n",
    "    \n",
    "    This code will print the values of i from 0 to 9. The while loop will continue to execute until i is no longer less than 10.\n",
    "\n",
    "Reading input until a condition is met\n",
    "\n",
    "name = \"\"\n",
    "while not name:\n",
    "    name = input(\"Enter your name: \")\n",
    "print(\"Hello, \" + name + \"!\")\n",
    "\n",
    "This code will prompt the user to enter their name, and will continue to do so until a non-empty string is entered. The not name condition will be true as long as name is an empty string, so the loop will continue to execute until the user enters something.\n",
    "\n",
    "Iterating through a list until a condition is met\n",
    "\n",
    "numbers = [1, 2, 3, 4, 5, 6]\n",
    "i = 0\n",
    "while i < len(numbers):\n",
    "    print(numbers[i])\n",
    "    i += 1\n",
    "    \n",
    "    This code will print the values of the numbers list until the end of the list is reached. The i < len(numbers) condition will be true as long as there are more items in the list to iterate through.\n",
    "\n",
    "These are just a few examples of how you can use a while loop in Python. In general, you should use a while loop when you need to repeat a block of code multiple times, and you don't know ahead of time how many times you will need to repeat it. Just be careful to ensure that your loop will eventually terminate, otherwise your program could enter an infinite loop!"
   ]
  },
  {
   "cell_type": "code",
   "execution_count": null,
   "id": "36b00944-12b7-4968-98a3-06954803722f",
   "metadata": {},
   "outputs": [],
   "source": [
    "# Ans-6"
   ]
  },
  {
   "cell_type": "code",
   "execution_count": null,
   "id": "cf26f608-122a-4f6f-a017-862197a1dd53",
   "metadata": {},
   "outputs": [],
   "source": [
    "three different patterns that can be printed using nested while loops in Python:\n",
    "\n",
    "Square pattern:\n",
    "    \n",
    "    size = 5\n",
    "row = 1\n",
    "while row <= size:\n",
    "    col = 1\n",
    "    while col <= size:\n",
    "        print(\"*\", end=\"\")\n",
    "        col += 1\n",
    "    print()\n",
    "    row += 1\n",
    "    \n",
    "    This code will print a square pattern made up of asterisks:\n",
    "        \n",
    "        *****\n",
    "*****\n",
    "*****\n",
    "*****\n",
    "*****\n",
    "\n",
    "Right triangle pattern:\n",
    "    size = 5\n",
    "row = 1\n",
    "while row <= size:\n",
    "    col = 1\n",
    "    while col <= row:\n",
    "        print(\"*\", end=\"\")\n",
    "        col += 1\n",
    "    print()\n",
    "    row += 1\n",
    "    \n",
    "    This code will print a right triangle pattern made up of asterisks:\n",
    "        \n",
    "        *\n",
    "**\n",
    "***\n",
    "****\n",
    "*****\n",
    "\n",
    "Upside-down triangle pattern:\n",
    "    \n",
    "    size = 5\n",
    "row = size\n",
    "while row >= 1:\n",
    "    col = 1\n",
    "    while col <= row:\n",
    "        print(\"*\", end=\"\")\n",
    "        col += 1\n",
    "    print()\n",
    "    row -= 1\n",
    "    \n",
    "    This code will print an upside-down triangle pattern made up of asterisks:\n",
    "        \n",
    "        *****\n",
    "****\n",
    "***\n",
    "**\n",
    "*\n",
    "\n",
    "Note that each of these patterns uses two nested while loops: one to iterate over the rows, and one to iterate over the columns within each row. The inner while loop is executed multiple times for each iteration of the outer while loop, allowing us to print multiple characters per row. The end=\"\" parameter passed to the print() function ensures that each character is printed on the same line."
   ]
  },
  {
   "cell_type": "code",
   "execution_count": null,
   "id": "4f12485d-331b-473a-9b35-488767be367b",
   "metadata": {},
   "outputs": [],
   "source": [
    "# Ans-7"
   ]
  },
  {
   "cell_type": "code",
   "execution_count": null,
   "id": "27bf1f10-a5ec-4ffe-8336-de2a517553e1",
   "metadata": {},
   "outputs": [],
   "source": [
    "example of how to reverse a while loop in Python to display numbers from 10 to 1:\n",
    "    num = 10\n",
    "while num >= 1:\n",
    "    print(num)\n",
    "    num -= 1\n",
    "    \n",
    "    In this code, we start with num equal to 10, and then use a while loop to print the value of num and decrement it by 1 on each iteration. The loop continues as long as num is greater than or equal to 1. This will produce the following output:\n",
    "        10\n",
    "9\n",
    "8\n",
    "7\n",
    "6\n",
    "5\n",
    "4\n",
    "3\n",
    "2\n",
    "1\n",
    "\n",
    "Note that the loop terminates when num reaches 0. If we wanted to include 0 in the output, we could change the condition to num >= 0 instead of num >= 1."
   ]
  },
  {
   "cell_type": "code",
   "execution_count": null,
   "id": "e16b0cee-e02f-4971-a372-12b71b791b86",
   "metadata": {},
   "outputs": [],
   "source": [
    "# Ans-8"
   ]
  },
  {
   "cell_type": "code",
   "execution_count": 1,
   "id": "656883b1-8fc3-4dc6-ba34-7fab7b6efcef",
   "metadata": {},
   "outputs": [
    {
     "ename": "SyntaxError",
     "evalue": "invalid syntax (348446147.py, line 1)",
     "output_type": "error",
     "traceback": [
      "\u001b[0;36m  Cell \u001b[0;32mIn[1], line 1\u001b[0;36m\u001b[0m\n\u001b[0;31m    an example of how to reverse a while loop in Python to display numbers from 10 to 1:\u001b[0m\n\u001b[0m       ^\u001b[0m\n\u001b[0;31mSyntaxError\u001b[0m\u001b[0;31m:\u001b[0m invalid syntax\n"
     ]
    }
   ],
   "source": [
    "an example of how to reverse a while loop in Python to display numbers from 10 to 1:\n",
    "    \n",
    "    num = 10\n",
    "while num >= 1:\n",
    "    print(num)\n",
    "    num -= 1\n",
    "    \n",
    "    In this code, we start with num equal to 10, and then use a while loop to print the value of num and decrement it by 1 on each iteration. The loop continues as long as num is greater than or equal to 1. This will produce the following output:\n",
    "        10\n",
    "9\n",
    "8\n",
    "7\n",
    "6\n",
    "5\n",
    "4\n",
    "3\n",
    "2\n",
    "1\n",
    "\n",
    "Note that the loop terminates when num reaches 0. If we wanted to include 0 in the output, we could change the condition to num >= 0 instead of num >= 1."
   ]
  },
  {
   "cell_type": "code",
   "execution_count": null,
   "id": "c4550af6-db11-4472-a24e-ab858a81830c",
   "metadata": {},
   "outputs": [],
   "source": []
  },
  {
   "cell_type": "code",
   "execution_count": null,
   "id": "00125d7b-05ff-4fb7-a8d5-bc41a0dcfc0f",
   "metadata": {},
   "outputs": [],
   "source": []
  },
  {
   "cell_type": "code",
   "execution_count": null,
   "id": "f5f6894e-3f83-4e4a-9439-a9e33ac3f092",
   "metadata": {},
   "outputs": [],
   "source": []
  },
  {
   "cell_type": "code",
   "execution_count": null,
   "id": "15da756f-b5c8-4586-a697-858fcb5a1f4a",
   "metadata": {},
   "outputs": [],
   "source": []
  },
  {
   "cell_type": "code",
   "execution_count": null,
   "id": "14506722-08fb-45ec-ac9e-fa01bb69ff04",
   "metadata": {},
   "outputs": [],
   "source": []
  },
  {
   "cell_type": "code",
   "execution_count": null,
   "id": "823c2bf9-e6fd-45ab-aa0c-e497c97e101a",
   "metadata": {},
   "outputs": [],
   "source": []
  },
  {
   "cell_type": "code",
   "execution_count": null,
   "id": "b6c8d776-4401-4b16-b66d-f7a347f20c9e",
   "metadata": {},
   "outputs": [],
   "source": []
  },
  {
   "cell_type": "code",
   "execution_count": null,
   "id": "382217e3-fc71-4e14-9b0f-789096e73b7d",
   "metadata": {},
   "outputs": [],
   "source": []
  }
 ],
 "metadata": {
  "kernelspec": {
   "display_name": "Python 3 (ipykernel)",
   "language": "python",
   "name": "python3"
  },
  "language_info": {
   "codemirror_mode": {
    "name": "ipython",
    "version": 3
   },
   "file_extension": ".py",
   "mimetype": "text/x-python",
   "name": "python",
   "nbconvert_exporter": "python",
   "pygments_lexer": "ipython3",
   "version": "3.10.8"
  }
 },
 "nbformat": 4,
 "nbformat_minor": 5
}
