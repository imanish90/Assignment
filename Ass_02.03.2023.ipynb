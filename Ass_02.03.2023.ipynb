{
 "cells": [
  {
   "cell_type": "code",
   "execution_count": null,
   "id": "b1a96f44-cdf8-492f-95b8-616160b8c319",
   "metadata": {},
   "outputs": [],
   "source": [
    "# Ans-1"
   ]
  },
  {
   "cell_type": "code",
   "execution_count": null,
   "id": "fdbc0450-a7c8-474b-9508-c88b71e09ade",
   "metadata": {},
   "outputs": [],
   "source": [
    "Matplotlib is a popular data visualization library in Python used to create a wide range of graphs, charts, and other visualizations. It provides a flexible and powerful set of tools for creating plots and visualizations in Python.\n",
    "\n",
    "Matplotlib is used to represent data in a graphical format, making it easier to understand and interpret patterns, trends, and relationships within the data. It is commonly used in scientific research, data analysis, and machine learning.\n",
    "\n",
    "The Pyplot module of Matplotlib provides a simple interface for creating various types of plots. Here are five examples of plots that can be created using Pyplot:\n",
    "\n",
    "Line plot: A line plot displays data points connected by a line. It is used to show how a variable changes over time or across different categories.\n",
    "\n",
    "Bar plot: A bar plot displays data as rectangular bars of different heights. It is used to compare different categories or groups.\n",
    "\n",
    "Scatter plot: A scatter plot displays data as a collection of points. It is used to show the relationship between two variables.\n",
    "\n",
    "Histogram: A histogram displays data as a series of bars, where each bar represents a range of values. It is used to show the distribution of data.\n",
    "\n",
    "Pie chart: A pie chart displays data as a circle divided into sectors, where each sector represents a portion of the whole. It is used to show how a whole is divided into parts."
   ]
  },
  {
   "cell_type": "code",
   "execution_count": null,
   "id": "ee51485f-87dd-44c6-99f0-4c74ea26fb7c",
   "metadata": {},
   "outputs": [],
   "source": [
    "# Ans-2"
   ]
  },
  {
   "cell_type": "code",
   "execution_count": null,
   "id": "f783059b-eb07-4761-bcc1-2b8e542d51e1",
   "metadata": {},
   "outputs": [],
   "source": [
    "A scatter plot is a type of plot that displays data as a collection of points. It is used to show the relationship between two variables, where each point represents a pair of values for the two variables.\n",
    "\n",
    "Here is the code to generate a scatter plot using the provided data:"
   ]
  },
  {
   "cell_type": "code",
   "execution_count": null,
   "id": "084800a0-14eb-4a5e-a59f-3dd69d8b869b",
   "metadata": {},
   "outputs": [],
   "source": [
    "import matplotlib.pyplot as plt\n",
    "import numpy as np\n",
    "\n",
    "np.random.seed(3)\n",
    "\n",
    "x = 3 + np.random.normal(0, 2, 50)\n",
    "y = 3 + np.random.normal(0, 2, len(x))\n",
    "\n",
    "plt.scatter(x, y)\n",
    "plt.title(\"Scatter Plot of X and Y\")\n",
    "plt.xlabel(\"X Values\")\n",
    "plt.ylabel(\"Y Values\")\n",
    "plt.show()"
   ]
  },
  {
   "cell_type": "code",
   "execution_count": null,
   "id": "b5055873-23e0-4c99-8b52-c5581f4a4f76",
   "metadata": {},
   "outputs": [],
   "source": [
    "In this code, we first import the required libraries, set a random seed to ensure reproducibility of results, and generate the data for x and y using NumPy's random.normal() function.\n",
    "\n",
    "Then, we create a scatter plot using Matplotlib's plt.scatter() function and pass in the x and y values as arguments.\n",
    "\n",
    "Finally, we add a title, xlabel, and ylabel to the plot using plt.title(), plt.xlabel(), and plt.ylabel() functions respectively. We use plt.show() to display the plot.\n",
    "\n",
    "The resulting scatter plot shows the relationship between the x and y values, with each point representing a pair of values for the two variables. The title, xlabel, and ylabel make the plot more informative and easier to interpret."
   ]
  },
  {
   "cell_type": "code",
   "execution_count": null,
   "id": "4bd5def2-5da6-4a7e-9fee-abaf566e7298",
   "metadata": {},
   "outputs": [],
   "source": [
    "# Ans-3"
   ]
  },
  {
   "cell_type": "code",
   "execution_count": null,
   "id": "367ffd1a-b25f-4651-872a-13c78a288845",
   "metadata": {},
   "outputs": [],
   "source": [
    "The subplot() function is used to create multiple plots in the same figure. It allows us to divide the figure into a grid of subplots and plot different data or visualizations in each of these subplots.\n",
    "\n",
    "The syntax for subplot() function is subplot(nrows, ncols, plot_number), where nrows and ncols specify the number of rows and columns in the subplot grid, and plot_number specifies the position of the current plot in the grid.\n",
    "\n",
    "Here is the code to create four line plots using the subplot() function:"
   ]
  },
  {
   "cell_type": "code",
   "execution_count": null,
   "id": "53cf4eb2-2170-494f-8730-d49807e65564",
   "metadata": {},
   "outputs": [],
   "source": [
    "import matplotlib.pyplot as plt\n",
    "import numpy as np\n",
    "\n",
    "# Create the data\n",
    "x1 = np.array([0, 1, 2, 3, 4, 5])\n",
    "y1 = np.array([0, 100, 200, 300, 400, 500])\n",
    "x2 = np.array([0, 1, 2, 3, 4, 5])\n",
    "y2 = np.array([50, 20, 40, 20, 60, 70])\n",
    "x3 = np.array([0, 1, 2, 3, 4, 5])\n",
    "y3 = np.array([10, 20, 30, 40, 50, 60])\n",
    "x4 = np.array([0, 1, 2, 3, 4, 5])\n",
    "y4 = np.array([200, 350, 250, 550, 450, 150])\n",
    "\n",
    "# Create a figure with a 2x2 grid of subplots\n",
    "fig, axs = plt.subplots(nrows=2, ncols=2, figsize=(8, 6))\n",
    "\n",
    "# Plot the data on each subplot\n",
    "axs[0, 0].plot(x1, y1)\n",
    "axs[0, 1].plot(x2, y2)\n",
    "axs[1, 0].plot(x3, y3)\n",
    "axs[1, 1].plot(x4, y4)\n",
    "\n",
    "# Set the title of each subplot\n",
    "axs[0, 0].set_title('Line 1')\n",
    "axs[0, 1].set_title('Line 2')\n",
    "axs[1, 0].set_title('Line 3')\n",
    "axs[1, 1].set_title('Line 4')\n",
    "\n",
    "# Set the x-axis and y-axis labels for the whole figure\n",
    "fig.text(0.5, 0.04, 'X-axis', ha='center')\n",
    "fig.text(0.04, 0.5, 'Y-axis', va='center', rotation='vertical')\n",
    "\n",
    "# Show the plot\n",
    "plt.show()\n",
    "This code will create a figure with four line plots arranged in a 2x2 grid of subplots. Each subplot shows one of the four lines defined in the data arrays. The set_title() function is used to set the title of each subplot, and the fig.text() function is used to set the x-axis and y-axis labels for the whole figure. The resulting plot should look like this:\n",
    "\n",
    "subplot example\n",
    "\n",
    "\n",
    "\n",
    "\n",
    "\n"
   ]
  },
  {
   "cell_type": "code",
   "execution_count": null,
   "id": "10beb5d5-c272-48eb-a0bd-130d7b64201c",
   "metadata": {},
   "outputs": [],
   "source": [
    "This code will create a figure with four line plots arranged in a 2x2 grid of subplots. Each subplot shows one of the four lines defined in the data arrays. The set_title() function is used to set the title of each subplot, and the fig.text() function is used to set the x-axis and y-axis labels for the whole figure."
   ]
  },
  {
   "cell_type": "code",
   "execution_count": null,
   "id": "95648443-5e97-4236-a024-220cad1882cd",
   "metadata": {},
   "outputs": [],
   "source": [
    "# Ans-4"
   ]
  },
  {
   "cell_type": "code",
   "execution_count": null,
   "id": "33e77530-e381-4f8f-af2f-9080022f33e5",
   "metadata": {},
   "outputs": [],
   "source": [
    "A bar plot is a visualization tool used to display categorical data in the form of rectangular bars. The height or length of the bars represents the value of the corresponding category.\n",
    "\n",
    "Bar plots are often used to compare the values of different categories or to show the distribution of a single categorical variable. They are commonly used in business, finance, and social sciences to display data such as sales, revenue, or survey responses.\n",
    "\n",
    "Here's an example code to create a bar plot and a horizontal bar plot using the provided data:\n",
    "\n"
   ]
  },
  {
   "cell_type": "code",
   "execution_count": null,
   "id": "143fd624-7341-4cc5-ba69-7e31ce011bf2",
   "metadata": {},
   "outputs": [],
   "source": [
    "import matplotlib.pyplot as plt\n",
    "import numpy as np\n",
    "\n",
    "# Create the data\n",
    "company = np.array([\"Apple\", \"Microsoft\", \"Google\", \"AMD\"])\n",
    "profit = np.array([3000, 8000, 1000, 10000])\n",
    "\n",
    "# Create a vertical bar plot\n",
    "plt.bar(company, profit)\n",
    "\n",
    "# Set the x-label, y-label, and title\n",
    "plt.xlabel(\"Company\")\n",
    "plt.ylabel(\"Profit (in millions)\")\n",
    "plt.title(\"Company profits\")\n",
    "\n",
    "# Show the plot\n",
    "plt.show()"
   ]
  },
  {
   "cell_type": "code",
   "execution_count": null,
   "id": "95c52d7c-3d82-4711-93ec-ccbf58d223f5",
   "metadata": {},
   "outputs": [],
   "source": [
    "# Create a horizontal bar plot\n",
    "plt.barh(company, profit)\n",
    "\n",
    "# Set the x-label, y-label, and title\n",
    "plt.xlabel(\"Profit (in millions)\")\n",
    "plt.ylabel(\"Company\")\n",
    "plt.title(\"Company profits\")\n",
    "\n",
    "# Show the plot\n",
    "plt.show()"
   ]
  },
  {
   "cell_type": "code",
   "execution_count": null,
   "id": "33c5573e-de90-40cb-8683-a4400b7f076f",
   "metadata": {},
   "outputs": [],
   "source": [
    "# Ans-5"
   ]
  },
  {
   "cell_type": "code",
   "execution_count": null,
   "id": "cc43f9f8-1c43-4bde-a6fe-c0c2843a6aec",
   "metadata": {},
   "outputs": [],
   "source": [
    "A box plot, also known as a box-and-whisker plot, is a graphical representation of the distribution of numerical data through quartiles. The plot consists of a box, which represents the middle 50% of the data, and whiskers, which represent the range of the data outside the box.\n",
    "\n",
    "Box plots are commonly used to compare the distributions of multiple data sets or to identify outliers in a data set. They can also be used to show the spread, skewness, and symmetry of the data.\n",
    "\n",
    "Here's an example code to create a box plot using the provided data:"
   ]
  },
  {
   "cell_type": "code",
   "execution_count": null,
   "id": "de343faf-ea46-41d9-8ee5-ffa499423f6c",
   "metadata": {},
   "outputs": [],
   "source": [
    "import matplotlib.pyplot as plt\n",
    "import numpy as np\n",
    "\n",
    "# Create the data\n",
    "box1 = np.random.normal(100, 10, 200)\n",
    "box2 = np.random.normal(90, 20, 200)\n",
    "data = [box1, box2]\n",
    "\n",
    "# Create a box plot\n",
    "plt.boxplot(data)\n",
    "\n",
    "# Set the x-label, y-label, and title\n",
    "plt.xlabel(\"Box number\")\n",
    "plt.ylabel(\"Value\")\n",
    "plt.title(\"Box plot\")\n",
    "\n",
    "# Show the plot\n",
    "plt.show()"
   ]
  },
  {
   "cell_type": "code",
   "execution_count": null,
   "id": "84bd4fa7-caff-47cb-86b9-724aba8d99ae",
   "metadata": {},
   "outputs": [],
   "source": [
    "In the plot, the boxes represent the interquartile range (IQR) of the data, with the median line shown in the middle of the box. The whiskers extend from the box to show the range of the data, and any points beyond the whiskers are considered outliers. In this plot, there are no outliers."
   ]
  }
 ],
 "metadata": {
  "kernelspec": {
   "display_name": "Python 3 (ipykernel)",
   "language": "python",
   "name": "python3"
  },
  "language_info": {
   "codemirror_mode": {
    "name": "ipython",
    "version": 3
   },
   "file_extension": ".py",
   "mimetype": "text/x-python",
   "name": "python",
   "nbconvert_exporter": "python",
   "pygments_lexer": "ipython3",
   "version": "3.10.8"
  }
 },
 "nbformat": 4,
 "nbformat_minor": 5
}
