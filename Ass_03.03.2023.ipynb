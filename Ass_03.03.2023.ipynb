{
 "cells": [
  {
   "cell_type": "code",
   "execution_count": null,
   "id": "312df276-0df8-45a0-b026-cf6b4cbf9bf0",
   "metadata": {},
   "outputs": [],
   "source": [
    "# Ans-1"
   ]
  },
  {
   "cell_type": "code",
   "execution_count": null,
   "id": "6fc5d174-14c0-4798-92e8-e565a3f2b42c",
   "metadata": {},
   "outputs": [],
   "source": [
    "five plots that we can create using Seaborn:\n",
    "\n",
    "Histogram plot: A histogram is a graphical representation of the distribution of a dataset. It is useful for exploring the underlying frequency distribution of a set of continuous or discrete data. Seaborn's histplot() function allows us to create a histogram with several options for customizing the plot, such as changing the bin size or using a kernel density estimate. This plot is particularly useful for exploring the shape of a dataset and identifying outliers.\n",
    "\n",
    "Scatter plot: A scatter plot is a way to visualize the relationship between two continuous variables. Each point on the plot represents a single observation, and the position of the point is determined by the values of the two variables being plotted. Seaborn's scatterplot() function allows us to create a scatter plot with optional regression lines and confidence intervals. This plot is particularly useful for identifying trends or patterns in the data.\n",
    "\n",
    "Bar plot: A bar plot is a way to compare categorical data using bars of different heights or lengths. Seaborn's barplot() function allows us to create a bar plot with optional error bars and custom color palettes. This plot is particularly useful for visualizing the differences between categories in a dataset.\n",
    "\n",
    "Line plot: A line plot is a way to visualize how a continuous variable changes over time or across different conditions. Seaborn's lineplot() function allows us to create a line plot with optional error bands and custom markers. This plot is particularly useful for exploring trends in time-series data or comparing the performance of different conditions.\n",
    "\n",
    "Heatmap: A heatmap is a way to visualize the relationships between multiple variables by using color to represent the strength of the relationship. Seaborn's heatmap() function allows us to create a heatmap with optional annotations and custom color maps. This plot is particularly useful for exploring correlation matrices or visualizing the results of clustering algorithms."
   ]
  },
  {
   "cell_type": "code",
   "execution_count": null,
   "id": "bbd4d612-a86f-4f07-929c-b0232578f23a",
   "metadata": {},
   "outputs": [],
   "source": [
    "# Ans-2"
   ]
  },
  {
   "cell_type": "code",
   "execution_count": null,
   "id": "db4b4113-b691-4f7e-abcf-ed6c50eeb172",
   "metadata": {},
   "outputs": [],
   "source": [
    "import seaborn as sns\n",
    "\n",
    "# Load the \"fmri\" dataset\n",
    "fmri = sns.load_dataset(\"fmri\")\n",
    "\n",
    "# Create the line plot with different events and regions\n",
    "sns.lineplot(x=\"timepoint\", y=\"signal\", hue=\"event\", style=\"region\", data=fmri)"
   ]
  },
  {
   "cell_type": "code",
   "execution_count": null,
   "id": "123dd1de-c619-4efb-95f4-1a9ceaf7c99b",
   "metadata": {},
   "outputs": [],
   "source": [
    "This code uses the load_dataset() function from Seaborn to load the \"fmri\" dataset, which contains functional MRI data. Then, it uses the lineplot() function to create a line plot of the \"signal\" column over time (\"timepoint\"), with different lines for each \"event\" and different line styles for each \"region\". The resulting plot should show how the signal changes over time for each combination of event and region."
   ]
  },
  {
   "cell_type": "code",
   "execution_count": null,
   "id": "7d0d611c-4855-4fe1-b9c4-048fc0cbfb80",
   "metadata": {},
   "outputs": [],
   "source": [
    "# Ans-3"
   ]
  },
  {
   "cell_type": "code",
   "execution_count": null,
   "id": "7a923ef6-90ac-46ae-a8d1-2dbbae5aeeb8",
   "metadata": {},
   "outputs": [],
   "source": [
    "import seaborn as sns\n",
    "\n",
    "# Load the \"titanic\" dataset\n",
    "titanic = sns.load_dataset(\"titanic\")\n",
    "\n",
    "# Create two box plots side-by-side using subplot\n",
    "sns.set(style=\"whitegrid\")  # Set the style of the plot\n",
    "fig, ax = plt.subplots(ncols=2, figsize=(10, 5))  # Create a 1x2 subplot\n",
    "\n",
    "# Box plot of age by pclass\n",
    "sns.boxplot(x=\"pclass\", y=\"age\", data=titanic, ax=ax[0])\n",
    "ax[0].set_title(\"Age by Passenger Class\")\n",
    "\n",
    "# Box plot of fare by pclass\n",
    "sns.boxplot(x=\"pclass\", y=\"fare\", data=titanic, ax=ax[1])\n",
    "ax[1].set_title(\"Fare by Passenger Class\")\n",
    "\n",
    "plt.show()  # Show the plot"
   ]
  },
  {
   "cell_type": "code",
   "execution_count": null,
   "id": "dfe82dbe-6756-45f5-92eb-d1f8a23e1f9c",
   "metadata": {},
   "outputs": [],
   "source": [
    "This code first loads the \"titanic\" dataset using load_dataset(). Then, it creates a subplot with two columns using subplots(), and sets the style of the plot using set().\n",
    "\n",
    "For the first box plot, it uses boxplot() to create a box plot of age by passenger class, and sets the title of the plot using set_title(). For the second box plot, it does the same thing, but with fare instead of age.\n",
    "\n",
    "Finally, it shows the plot using show(). The resulting plot should show two side-by-side box plots of age and fare by passenger class, respectively."
   ]
  },
  {
   "cell_type": "code",
   "execution_count": null,
   "id": "08c566cf-c8e1-41b3-a93f-f0be129ef264",
   "metadata": {},
   "outputs": [],
   "source": [
    "# Ans-4"
   ]
  },
  {
   "cell_type": "code",
   "execution_count": null,
   "id": "6d6ebc41-f88a-4adf-a408-49b467b1333c",
   "metadata": {},
   "outputs": [],
   "source": [
    "To plot a histogram for the 'price' column of the diamonds dataset using seaborn library, we can use the histplot() function. Additionally, we can use the hue parameter to differentiate the diamonds based on their 'cut' column.\n",
    "\n",
    "Here's the code to do so:"
   ]
  },
  {
   "cell_type": "code",
   "execution_count": null,
   "id": "d61c74a6-7d3a-470d-b530-876b83c0c079",
   "metadata": {},
   "outputs": [],
   "source": [
    "import seaborn as sns\n",
    "\n",
    "diamonds = sns.load_dataset('diamonds')  # load the diamonds dataset\n",
    "\n",
    "sns.histplot(data=diamonds, x=\"price\", hue=\"cut\", multiple=\"stack\")"
   ]
  },
  {
   "cell_type": "code",
   "execution_count": null,
   "id": "1062bb0b-80d8-4542-a342-bc624ee38c01",
   "metadata": {},
   "outputs": [],
   "source": [
    "This will create a histogram with the 'price' column on the x-axis and the count of diamonds on the y-axis. The 'cut' column will be used to differentiate the diamonds by their cut, with each cut represented by a different color in the plot.\n",
    "\n",
    "The multiple=\"stack\" parameter stacks the different cut categories on top of each other for easy comparison. If you prefer a different style, you can change this parameter to multiple=\"dodge\" to have each cut category side-by-side.\n",
    "\n",
    "Note that seaborn library should be installed in your environment to be able to run this code."
   ]
  },
  {
   "cell_type": "code",
   "execution_count": null,
   "id": "44773cb7-0ce8-4991-b1b4-ed9c0b5430c1",
   "metadata": {},
   "outputs": [],
   "source": [
    "# Ans-5"
   ]
  },
  {
   "cell_type": "code",
   "execution_count": null,
   "id": "0b5f0b82-dd06-4fa6-aca5-640a5aa276de",
   "metadata": {},
   "outputs": [],
   "source": [
    "To plot a pair plot of the iris dataset with the 'species' column used as the hue parameter, we can use the sns.pairplot() function from the seaborn library.\n",
    "\n",
    "Here's the code to do so:"
   ]
  },
  {
   "cell_type": "code",
   "execution_count": null,
   "id": "d2b50fd3-5bdb-49b3-8688-ceb2aca3a966",
   "metadata": {},
   "outputs": [],
   "source": [
    "import seaborn as sns\n",
    "\n",
    "iris = sns.load_dataset('iris')  # load the iris dataset\n",
    "\n",
    "sns.pairplot(data=iris, hue='species')"
   ]
  },
  {
   "cell_type": "code",
   "execution_count": null,
   "id": "c693b4dd-191b-40e6-93aa-5e5965008d6e",
   "metadata": {},
   "outputs": [],
   "source": [
    "This will create a pair plot with scatter plots of all the possible combinations of the numeric columns in the iris dataset. The 'species' column will be used as the hue parameter to differentiate the different species of iris by different colors in the plot.\n",
    "\n",
    "The resulting plot will have diagonal axes with histograms of the respective columns, and off-diagonal axes with scatter plots of the column pairs. The plot will also have a legend indicating the colors associated with each species.\n",
    "\n",
    "Note that seaborn library should be installed in your environment to be able to run this code."
   ]
  },
  {
   "cell_type": "code",
   "execution_count": null,
   "id": "4406a46b-2cf2-4517-8c6c-f4b9fe056041",
   "metadata": {},
   "outputs": [],
   "source": [
    "# Ans-6"
   ]
  },
  {
   "cell_type": "code",
   "execution_count": null,
   "id": "a12628d1-a047-43cd-a93f-b74ef2f97cc1",
   "metadata": {},
   "outputs": [],
   "source": [
    "To plot a heatmap of the flights dataset using seaborn library, we can use the heatmap() function.\n",
    "\n",
    "Here's the code to do so:"
   ]
  },
  {
   "cell_type": "code",
   "execution_count": null,
   "id": "96289582-b26c-49d7-8697-4930ffc097e0",
   "metadata": {},
   "outputs": [],
   "source": [
    "import seaborn as sns\n",
    "\n",
    "flights = sns.load_dataset('flights')  # load the flights dataset\n",
    "\n",
    "flights = flights.pivot('month', 'year', 'passengers')  # reshape the data into a pivot table\n",
    "\n",
    "sns.heatmap(data=flights, cmap='Blues', annot=True, fmt='d')"
   ]
  },
  {
   "cell_type": "code",
   "execution_count": null,
   "id": "dcefde2c-4808-4207-8e3c-09147b5feadd",
   "metadata": {},
   "outputs": [],
   "source": [
    "This will create a heatmap with the months of the year on the y-axis, the years on the x-axis, and the number of passengers on each cell of the heatmap. The cmap parameter sets the color map to use, while annot=True and fmt='d' show the actual number of passengers in each cell.\n",
    "\n",
    "The resulting plot will have a color legend indicating the number of passengers associated with each color.\n",
    "\n",
    "Note that seaborn library should be installed in your environment to be able to run this code.\n",
    "\n",
    "\n",
    "\n",
    "\n",
    "\n"
   ]
  }
 ],
 "metadata": {
  "kernelspec": {
   "display_name": "Python 3 (ipykernel)",
   "language": "python",
   "name": "python3"
  },
  "language_info": {
   "codemirror_mode": {
    "name": "ipython",
    "version": 3
   },
   "file_extension": ".py",
   "mimetype": "text/x-python",
   "name": "python",
   "nbconvert_exporter": "python",
   "pygments_lexer": "ipython3",
   "version": "3.10.8"
  }
 },
 "nbformat": 4,
 "nbformat_minor": 5
}
