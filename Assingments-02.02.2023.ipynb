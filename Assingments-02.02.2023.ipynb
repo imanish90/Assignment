{
 "cells": [
  {
   "cell_type": "code",
   "execution_count": 1,
   "id": "013a741d-76ac-4645-9682-d0a510927fbc",
   "metadata": {},
   "outputs": [],
   "source": [
    "# Ans -1"
   ]
  },
  {
   "cell_type": "code",
   "execution_count": 2,
   "id": "4bf1ee52-8e99-48f5-b020-31fbc2c01aba",
   "metadata": {},
   "outputs": [],
   "source": [
    "# for loop"
   ]
  },
  {
   "cell_type": "code",
   "execution_count": 13,
   "id": "f2a69f3d-411e-44b6-b1de-83cc725ca41b",
   "metadata": {},
   "outputs": [
    {
     "name": "stdout",
     "output_type": "stream",
     "text": [
      "apple\n",
      "cherry\n",
      "banana\n"
     ]
    }
   ],
   "source": [
    "fruits = [\"apple\", \"cherry\", \"banana\"]\n",
    "for fruit in fruits :\n",
    "    print(fruit)\n",
    "\n",
    "    "
   ]
  },
  {
   "cell_type": "code",
   "execution_count": 14,
   "id": "e2abc563-0959-49b6-99f4-1ff0aff06987",
   "metadata": {},
   "outputs": [],
   "source": [
    "# while loop"
   ]
  },
  {
   "cell_type": "code",
   "execution_count": 19,
   "id": "183d4c4a-3a9b-4cf8-8151-4c3fad9c86bf",
   "metadata": {},
   "outputs": [
    {
     "name": "stdout",
     "output_type": "stream",
     "text": [
      "-1\n",
      "0\n",
      "1\n",
      "2\n",
      "3\n",
      "4\n",
      "5\n"
     ]
    }
   ],
   "source": [
    "x=-1\n",
    "while x<6 :\n",
    "    print(x)\n",
    "    x+=1"
   ]
  },
  {
   "cell_type": "code",
   "execution_count": 20,
   "id": "8eb9195e-f76e-4c4d-a4ba-b1c6064a4759",
   "metadata": {},
   "outputs": [],
   "source": [
    "# Ans-2"
   ]
  },
  {
   "cell_type": "code",
   "execution_count": 21,
   "id": "4e908573-d5a1-4bbf-9916-a7ded7738b60",
   "metadata": {},
   "outputs": [],
   "source": [
    "# sum of product of first 10 natural numbers using a for loop"
   ]
  },
  {
   "cell_type": "code",
   "execution_count": 26,
   "id": "799d5f3d-34cf-4e85-a728-009096a0029d",
   "metadata": {},
   "outputs": [
    {
     "name": "stdout",
     "output_type": "stream",
     "text": [
      "using for loop:\n",
      "sum of the 10 natural numbers is: 1\n",
      "product of the 10 natural numbers is: 1\n",
      "using for loop:\n",
      "sum of the 10 natural numbers is: 3\n",
      "product of the 10 natural numbers is: 2\n",
      "using for loop:\n",
      "sum of the 10 natural numbers is: 6\n",
      "product of the 10 natural numbers is: 6\n",
      "using for loop:\n",
      "sum of the 10 natural numbers is: 10\n",
      "product of the 10 natural numbers is: 24\n",
      "using for loop:\n",
      "sum of the 10 natural numbers is: 15\n",
      "product of the 10 natural numbers is: 120\n",
      "using for loop:\n",
      "sum of the 10 natural numbers is: 21\n",
      "product of the 10 natural numbers is: 720\n",
      "using for loop:\n",
      "sum of the 10 natural numbers is: 28\n",
      "product of the 10 natural numbers is: 5040\n",
      "using for loop:\n",
      "sum of the 10 natural numbers is: 36\n",
      "product of the 10 natural numbers is: 40320\n",
      "using for loop:\n",
      "sum of the 10 natural numbers is: 45\n",
      "product of the 10 natural numbers is: 362880\n",
      "using for loop:\n",
      "sum of the 10 natural numbers is: 55\n",
      "product of the 10 natural numbers is: 3628800\n"
     ]
    }
   ],
   "source": [
    "numbers = range(1,11)\n",
    "sum_of_numbers = 0\n",
    "product_of_numbers = 1\n",
    "\n",
    "for num in numbers :\n",
    "    sum_of_numbers +=num\n",
    "    product_of_numbers *= num\n",
    "    \n",
    "    print(\"using for loop:\")\n",
    "    print(\"sum of the 10 natural numbers is:\", sum_of_numbers)\n",
    "    print(\"product of the 10 natural numbers is:\", product_of_numbers)\n",
    "    "
   ]
  },
  {
   "cell_type": "code",
   "execution_count": 27,
   "id": "5f099d6f-38ed-483d-9914-07944b85df85",
   "metadata": {},
   "outputs": [],
   "source": [
    "# Sum and product of the first 10 natural numbers using a while loop"
   ]
  },
  {
   "cell_type": "code",
   "execution_count": null,
   "id": "ddac8914-f077-4ac7-a897-b3e011f169d4",
   "metadata": {},
   "outputs": [],
   "source": [
    "numbers = range(1,11)\n",
    "sum_of_numbers = 0\n",
    "product_of_numbers = 1\n",
    "i = 0\n",
    "\n",
    "while i < len(numbers):\n",
    "    sum_of_numbers += numbers[i]\n",
    "    product_of_numbers *= numbers[i]\n",
    "    i += 1\n",
    "    print(\"using while loop:\")\n",
    "    print(\"Sum of the first 10 natural numbers:\", sum_of_numbers)\n",
    "    print(\"product of the first 10 natural numbers:\", product_of_numbers)"
   ]
  },
  {
   "cell_type": "code",
   "execution_count": null,
   "id": "379b44c9-c090-4d89-a1ce-d217e370d762",
   "metadata": {},
   "outputs": [],
   "source": []
  },
  {
   "cell_type": "code",
   "execution_count": null,
   "id": "ef04dc4c-8637-4ed0-a6ed-347fcfa7cf6e",
   "metadata": {},
   "outputs": [],
   "source": [
    "# Ans -3"
   ]
  },
  {
   "cell_type": "code",
   "execution_count": null,
   "id": "a5f0398a-54cd-4d2a-adf8-49e682c5e7e2",
   "metadata": {},
   "outputs": [],
   "source": [
    "units_consumed = int(input(\"Enter the number of units consumed: \"))\n",
    "\n",
    "if units_consumed <= 100:\n",
    "    bill_amount = units_consumed * 4.5\n",
    "elif units_consumed <= 200:\n",
    "    bill_amount = 100 * 4.5 + (units_consumed - 100) * 6\n",
    "elif units_consumed <= 300:\n",
    "    bill_amount = 100 * 4.5 + 100 * 6 + (units_consumed - 200) * 10\n",
    "else:\n",
    "    bill_amount = 100 * 4.5 + 100 * 6 + 100 * 10 + (units_consumed - 300) * 20\n",
    "\n",
    "print(\"Electricity bill amount for {} units is Rs.{}\".format(units_consumed, bill_amount))"
   ]
  },
  {
   "cell_type": "code",
   "execution_count": null,
   "id": "30709b0f-2041-410e-8416-8733ac2c2dec",
   "metadata": {},
   "outputs": [],
   "source": [
    "#Ans-4-"
   ]
  },
  {
   "cell_type": "code",
   "execution_count": null,
   "id": "859f2975-d9ea-40a1-a542-d4714ab1f8ff",
   "metadata": {},
   "outputs": [],
   "source": [
    "cubes_divisible_by_4_or_5 = []\n",
    "\n",
    "for num in range(1, 101):\n",
    "    cube = num ** 3\n",
    "    if cube % 4 == 0 or cube % 5 == 0:\n",
    "        cubes_divisible_by_4_or_5.append(num)\n",
    "\n",
    "print(\"List of cubes of numbers divisible by 4 or 5:\")\n",
    "print(cubes_divisible_by_4_or_5)\n",
    "\n"
   ]
  },
  {
   "cell_type": "code",
   "execution_count": null,
   "id": "7301df5f-b9e8-4bf1-8538-9ced0aeb25b7",
   "metadata": {},
   "outputs": [],
   "source": [
    "#Ans - 5-"
   ]
  },
  {
   "cell_type": "code",
   "execution_count": null,
   "id": "9a24e1ea-33e4-4d53-826a-db826f90499b",
   "metadata": {},
   "outputs": [],
   "source": [
    "string = \"I want to become a data scientist\"\n",
    "vowel_count = 0\n",
    "for char in string:\n",
    "     if char.lower() in vowels:\n",
    "            vowel_count += 1\n",
    "            print(char)\n",
    "            print(\"Total vowels:\", vowel_count)\n",
    "\n"
   ]
  },
  {
   "cell_type": "code",
   "execution_count": null,
   "id": "8cedd637-12d6-48d2-b6bf-4e24824f6ade",
   "metadata": {},
   "outputs": [],
   "source": []
  }
 ],
 "metadata": {
  "kernelspec": {
   "display_name": "Python 3 (ipykernel)",
   "language": "python",
   "name": "python3"
  },
  "language_info": {
   "codemirror_mode": {
    "name": "ipython",
    "version": 3
   },
   "file_extension": ".py",
   "mimetype": "text/x-python",
   "name": "python",
   "nbconvert_exporter": "python",
   "pygments_lexer": "ipython3",
   "version": "3.10.8"
  }
 },
 "nbformat": 4,
 "nbformat_minor": 5
}
