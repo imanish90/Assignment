{
 "cells": [
  {
   "cell_type": "code",
   "execution_count": 1,
   "id": "1085f219-b98f-452c-88da-4f035c5e0093",
   "metadata": {},
   "outputs": [],
   "source": [
    "# Ans- 1-"
   ]
  },
  {
   "cell_type": "code",
   "execution_count": 2,
   "id": "4c194be4-e589-45cd-a5e1-b168a581036e",
   "metadata": {},
   "outputs": [
    {
     "ename": "SyntaxError",
     "evalue": "invalid syntax (3648846538.py, line 1)",
     "output_type": "error",
     "traceback": [
      "\u001b[0;36m  Cell \u001b[0;32mIn[2], line 1\u001b[0;36m\u001b[0m\n\u001b[0;31m    Abstraction is one of the core principles of Object-Oriented Programming (OOP) that helps to manage the complexity of a program by hiding unnecessary details and exposing only the essential features to the user. It is the process of identifying the important characteristics and behavior of an object, and ignoring the irrelevant details\u001b[0m\n\u001b[0m                       ^\u001b[0m\n\u001b[0;31mSyntaxError\u001b[0m\u001b[0;31m:\u001b[0m invalid syntax\n"
     ]
    }
   ],
   "source": [
    "Abstraction is one of the core principles of Object-Oriented Programming (OOP) that helps to manage the complexity of a program by hiding unnecessary details and exposing only the essential features to the user. It is the process of identifying the important characteristics and behavior of an object, and ignoring the irrelevant details"
   ]
  },
  {
   "cell_type": "code",
   "execution_count": 4,
   "id": "90d4fb76-6a6f-4a42-8ab2-807909f45421",
   "metadata": {},
   "outputs": [
    {
     "name": "stdout",
     "output_type": "stream",
     "text": [
      "Dog is running.\n",
      "Bird is flying.\n"
     ]
    }
   ],
   "source": [
    "from abc import ABC, abstractmethod\n",
    "\n",
    "class Animal(ABC):\n",
    "    @abstractmethod\n",
    "    def move(self):\n",
    "        pass\n",
    "\n",
    "class Dog(Animal):\n",
    "    def move(self):\n",
    "        print(\"Dog is running.\")\n",
    "\n",
    "class Bird(Animal):\n",
    "    def move(self):\n",
    "        print(\"Bird is flying.\")\n",
    "\n",
    "dog = Dog()\n",
    "dog.move() \n",
    "\n",
    "bird = Bird()\n",
    "bird.move()"
   ]
  },
  {
   "cell_type": "code",
   "execution_count": 5,
   "id": "69f102db-e9c4-4e77-b1d1-308413e1b705",
   "metadata": {},
   "outputs": [],
   "source": [
    "# Ans-2-"
   ]
  },
  {
   "cell_type": "code",
   "execution_count": 6,
   "id": "14970784-888a-43cd-beff-a30d4fc86566",
   "metadata": {},
   "outputs": [
    {
     "ename": "SyntaxError",
     "evalue": "invalid syntax (3203076655.py, line 1)",
     "output_type": "error",
     "traceback": [
      "\u001b[0;36m  Cell \u001b[0;32mIn[6], line 1\u001b[0;36m\u001b[0m\n\u001b[0;31m    Abstraction is the process of identifying the essential features of an object, while hiding the unnecessary details. It involves defining abstract classes and interfaces that specify the behavior of an object without providing the implementation details\u001b[0m\n\u001b[0m                       ^\u001b[0m\n\u001b[0;31mSyntaxError\u001b[0m\u001b[0;31m:\u001b[0m invalid syntax\n"
     ]
    }
   ],
   "source": [
    "Abstraction is the process of identifying the essential features of an object, while hiding the unnecessary details. It involves defining abstract classes and interfaces that specify the behavior of an object without providing the implementation details"
   ]
  },
  {
   "cell_type": "code",
   "execution_count": 7,
   "id": "601759dc-a6a1-4104-90dc-cbcb504777a2",
   "metadata": {},
   "outputs": [
    {
     "ename": "SyntaxError",
     "evalue": "unterminated string literal (detected at line 1) (2913022624.py, line 1)",
     "output_type": "error",
     "traceback": [
      "\u001b[0;36m  Cell \u001b[0;32mIn[7], line 1\u001b[0;36m\u001b[0m\n\u001b[0;31m    Encapsulation, on the other hand, is the process of hiding the internal details of an object from the outside world, and providing a well-defined interface for accessing the object's properties and methods.\u001b[0m\n\u001b[0m                                                                                                                                                                                        ^\u001b[0m\n\u001b[0;31mSyntaxError\u001b[0m\u001b[0;31m:\u001b[0m unterminated string literal (detected at line 1)\n"
     ]
    }
   ],
   "source": [
    "Encapsulation, on the other hand, is the process of hiding the internal details of an object from the outside world, and providing a well-defined interface for accessing the object's properties and methods."
   ]
  },
  {
   "cell_type": "code",
   "execution_count": 8,
   "id": "a931eba1-9180-47ca-b043-5740fd6f1509",
   "metadata": {},
   "outputs": [],
   "source": [
    "class Employee:\n",
    "    def __init__(self, name, salary):\n",
    "        self.name = name\n",
    "        self.salary = salary\n",
    "\n",
    "    def get_name(self):\n",
    "        return self.name\n",
    "\n",
    "    def get_salary(self):\n",
    "        return self.salary"
   ]
  },
  {
   "cell_type": "code",
   "execution_count": 9,
   "id": "6e2136a9-b8b5-4ac7-9279-288fa62beff5",
   "metadata": {},
   "outputs": [],
   "source": [
    "from abc import ABC, abstractmethod\n",
    "\n",
    "class Employee(ABC):\n",
    "    @abstractmethod\n",
    "    def get_name(self):\n",
    "        pass\n",
    "\n",
    "    @abstractmethod\n",
    "    def get_salary(self):\n",
    "        pass"
   ]
  },
  {
   "cell_type": "code",
   "execution_count": 10,
   "id": "f4834dce-9035-409a-96b8-03bbd2d42a55",
   "metadata": {},
   "outputs": [],
   "source": [
    "class Employee:\n",
    "    def __init__(self, name, salary):\n",
    "        self.name = name\n",
    "        self.__salary = salary\n",
    "\n",
    "    def get_name(self):\n",
    "        return self.name\n",
    "\n",
    "    def get_salary(self):\n",
    "        return self.__salary\n",
    "\n",
    "    def set_salary(self, new_salary):\n",
    "        self.__salary = new_salary"
   ]
  },
  {
   "cell_type": "code",
   "execution_count": 11,
   "id": "b3430aa3-0a08-45b9-a5ee-dcc33bfafcf3",
   "metadata": {},
   "outputs": [],
   "source": [
    "# Ans-3-"
   ]
  },
  {
   "cell_type": "code",
   "execution_count": 12,
   "id": "69955506-76fa-4c94-9611-766684e2ba35",
   "metadata": {},
   "outputs": [
    {
     "ename": "SyntaxError",
     "evalue": "invalid syntax (2606397480.py, line 1)",
     "output_type": "error",
     "traceback": [
      "\u001b[0;36m  Cell \u001b[0;32mIn[12], line 1\u001b[0;36m\u001b[0m\n\u001b[0;31m    abc module in Python stands for \"Abstract Base Classes\". It is a module that provides infrastructure for defining abstract base classes and registering concrete classes as implementations of the abstract base.\u001b[0m\n\u001b[0m        ^\u001b[0m\n\u001b[0;31mSyntaxError\u001b[0m\u001b[0;31m:\u001b[0m invalid syntax\n"
     ]
    }
   ],
   "source": [
    "abc module in Python stands for \"Abstract Base Classes\". It is a module that provides infrastructure for defining abstract base classes and registering concrete classes as implementations of the abstract base."
   ]
  },
  {
   "cell_type": "code",
   "execution_count": 13,
   "id": "c15f53f1-8d34-4cc2-9b1f-643f6fa9c849",
   "metadata": {},
   "outputs": [
    {
     "ename": "SyntaxError",
     "evalue": "invalid syntax (3893704175.py, line 1)",
     "output_type": "error",
     "traceback": [
      "\u001b[0;36m  Cell \u001b[0;32mIn[13], line 1\u001b[0;36m\u001b[0m\n\u001b[0;31m    Abstract base classes are classes that are meant to be inherited by other classes, but not instantiated themselves. They define a set of abstract methods that any class inheriting from them must implement. Abstract base classes provide a way to define a common interface for a set of related classes, without implementing that interface itself.\u001b[0m\n\u001b[0m             ^\u001b[0m\n\u001b[0;31mSyntaxError\u001b[0m\u001b[0;31m:\u001b[0m invalid syntax\n"
     ]
    }
   ],
   "source": [
    "Abstract base classes are classes that are meant to be inherited by other classes, but not instantiated themselves. They define a set of abstract methods that any class inheriting from them must implement. Abstract base classes provide a way to define a common interface for a set of related classes, without implementing that interface itself.\n",
    "\n",
    "The abc module provides the ABC class, which is used as a base class for defining abstract base classes. Any class that inherits from ABC and defines one or more abstract methods is considered an abstract base class."
   ]
  },
  {
   "cell_type": "code",
   "execution_count": 14,
   "id": "b86cdacf-cf7d-4991-aa43-8b82836b8b1b",
   "metadata": {},
   "outputs": [
    {
     "ename": "TypeError",
     "evalue": "Can't instantiate abstract class Snake with abstract method make_sound",
     "output_type": "error",
     "traceback": [
      "\u001b[0;31m---------------------------------------------------------------------------\u001b[0m",
      "\u001b[0;31mTypeError\u001b[0m                                 Traceback (most recent call last)",
      "Cell \u001b[0;32mIn[14], line 21\u001b[0m\n\u001b[1;32m     19\u001b[0m dog \u001b[38;5;241m=\u001b[39m Dog()\n\u001b[1;32m     20\u001b[0m cat \u001b[38;5;241m=\u001b[39m Cat()\n\u001b[0;32m---> 21\u001b[0m snake \u001b[38;5;241m=\u001b[39m \u001b[43mSnake\u001b[49m\u001b[43m(\u001b[49m\u001b[43m)\u001b[49m\n",
      "\u001b[0;31mTypeError\u001b[0m: Can't instantiate abstract class Snake with abstract method make_sound"
     ]
    }
   ],
   "source": [
    "from abc import ABC, abstractmethod\n",
    "\n",
    "class Animal(ABC):\n",
    "    @abstractmethod\n",
    "    def make_sound(self):\n",
    "        pass\n",
    "\n",
    "class Dog(Animal):\n",
    "    def make_sound(self):\n",
    "        return \"Woof!\"\n",
    "\n",
    "class Cat(Animal):\n",
    "    def make_sound(self):\n",
    "        return \"Meow!\"\n",
    "\n",
    "class Snake(Animal):\n",
    "    pass\n",
    "\n",
    "dog = Dog()\n",
    "cat = Cat()\n",
    "snake = Snake()"
   ]
  },
  {
   "cell_type": "code",
   "execution_count": 15,
   "id": "829155b4-53b6-40b0-89ad-f2093ee01f4f",
   "metadata": {},
   "outputs": [
    {
     "name": "stdout",
     "output_type": "stream",
     "text": [
      "Woof!\n",
      "Meow!\n"
     ]
    }
   ],
   "source": [
    "print(dog.make_sound())\n",
    "print(cat.make_sound())"
   ]
  },
  {
   "cell_type": "code",
   "execution_count": 16,
   "id": "c9842642-f68a-499c-bee9-fe652f60139e",
   "metadata": {},
   "outputs": [],
   "source": [
    "# Ans-4-"
   ]
  },
  {
   "cell_type": "code",
   "execution_count": 17,
   "id": "94ad02d8-95a8-4606-9ca3-b92af9212d45",
   "metadata": {},
   "outputs": [
    {
     "ename": "SyntaxError",
     "evalue": "invalid syntax (1292185229.py, line 1)",
     "output_type": "error",
     "traceback": [
      "\u001b[0;36m  Cell \u001b[0;32mIn[17], line 1\u001b[0;36m\u001b[0m\n\u001b[0;31m    e can achieve data abstraction in object-oriented programming using classes and objects.\u001b[0m\n\u001b[0m      ^\u001b[0m\n\u001b[0;31mSyntaxError\u001b[0m\u001b[0;31m:\u001b[0m invalid syntax\n"
     ]
    }
   ],
   "source": [
    "e can achieve data abstraction in object-oriented programming using classes and objects.\n",
    "\n",
    "In Python, we can achieve data abstraction in the following ways:\n",
    "\n",
    "Encapsulation: This involves hiding the implementation details of a class from its users, and providing a simple and clean interface for them to interact with. This is typically achieved through the use of public and private methods and attributes. Public methods and attributes can be accessed by anyone using the class, while private methods and attributes can only be accessed within the class itself.\n",
    "\n",
    "Abstract Classes: Abstract classes provide a way to define a common interface for a set of related classes, without implementing that interface itself. Any class that inherits from an abstract class must implement the methods defined in the abstract class. This allows for polymorphism, where different objects of related classes can be treated the same way.\n",
    "\n",
    "Interfaces: Interfaces are similar to abstract classes, but they only define method signatures and do not provide any implementation. Any class that implements an interface must provide an implementation for all the methods defined in the interface. This allows for loose coupling between classes, as they can interact with each other through their interfaces rather than directly."
   ]
  },
  {
   "cell_type": "code",
   "execution_count": 18,
   "id": "5c3b5821-56a9-4c10-95cb-e18b06f246ed",
   "metadata": {},
   "outputs": [],
   "source": [
    "#-Ans-5"
   ]
  },
  {
   "cell_type": "code",
   "execution_count": 19,
   "id": "bfe9fa37-35b7-4986-b59f-4ea369b7abbf",
   "metadata": {},
   "outputs": [
    {
     "ename": "SyntaxError",
     "evalue": "invalid syntax (2117822314.py, line 1)",
     "output_type": "error",
     "traceback": [
      "\u001b[0;36m  Cell \u001b[0;32mIn[19], line 1\u001b[0;36m\u001b[0m\n\u001b[0;31m    No, we cannot create an instance of an abstract class in Python. An abstract class is a class that contains one or more abstract methods, which are methods that have a declaration but no implementation. The purpose of an abstract class is to provide a common interface for a set of related classes, but it cannot be instantiated itself.\u001b[0m\n\u001b[0m           ^\u001b[0m\n\u001b[0;31mSyntaxError\u001b[0m\u001b[0;31m:\u001b[0m invalid syntax\n"
     ]
    }
   ],
   "source": [
    "No, we cannot create an instance of an abstract class in Python. An abstract class is a class that contains one or more abstract methods, which are methods that have a declaration but no implementation. The purpose of an abstract class is to provide a common interface for a set of related classes, but it cannot be instantiated itself.\n",
    "\n",
    "Attempting to create an instance of an abstract class in Python will result in a TypeError, with the message \"Can't instantiate abstract class [class name] with abstract methods [method name]\". This is because an abstract class is incomplete and does not provide a complete implementation of its methods.\n",
    "\n",
    "To use an abstract class, we need to create a concrete subclass that inherits from the abstract class and provides an implementation for all the abstract methods. Only the concrete subclass can be instantiated and used."
   ]
  },
  {
   "cell_type": "code",
   "execution_count": 20,
   "id": "0e6b14a1-cbe1-4178-86e0-35aa35569aff",
   "metadata": {},
   "outputs": [],
   "source": [
    "from abc import ABC, abstractmethod\n",
    "\n",
    "class Vehicle(ABC):\n",
    "    @abstractmethod\n",
    "    def drive(self):\n",
    "        pass"
   ]
  },
  {
   "cell_type": "code",
   "execution_count": 21,
   "id": "922463a3-e00a-4c0c-b023-fec98c2de9db",
   "metadata": {},
   "outputs": [
    {
     "ename": "TypeError",
     "evalue": "Can't instantiate abstract class Vehicle with abstract method drive",
     "output_type": "error",
     "traceback": [
      "\u001b[0;31m---------------------------------------------------------------------------\u001b[0m",
      "\u001b[0;31mTypeError\u001b[0m                                 Traceback (most recent call last)",
      "Cell \u001b[0;32mIn[21], line 1\u001b[0m\n\u001b[0;32m----> 1\u001b[0m vehicle \u001b[38;5;241m=\u001b[39m \u001b[43mVehicle\u001b[49m\u001b[43m(\u001b[49m\u001b[43m)\u001b[49m\n",
      "\u001b[0;31mTypeError\u001b[0m: Can't instantiate abstract class Vehicle with abstract method drive"
     ]
    }
   ],
   "source": [
    "vehicle = Vehicle()"
   ]
  },
  {
   "cell_type": "code",
   "execution_count": 22,
   "id": "534897f4-5188-49de-b95a-1bd2de488f5c",
   "metadata": {},
   "outputs": [],
   "source": [
    "class Car(Vehicle):\n",
    "    def drive(self):\n",
    "        print(\"Driving a car\")"
   ]
  },
  {
   "cell_type": "code",
   "execution_count": 23,
   "id": "cdb7b04f-1719-43f4-8aff-50321c863ae3",
   "metadata": {},
   "outputs": [],
   "source": [
    "car = Car()\n",
    "car = Car()"
   ]
  },
  {
   "cell_type": "code",
   "execution_count": null,
   "id": "b5c4d3be-ea15-4cb5-a01a-ba3bf53fb7d0",
   "metadata": {},
   "outputs": [],
   "source": []
  }
 ],
 "metadata": {
  "kernelspec": {
   "display_name": "Python 3 (ipykernel)",
   "language": "python",
   "name": "python3"
  },
  "language_info": {
   "codemirror_mode": {
    "name": "ipython",
    "version": 3
   },
   "file_extension": ".py",
   "mimetype": "text/x-python",
   "name": "python",
   "nbconvert_exporter": "python",
   "pygments_lexer": "ipython3",
   "version": "3.10.8"
  }
 },
 "nbformat": 4,
 "nbformat_minor": 5
}
