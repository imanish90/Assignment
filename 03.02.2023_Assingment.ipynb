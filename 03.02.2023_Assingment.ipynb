{
 "cells": [
  {
   "cell_type": "code",
   "execution_count": 1,
   "id": "f9b549c6-78d3-4135-949b-b7f65489b321",
   "metadata": {},
   "outputs": [],
   "source": [
    "# Ans-1- The keyword used to create a function in most programming languages, including Python, is \"def\"\n"
   ]
  },
  {
   "cell_type": "code",
   "execution_count": 2,
   "id": "5990ffe3-abf8-4846-a82b-1ba7edde3efa",
   "metadata": {},
   "outputs": [],
   "source": [
    "def odd_numbers():\n",
    "    odd_nums = []\n",
    "    for num in range(1, 26):\n",
    "        if num % 2 != 0:\n",
    "            odd_nums.append(num)\n",
    "    return odd_nums"
   ]
  },
  {
   "cell_type": "code",
   "execution_count": 6,
   "id": "09838d7c-5666-4dd5-9c16-ddc81146ebc0",
   "metadata": {},
   "outputs": [
    {
     "name": "stdout",
     "output_type": "stream",
     "text": [
      "[1, 3, 5, 7, 9, 11, 13, 15, 17, 19, 21, 23, 25]\n"
     ]
    }
   ],
   "source": [
    "my_list = odd_numbers()\n",
    "print(my_list)"
   ]
  },
  {
   "cell_type": "code",
   "execution_count": null,
   "id": "40c4e51f-7e03-45c4-a3cf-6063292b3634",
   "metadata": {},
   "outputs": [],
   "source": [
    "# Ans-2- The *args syntax is used to pass a variable number of arguments to a function. It is represented by an asterisk followed by a variable name (usually args, but it can be any valid variable name). Inside the function, the args variable will be a tuple containing all the positional arguments passed to the function.\n",
    "def multiply(*args):\n",
    "    result = 1\n",
    "    for arg in args:\n",
    "        result *= arg\n",
    "    return result\n",
    "\n",
    "\n",
    "The **kwargs syntax is used to pass a variable number of keyword arguments to a function. It is represented by two asterisks followed by a variable name (usually kwargs, but it can be any valid variable name). Inside the function, the kwargs variable will be a dictionary containing all the keyword arguments passed to the function.\n",
    "def print_details(**kwargs):\n",
    "    for key, value in kwargs.items():\n",
    "        print(f\"{key}: {value}\")"
   ]
  },
  {
   "cell_type": "code",
   "execution_count": null,
   "id": "3d03eb40-6096-4655-92d2-7896d71faded",
   "metadata": {},
   "outputs": [],
   "source": [
    "# Ans-3-  iterator is an object that implements the iterator protocol, which consists of the __iter__() and __next__() methods.\n",
    "my_list = [2, 4, 6, 8, 10, 12, 14, 16, 18, 20]\n",
    "\n",
    "# Initialize the iterator object\n",
    "my_iterator = iter(my_list)\n",
    "\n",
    "# Iterate over the first five elements\n",
    "for i in range(5):\n",
    "    # Get the next element from the iterator\n",
    "    element = next(my_iterator)\n",
    "    # Print the element\n",
    "    print(element)"
   ]
  },
  {
   "cell_type": "code",
   "execution_count": null,
   "id": "6199b06f-15ba-43b8-90b4-014f57c00c73",
   "metadata": {},
   "outputs": [],
   "source": [
    "# Ans-4- generator function is a special kind of function that returns an iterator. Unlike regular functions that return a value and then terminate, generator functions can yield a sequence of values, one at a time, and then pause execution until the next value is requested. This allows for the creation of memory-efficient and easy-to-use iterators\n"
   ]
  },
  {
   "cell_type": "code",
   "execution_count": null,
   "id": "9c63bd2a-8472-4e18-affb-f99b80500f38",
   "metadata": {},
   "outputs": [],
   "source": [
    "def even_numbers(n):\n",
    "    for i in range(n):\n",
    "        if i % 2 == 0:\n",
    "            yield i"
   ]
  },
  {
   "cell_type": "code",
   "execution_count": null,
   "id": "0309f44d-2c8e-4f61-993b-3fd7a024d9b1",
   "metadata": {},
   "outputs": [],
   "source": [
    "# Ans-5- \n",
    "def generate_primes():\n",
    "    yield 2  # first prime number\n",
    "    primes = [2]\n",
    "    num = 3\n",
    "    while num < 1000:\n",
    "        is_prime = True\n",
    "        for prime in primes:\n",
    "            if num % prime == 0:\n",
    "                is_prime = False\n",
    "                break\n",
    "        if is_prime:\n",
    "            primes.append(num)\n",
    "            yield num\n",
    "        num += 2  # only check odd numbers\n",
    "        \n",
    "        prime_gen = generate_primes()\n",
    "for i in range(20):\n",
    "    print(next(prime_gen))\n",
    "\n",
    "\n",
    "\n"
   ]
  },
  {
   "cell_type": "code",
   "execution_count": null,
   "id": "e7ecf242-1db4-46f2-b816-34095934c77a",
   "metadata": {},
   "outputs": [],
   "source": [
    "#-Ans-6-"
   ]
  },
  {
   "cell_type": "code",
   "execution_count": null,
   "id": "000910c2-4221-495b-850e-fb035f232283",
   "metadata": {},
   "outputs": [],
   "source": [
    "a, b = 0, 1\n",
    "count = 0\n",
    "while count < 10:\n",
    "    print(a)\n",
    "    a, b = b, a + b\n",
    "    count += 1"
   ]
  },
  {
   "cell_type": "code",
   "execution_count": null,
   "id": "e8bee787-1a9d-4e66-a648-8e541414aff7",
   "metadata": {},
   "outputs": [],
   "source": [
    "#-Ans-7-"
   ]
  },
  {
   "cell_type": "code",
   "execution_count": null,
   "id": "f994e0a1-6c3e-4c6f-8ca1-4f8e0fbb3a9d",
   "metadata": {},
   "outputs": [],
   "source": [
    "string = 'pwskills'\n",
    "unique_letters = [char for char in string if string.count(char) == 1]\n",
    "print(unique_letters)"
   ]
  },
  {
   "cell_type": "code",
   "execution_count": null,
   "id": "d8ffa08d-cd82-436d-bdb3-681ecf235ef9",
   "metadata": {},
   "outputs": [],
   "source": [
    "string = 'pwskills'\n",
    "repeated_letters = [char for char in string if string.count(char) > 1]\n",
    "print(repeated_letters)"
   ]
  },
  {
   "cell_type": "code",
   "execution_count": null,
   "id": "58e14e1f-27c3-4920-b016-9c1d0a006d49",
   "metadata": {},
   "outputs": [],
   "source": [
    "#-Ans-8-"
   ]
  },
  {
   "cell_type": "code",
   "execution_count": null,
   "id": "780da05c-b75a-4d18-a9de-74faa0aeebed",
   "metadata": {},
   "outputs": [],
   "source": [
    "num = int(input(\"Enter a number: \"))\n",
    "temp = num\n",
    "reverse = 0\n",
    "while temp > 0:\n",
    "    remainder = temp % 10\n",
    "    reverse = reverse * 10 + remainder\n",
    "    temp = temp // 10\n",
    "if num == reverse:\n",
    "    print(num, \"is a palindrome\")\n",
    "else:\n",
    "    print(num, \"is not a palindrome\")"
   ]
  },
  {
   "cell_type": "code",
   "execution_count": null,
   "id": "1dc90c9b-9871-4fbc-95fe-3a813773b8cd",
   "metadata": {},
   "outputs": [],
   "source": [
    "#-Ans-9-"
   ]
  },
  {
   "cell_type": "code",
   "execution_count": null,
   "id": "1cfc43e2-51f4-4824-a14a-b2f97c37ace2",
   "metadata": {},
   "outputs": [],
   "source": [
    "odd_numbers = [num for num in range(1, 101) if num % 2 != 0]\n",
    "print(odd_numbers)"
   ]
  }
 ],
 "metadata": {
  "kernelspec": {
   "display_name": "Python 3 (ipykernel)",
   "language": "python",
   "name": "python3"
  },
  "language_info": {
   "codemirror_mode": {
    "name": "ipython",
    "version": 3
   },
   "file_extension": ".py",
   "mimetype": "text/x-python",
   "name": "python",
   "nbconvert_exporter": "python",
   "pygments_lexer": "ipython3",
   "version": "3.10.8"
  }
 },
 "nbformat": 4,
 "nbformat_minor": 5
}
