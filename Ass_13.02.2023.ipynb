{
 "cells": [
  {
   "cell_type": "code",
   "execution_count": null,
   "id": "d1dd52de-ca65-4ade-ae6a-820924bb2a2a",
   "metadata": {},
   "outputs": [],
   "source": [
    "# Ans-1"
   ]
  },
  {
   "cell_type": "code",
   "execution_count": null,
   "id": "4311aef8-21fe-4093-96ec-5dd7e702a136",
   "metadata": {},
   "outputs": [],
   "source": [
    "In Python, exceptions are a mechanism for handling errors and exceptional situations in a program. When an error occurs in a program, an exception is raised, and the program may terminate or take some other action based on how the exception is handled.\n",
    "\n",
    "Custom exceptions are exceptions that you create yourself, to indicate specific errors or exceptional situations that are relevant to your program. When you create a custom exception, you need to define a new class that inherits from the built-in Exception class, or one of its subclasses.\n",
    "\n",
    "There are several reasons why it's important to use the Exception class as the base class for custom exceptions:\n",
    "\n",
    "Inheriting from Exception ensures that your custom exception behaves like a standard Python exception. This means that it can be caught and handled by the same exception handling mechanisms that are used for built-in exceptions.\n",
    "\n",
    "Inheriting from Exception also ensures that your custom exception will have all of the standard exception attributes and methods, such as args and __str__. These are used by the interpreter when printing error messages and stack traces.\n",
    "\n",
    "If you inherit from a more specific exception class, such as ValueError or TypeError, your custom exception will only be caught by handlers that specifically catch that type of exception. Inheriting from Exception makes your custom exception more general and easier to use.\n",
    "\n",
    "Overall, using the Exception class as the base class for custom exceptions ensures that your exceptions behave like standard Python exceptions, making them easier to use and integrate with existing code."
   ]
  },
  {
   "cell_type": "code",
   "execution_count": null,
   "id": "bf20712b-ba33-45db-b542-33fa3aa4a7d2",
   "metadata": {},
   "outputs": [],
   "source": [
    "# Ans-2"
   ]
  },
  {
   "cell_type": "code",
   "execution_count": null,
   "id": "e8357b90-e51c-4346-9bb2-5ee70955ed79",
   "metadata": {},
   "outputs": [],
   "source": [
    "Sure, here's a Python program that prints the Python Exception Hierarchy:"
   ]
  },
  {
   "cell_type": "code",
   "execution_count": null,
   "id": "ae72292b-8672-4e90-9ccf-37a82ac40431",
   "metadata": {},
   "outputs": [],
   "source": [
    "class PrintExceptionHierarchy:\n",
    "    def __init__(self, exception_class=Exception):\n",
    "        self.exception_class = exception_class\n",
    "\n",
    "    def print_hierarchy(self, indent=0):\n",
    "        print(' ' * indent + self.exception_class.__name__)\n",
    "        for subclass in self.exception_class.__subclasses__():\n",
    "            self.exception_class = subclass\n",
    "            self.print_hierarchy(indent + 4)\n",
    "\n",
    "\n",
    "if __name__ == '__main__':\n",
    "    peh = PrintExceptionHierarchy()\n",
    "    peh.print_hierarchy()"
   ]
  },
  {
   "cell_type": "code",
   "execution_count": null,
   "id": "b2f31201-8c90-423e-8d9b-19d23e819054",
   "metadata": {},
   "outputs": [],
   "source": [
    "# Ans-3"
   ]
  },
  {
   "cell_type": "code",
   "execution_count": null,
   "id": "32d63d86-1fa2-4dfb-bbd6-3db19dd819f5",
   "metadata": {},
   "outputs": [],
   "source": [
    "The ArithmeticError class is a base class for all errors that occur during arithmetic computations. Some of the errors defined in the ArithmeticError class are:\n",
    "\n",
    "ZeroDivisionError: This error occurs when a number is divided by zero. It is raised by the division operator / and the modulo operator %. For example, consider the following code:"
   ]
  },
  {
   "cell_type": "code",
   "execution_count": null,
   "id": "ac7ba7da-43aa-40da-8d97-fc10d7802209",
   "metadata": {},
   "outputs": [],
   "source": [
    "a = 10\n",
    "b = 0\n",
    "c = a/b\n",
    "When the above code is executed, a ZeroDivisionError will be raised because b is equal to zero"
   ]
  },
  {
   "cell_type": "code",
   "execution_count": null,
   "id": "3a92056e-b329-4aaa-b595-0cc647ade950",
   "metadata": {},
   "outputs": [],
   "source": [
    "OverflowError: This error occurs when a calculation exceeds the maximum value that can be represented by a numeric type. It is raised by the built-in functions int() and float() when the result of the conversion is too large to be represented by the target type. For example, consider the following code:"
   ]
  },
  {
   "cell_type": "code",
   "execution_count": null,
   "id": "419be1c0-68af-4321-be1c-1713ed07b58d",
   "metadata": {},
   "outputs": [],
   "source": [
    "import sys\n",
    "\n",
    "maxint = sys.maxsize\n",
    "x = maxint + 1\n"
   ]
  },
  {
   "cell_type": "code",
   "execution_count": null,
   "id": "714fb89d-c886-45e5-bdaf-fe81ed88f582",
   "metadata": {},
   "outputs": [],
   "source": [
    "When the above code is executed, an OverflowError will be raised because x exceeds the maximum value that can be represented by an integer type on the current platform.\n",
    "\n",
    "Both of these errors inherit from the ArithmeticError class because they are related to arithmetic computations. It's important to handle these errors properly in your code to ensure that your program behaves correctly and doesn't crash unexpectedly."
   ]
  },
  {
   "cell_type": "code",
   "execution_count": null,
   "id": "f9ef6138-42da-48a7-a633-1f47ee6ce45f",
   "metadata": {},
   "outputs": [],
   "source": [
    "# Ans-4-"
   ]
  },
  {
   "cell_type": "code",
   "execution_count": null,
   "id": "547afee5-b6f0-4584-b685-6da9dd865b5c",
   "metadata": {},
   "outputs": [],
   "source": [
    "The LookupError class is a base class for all errors that occur when a key or index used to access a container (such as a dictionary or list) is invalid. It is used to catch and handle exceptions that occur when an element is not found in a sequence or mapping.\n",
    "\n",
    "Two examples of exceptions that inherit from LookupError are:\n",
    "\n",
    "KeyError: This error is raised when a key is not found in a dictionary. For example, consider the following code:\n",
    "    \n",
    "    my_dict = {'a': 1, 'b': 2, 'c': 3}\n",
    "value = my_dict['d']\n",
    "\n",
    "When the above code is executed, a KeyError will be raised because the key 'd' does not exist in the dictionary my_dict.\n",
    "\n",
    "IndexError: This error is raised when an index used to access an element in a list or tuple is out of range. For example, consider the following code:\n",
    "    my_list = [1, 2, 3]\n",
    "value = my_list[3]\n",
    "\n"
   ]
  },
  {
   "cell_type": "code",
   "execution_count": null,
   "id": "04d0b720-f045-4a3d-bbca-5d65020b7e1b",
   "metadata": {},
   "outputs": [],
   "source": [
    "# Ans-5"
   ]
  },
  {
   "cell_type": "code",
   "execution_count": null,
   "id": "6db84307-aabd-4ddd-ad5a-0cc830863740",
   "metadata": {},
   "outputs": [],
   "source": [
    "In Python, ImportError is an exception that occurs when the import statement fails to find and load a module. This could be due to a variety of reasons such as the module not being installed, the module not being in the expected location, or the module being named incorrectly.\n",
    "\n",
    "For example, if you try to import a module that does not exist, you will get an ImportError. Here's an example:\n"
   ]
  },
  {
   "cell_type": "code",
   "execution_count": null,
   "id": "e6475585-5d41-44e4-b879-b3fcc74b0308",
   "metadata": {},
   "outputs": [],
   "source": [
    "import some_module"
   ]
  },
  {
   "cell_type": "code",
   "execution_count": null,
   "id": "31c39c26-d3a1-475f-8bff-c57c148a9ecc",
   "metadata": {},
   "outputs": [],
   "source": [
    "If some_module does not exist, you will get an ImportError.\n",
    "\n",
    "On the other hand, ModuleNotFoundError is a specific type of ImportError that occurs when the module being imported is not found. This was introduced in Python 3.6 to provide a more specific error message for missing modules. In earlier versions of Python, a missing module would also raise an ImportError, but the error message would not indicate that the module was not found specifically.\n",
    "\n",
    "Here's an example of ModuleNotFoundError:"
   ]
  },
  {
   "cell_type": "code",
   "execution_count": null,
   "id": "9627fd58-6fae-47c9-ae0c-b33ce09c15f6",
   "metadata": {},
   "outputs": [],
   "source": [
    "from non_existent_module import some_function"
   ]
  },
  {
   "cell_type": "code",
   "execution_count": null,
   "id": "af116ead-efad-481d-9779-8b1d0677c016",
   "metadata": {},
   "outputs": [],
   "source": [
    "This will raise a ModuleNotFoundError since non_existent_module does not exist."
   ]
  },
  {
   "cell_type": "code",
   "execution_count": null,
   "id": "bec03362-4cfc-468d-8f16-3879b5702aa0",
   "metadata": {},
   "outputs": [],
   "source": [
    "# Ans-6-"
   ]
  },
  {
   "cell_type": "code",
   "execution_count": null,
   "id": "e2fe6fb1-3bac-430d-9563-6e1cf24bacf2",
   "metadata": {},
   "outputs": [],
   "source": [
    "Exception handling is an important aspect of writing robust and reliable Python code. Here are some best practices for exception handling in Python:\n",
    "\n",
    "Be specific with the exception you catch: Always try to catch specific exceptions rather than a generic Exception class. This will make your code more readable and easier to debug.\n",
    "\n",
    "Use try-except blocks sparingly: Don't overuse try-except blocks in your code. Only catch exceptions that you can handle and let the rest propagate up the call stack.\n",
    "\n",
    "Handle exceptions gracefully: When an exception occurs, handle it gracefully by displaying a helpful error message and providing suggestions to the user for resolving the issue.\n",
    "\n",
    "Don't hide exceptions: Avoid suppressing exceptions by simply logging them and not doing anything else. This can make it difficult to diagnose and fix issues.\n",
    "\n",
    "Use the finally block: Use the finally block to release resources or perform cleanup tasks, even if an exception occurs.\n",
    "\n",
    "Avoid catching all exceptions: Be careful when using a bare except statement, which catches all exceptions. This can make it difficult to identify and fix issues.\n",
    "\n",
    "Use the with statement: Use the with statement when working with resources that need to be cleaned up after use, such as file objects, database connections, or network sockets.\n",
    "\n",
    "Use custom exceptions: Define custom exceptions to represent specific error conditions in your code. This makes your code more readable and easier to maintain.\n",
    "\n",
    "Log exceptions: Log exceptions using a logging library like logging or loguru. This makes it easier to diagnose issues and troubleshoot errors.\n",
    "\n",
    "Test exception handling: Write tests to ensure that your exception handling code works as expected. This will help catch issues early in the development process."
   ]
  }
 ],
 "metadata": {
  "kernelspec": {
   "display_name": "Python 3 (ipykernel)",
   "language": "python",
   "name": "python3"
  },
  "language_info": {
   "codemirror_mode": {
    "name": "ipython",
    "version": 3
   },
   "file_extension": ".py",
   "mimetype": "text/x-python",
   "name": "python",
   "nbconvert_exporter": "python",
   "pygments_lexer": "ipython3",
   "version": "3.10.8"
  }
 },
 "nbformat": 4,
 "nbformat_minor": 5
}
