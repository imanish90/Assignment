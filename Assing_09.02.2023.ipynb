{
 "cells": [
  {
   "cell_type": "code",
   "execution_count": 1,
   "id": "9cd4d3a4-4d9d-4360-a245-903b50b746e7",
   "metadata": {},
   "outputs": [],
   "source": [
    "# Ans-1"
   ]
  },
  {
   "cell_type": "code",
   "execution_count": 2,
   "id": "bdfcb864-4be2-45e5-a6ce-8000b8a4841f",
   "metadata": {},
   "outputs": [],
   "source": [
    "class Vehicle:\n",
    "    def __init__(self, name_of_vehicle, max_speed, average_speed):\n",
    "        self.name_of_vehicle = name_of_vehicle\n",
    "        self.max_speed = max_speed\n",
    "        self.average_speed = average_speed"
   ]
  },
  {
   "cell_type": "code",
   "execution_count": 3,
   "id": "d3fd2dbd-6b25-41e9-bfda-37c4b6c75c51",
   "metadata": {},
   "outputs": [],
   "source": [
    "car = Vehicle(\"Toyota Camry\", 150, 60)"
   ]
  },
  {
   "cell_type": "code",
   "execution_count": 4,
   "id": "68751329-e45f-4f8f-abfc-5f5b2c31900f",
   "metadata": {},
   "outputs": [
    {
     "name": "stdout",
     "output_type": "stream",
     "text": [
      "Toyota Camry\n",
      "150\n",
      "60\n"
     ]
    }
   ],
   "source": [
    "print(car.name_of_vehicle) \n",
    "print(car.max_speed)  \n",
    "print(car.average_speed)"
   ]
  },
  {
   "cell_type": "code",
   "execution_count": 5,
   "id": "909d98b5-9fff-46c0-a7f6-c491156c2022",
   "metadata": {},
   "outputs": [],
   "source": [
    "# Ans-2-"
   ]
  },
  {
   "cell_type": "code",
   "execution_count": 6,
   "id": "8769b8f0-73b6-49f0-b0c0-c2e5918adcd6",
   "metadata": {},
   "outputs": [],
   "source": [
    "class Car(Vehicle):\n",
    "    def __init__(self, name_of_vehicle, max_speed, average_speed):\n",
    "        super().__init__(name_of_vehicle, max_speed, average_speed)\n",
    "        \n",
    "    def seating_capacity(self, capacity):\n",
    "        return f\"{self.name_of_vehicle} has a seating capacity of {capacity} people.\""
   ]
  },
  {
   "cell_type": "code",
   "execution_count": 7,
   "id": "48ab98ff-24c9-408c-9d81-f020a573fdc4",
   "metadata": {},
   "outputs": [
    {
     "name": "stdout",
     "output_type": "stream",
     "text": [
      "Toyota Camry has a seating capacity of 5 people.\n"
     ]
    }
   ],
   "source": [
    "car = Car(\"Toyota Camry\", 150, 60)\n",
    "print(car.seating_capacity(5))"
   ]
  },
  {
   "cell_type": "code",
   "execution_count": 8,
   "id": "86a043e9-b2af-4340-a7c7-1a8106a5095c",
   "metadata": {},
   "outputs": [],
   "source": [
    "# Ans-3"
   ]
  },
  {
   "cell_type": "code",
   "execution_count": 9,
   "id": "d33e735a-e1e6-4321-87a5-2c92cd499ea1",
   "metadata": {},
   "outputs": [
    {
     "data": {
      "text/plain": [
       "'Multiple inheritance is a feature of object-oriented programming in which a subclass can inherit from multiple parent classes. This allows the subclass to inherit attributes and methods from multiple sources, which can be useful in certain situations.'"
      ]
     },
     "execution_count": 9,
     "metadata": {},
     "output_type": "execute_result"
    }
   ],
   "source": [
    "\"Multiple inheritance is a feature of object-oriented programming in which a subclass can inherit from multiple parent classes. This allows the subclass to inherit attributes and methods from multiple sources, which can be useful in certain situations.\""
   ]
  },
  {
   "cell_type": "code",
   "execution_count": 10,
   "id": "13221b52-aa50-4d86-9258-289152a7571e",
   "metadata": {},
   "outputs": [
    {
     "name": "stdout",
     "output_type": "stream",
     "text": [
      "Method A\n",
      "Method B\n",
      "Method C\n"
     ]
    }
   ],
   "source": [
    "class A:\n",
    "    def method_a(self):\n",
    "        print(\"Method A\")\n",
    "\n",
    "class B:\n",
    "    def method_b(self):\n",
    "        print(\"Method B\")\n",
    "\n",
    "class C(A, B):\n",
    "    def method_c(self):\n",
    "        print(\"Method C\")\n",
    "        \n",
    "c = C()\n",
    "c.method_a() \n",
    "c.method_b()\n",
    "c.method_c() "
   ]
  },
  {
   "cell_type": "code",
   "execution_count": 11,
   "id": "53c8824f-65d9-4899-8ddb-a29ffcce9acf",
   "metadata": {},
   "outputs": [],
   "source": [
    "# Ans-4"
   ]
  },
  {
   "cell_type": "code",
   "execution_count": 12,
   "id": "ca2ac3aa-839a-42c2-a997-a80d7ef85633",
   "metadata": {},
   "outputs": [
    {
     "data": {
      "text/plain": [
       "'In Python, getter and setter methods are used to get and set the values of instance variables of a class. These methods allow for data encapsulation, which means that the inner workings of the class are hidden from the user, and they can only access or modify the data through these methods'"
      ]
     },
     "execution_count": 12,
     "metadata": {},
     "output_type": "execute_result"
    }
   ],
   "source": [
    "\"In Python, getter and setter methods are used to get and set the values of instance variables of a class. These methods allow for data encapsulation, which means that the inner workings of the class are hidden from the user, and they can only access or modify the data through these methods\""
   ]
  },
  {
   "cell_type": "code",
   "execution_count": 13,
   "id": "4680ca65-366c-42c2-9dac-9f34bfa7ff9e",
   "metadata": {},
   "outputs": [],
   "source": [
    "class Person:\n",
    "    def __init__(self, name, age):\n",
    "        self._name = name\n",
    "        self._age = age\n",
    "\n",
    "    def get_name(self):\n",
    "        return self._name\n",
    "\n",
    "    def set_name(self, name):\n",
    "        self._name = name\n",
    "\n",
    "    def get_age(self):\n",
    "        return self._age\n",
    "\n",
    "    def set_age(self, age):\n",
    "        self._age = age"
   ]
  },
  {
   "cell_type": "code",
   "execution_count": 14,
   "id": "7e062bd4-b46e-4f17-bf95-da4bac315c20",
   "metadata": {},
   "outputs": [],
   "source": [
    "# Ans-5"
   ]
  },
  {
   "cell_type": "code",
   "execution_count": 15,
   "id": "bc6bb3c3-11f4-456d-ad73-23c5b0e41cd5",
   "metadata": {},
   "outputs": [
    {
     "data": {
      "text/plain": [
       "'Method overriding in Python is the ability of a subclass to provide its own implementation of a method that is already defined in its parent class. When a method is called on an object of the subclass, the overridden method in the subclass will be called instead of the original method in the parent class.'"
      ]
     },
     "execution_count": 15,
     "metadata": {},
     "output_type": "execute_result"
    }
   ],
   "source": [
    "\"Method overriding in Python is the ability of a subclass to provide its own implementation of a method that is already defined in its parent class. When a method is called on an object of the subclass, the overridden method in the subclass will be called instead of the original method in the parent class.\""
   ]
  },
  {
   "cell_type": "code",
   "execution_count": 16,
   "id": "eba43a0b-9279-4d8d-a0be-78816de4f8e6",
   "metadata": {},
   "outputs": [
    {
     "name": "stdout",
     "output_type": "stream",
     "text": [
      "The animal makes a sound\n",
      "The cat meows\n"
     ]
    }
   ],
   "source": [
    "class Animal:\n",
    "    def make_sound(self):\n",
    "        print(\"The animal makes a sound\")\n",
    "\n",
    "class Cat(Animal):\n",
    "    def make_sound(self):\n",
    "        print(\"The cat meows\")\n",
    "\n",
    "animal = Animal()\n",
    "animal.make_sound()\n",
    "\n",
    "cat = Cat()\n",
    "cat.make_sound()"
   ]
  },
  {
   "cell_type": "code",
   "execution_count": null,
   "id": "106eca4d-b4f0-4a08-a81b-7b7d9b7f4bf3",
   "metadata": {},
   "outputs": [],
   "source": []
  }
 ],
 "metadata": {
  "kernelspec": {
   "display_name": "Python 3 (ipykernel)",
   "language": "python",
   "name": "python3"
  },
  "language_info": {
   "codemirror_mode": {
    "name": "ipython",
    "version": 3
   },
   "file_extension": ".py",
   "mimetype": "text/x-python",
   "name": "python",
   "nbconvert_exporter": "python",
   "pygments_lexer": "ipython3",
   "version": "3.10.8"
  }
 },
 "nbformat": 4,
 "nbformat_minor": 5
}
