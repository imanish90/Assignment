{
 "cells": [
  {
   "cell_type": "code",
   "execution_count": 1,
   "id": "f19fb7d9-af88-42bf-a3b5-c705fefdccd3",
   "metadata": {},
   "outputs": [],
   "source": [
    "#Ans-1"
   ]
  },
  {
   "cell_type": "code",
   "execution_count": 2,
   "id": "0a4ece79-484c-44d9-ab02-295f35d793ea",
   "metadata": {},
   "outputs": [],
   "source": [
    "def product_of_numbers(lst):\n",
    "    flat_lst = []\n",
    "    for item in lst:\n",
    "        if type(item) == list or type(item) == tuple or type(item) == set:\n",
    "            flat_lst.extend(item)\n",
    "        elif type(item) == dict:\n",
    "            flat_lst.extend(item.values())\n",
    "        elif type(item) == int or type(item) == float:\n",
    "            flat_lst.append(item)\n",
    "    \n",
    "    product = 1\n",
    "    for num in flat_lst:\n",
    "        if type(num) == int or type(num) == float:\n",
    "            product *= num\n",
    "    \n",
    "    return product"
   ]
  },
  {
   "cell_type": "code",
   "execution_count": 3,
   "id": "ff4a5f05-4bfd-4fbf-9db4-61830a40eccf",
   "metadata": {},
   "outputs": [
    {
     "name": "stdout",
     "output_type": "stream",
     "text": [
      "19679733278309744640\n"
     ]
    }
   ],
   "source": [
    "list1 = [1,2,3,4, [44,55,66, True], False, (34,56,78,89,34), {1,2,3,3,2,1}, {1:34, \"key2\": [55, 67, 78, 89], 4: (45, 22, 61, 34)}, [56, 'data science'], 'Machine Learning']\n",
    "\n",
    "print(product_of_numbers(list1))"
   ]
  },
  {
   "cell_type": "code",
   "execution_count": 4,
   "id": "c6cc9a2f-c608-4e5a-8b9b-b106c91f52aa",
   "metadata": {},
   "outputs": [],
   "source": [
    "# Ans-2"
   ]
  },
  {
   "cell_type": "code",
   "execution_count": 5,
   "id": "a9f0be4c-d270-4a91-8b54-35ad16214766",
   "metadata": {},
   "outputs": [],
   "source": [
    "def encrypt_message(message):\n",
    "    encrypted = ''\n",
    "    for char in message:\n",
    "        if char.isalpha():\n",
    "            encrypted += chr(219 - ord(char))\n",
    "        elif char == ' ':\n",
    "            encrypted += '$'\n",
    "        else:\n",
    "            encrypted += char\n",
    "    return encrypted"
   ]
  },
  {
   "cell_type": "code",
   "execution_count": 6,
   "id": "912b7e5c-c621-4f73-bb44-38179eeba038",
   "metadata": {},
   "outputs": [
    {
     "name": "stdout",
     "output_type": "stream",
     "text": [
      "$dzmg$gl$yvxlnv$z$zgz$xrvmgrhg.\n"
     ]
    }
   ],
   "source": [
    "input_sentence = 'I want to become a Data Scientist.'\n",
    "encrypted_message = encrypt_message(input_sentence)\n",
    "print(encrypted_message)"
   ]
  },
  {
   "cell_type": "code",
   "execution_count": 7,
   "id": "1e8f28ab-2c91-4791-a105-3b75ccbfbf47",
   "metadata": {},
   "outputs": [],
   "source": [
    "# Ans-3"
   ]
  },
  {
   "cell_type": "code",
   "execution_count": null,
   "id": "027595cb-0d15-4d26-8574-df8b1d73e9b2",
   "metadata": {},
   "outputs": [],
   "source": []
  }
 ],
 "metadata": {
  "kernelspec": {
   "display_name": "Python 3 (ipykernel)",
   "language": "python",
   "name": "python3"
  },
  "language_info": {
   "codemirror_mode": {
    "name": "ipython",
    "version": 3
   },
   "file_extension": ".py",
   "mimetype": "text/x-python",
   "name": "python",
   "nbconvert_exporter": "python",
   "pygments_lexer": "ipython3",
   "version": "3.10.8"
  }
 },
 "nbformat": 4,
 "nbformat_minor": 5
}
