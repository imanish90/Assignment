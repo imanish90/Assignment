{
 "cells": [
  {
   "cell_type": "code",
   "execution_count": null,
   "id": "a254272e-7fde-403d-885b-447aa3d91c56",
   "metadata": {},
   "outputs": [],
   "source": [
    "#Ans-1"
   ]
  },
  {
   "cell_type": "code",
   "execution_count": null,
   "id": "4885f417-d5ad-4370-b8c5-b89e943e8062",
   "metadata": {},
   "outputs": [],
   "source": [
    "from sklearn.datasets import load_iris\n",
    "from sklearn.model_selection import train_test_split\n",
    "from sklearn.neighbors import KNeighborsClassifier\n",
    "from sklearn.metrics import accuracy_score\n",
    "\n",
    "# Load the iris dataset\n",
    "iris = load_iris()\n",
    "\n",
    "# Split the data into training and testing sets\n",
    "X_train, X_test, y_train, y_test = train_test_split(iris.data, iris.target, test_size=0.3)\n",
    "\n",
    "# Create a KNN classifier with k=3\n",
    "knn = KNeighborsClassifier(n_neighbors=3)\n",
    "\n",
    "# Fit the classifier to the data\n",
    "knn.fit(X_train, y_train)\n",
    "\n",
    "# Predict the classes of the test set\n",
    "y_pred = knn.predict(X_test)\n",
    "\n",
    "# Calculate the accuracy of the classifier\n",
    "accuracy = accuracy_score(y_test, y_pred)\n",
    "print(\"Accuracy:\", accuracy)"
   ]
  },
  {
   "cell_type": "code",
   "execution_count": null,
   "id": "3bca3121-58eb-4e52-b95c-7b4fd6ac25ff",
   "metadata": {},
   "outputs": [],
   "source": [
    "In this code, we first load the load_iris dataset from sklearn.datasets. We then split the data into training and testing sets using the train_test_split function. We create a KNN classifier with n_neighbors=3 using the KNeighborsClassifier class from sklearn.neighbors, and fit it to the training data using the fit method. We then use the predict method of the classifier to predict the classes of the test set, and calculate the accuracy of the classifier using the accuracy_score function from sklearn.metrics. Finally, we print the accuracy of the classifier."
   ]
  },
  {
   "cell_type": "code",
   "execution_count": null,
   "id": "108ba9ad-1a28-4e25-b1e1-c621e31e7223",
   "metadata": {},
   "outputs": [],
   "source": [
    "# Ans-2"
   ]
  },
  {
   "cell_type": "code",
   "execution_count": null,
   "id": "8c3c4618-ccb8-4741-99b6-94e83c31a54b",
   "metadata": {},
   "outputs": [],
   "source": [
    "from sklearn.datasets import load_boston\n",
    "from sklearn.model_selection import train_test_split\n",
    "from sklearn.neighbors import KNeighborsRegressor\n",
    "from sklearn.metrics import mean_squared_error\n",
    "\n",
    "# Load the boston dataset\n",
    "boston = load_boston()\n",
    "\n",
    "# Split the data into training and testing sets\n",
    "X_train, X_test, y_train, y_test = train_test_split(boston.data, boston.target, test_size=0.3)\n",
    "\n",
    "# Create a KNN regressor with k=3\n",
    "knn = KNeighborsRegressor(n_neighbors=3)\n",
    "\n",
    "# Fit the regressor to the data\n",
    "knn.fit(X_train, y_train)\n",
    "\n",
    "# Predict the target values of the test set\n",
    "y_pred = knn.predict(X_test)\n",
    "\n",
    "# Calculate the mean squared error of the regressor\n",
    "mse = mean_squared_error(y_test, y_pred)\n",
    "print(\"Mean Squared Error:\", mse)"
   ]
  },
  {
   "cell_type": "code",
   "execution_count": null,
   "id": "c2f356bc-aafe-4a21-a2c5-56cbbd4a734b",
   "metadata": {},
   "outputs": [],
   "source": [
    "In this code, we first load the load_boston dataset from sklearn.datasets. We then split the data into training and testing sets using the train_test_split function. We create a KNN regressor with n_neighbors=3 using the KNeighborsRegressor class from sklearn.neighbors, and fit it to the training data using the fit method. We then use the predict method of the regressor to predict the target values of the test set, and calculate the mean squared error of the regressor using the mean_squared_error function from sklearn.metrics. Finally, we print the mean squared error of the regressor."
   ]
  },
  {
   "cell_type": "code",
   "execution_count": null,
   "id": "b1d95c8b-811f-4ccb-9929-bdb2378be6a8",
   "metadata": {},
   "outputs": [],
   "source": [
    "# Ans-3"
   ]
  },
  {
   "cell_type": "code",
   "execution_count": null,
   "id": "172a7b12-3301-4d21-8c25-59887ce28607",
   "metadata": {},
   "outputs": [],
   "source": [
    "from sklearn.datasets import load_iris\n",
    "from sklearn.model_selection import cross_val_score\n",
    "from sklearn.neighbors import KNeighborsClassifier\n",
    "\n",
    "# Load the iris dataset\n",
    "iris = load_iris()\n",
    "\n",
    "# Create a list of odd K values from 1 to 30\n",
    "k_values = list(range(1, 30, 2))\n",
    "\n",
    "# Create an empty list to store the cross-validation scores\n",
    "cv_scores = []\n",
    "\n",
    "# Perform 10-fold cross-validation for each K value\n",
    "for k in k_values:\n",
    "    knn = KNeighborsClassifier(n_neighbors=k)\n",
    "    scores = cross_val_score(knn, iris.data, iris.target, cv=10, scoring='accuracy')\n",
    "    cv_scores.append(scores.mean())\n",
    "\n",
    "# Find the optimal K value that gives the highest cross-validation score\n",
    "optimal_k = k_values[cv_scores.index(max(cv_scores))]\n",
    "\n",
    "# Print the optimal K value\n",
    "print(\"Optimal K value:\", optimal_k)"
   ]
  },
  {
   "cell_type": "code",
   "execution_count": null,
   "id": "6d456cde-d0de-41c8-bbb1-feb1908a2767",
   "metadata": {},
   "outputs": [],
   "source": [
    "In this code, we first load the load_iris dataset from sklearn.datasets. We create a list of odd K values from 1 to 30, as we typically choose odd values to avoid ties when classifying. We then create an empty list to store the cross-validation scores. We perform 10-fold cross-validation for each K value, using the cross_val_score function from sklearn.model_selection, which splits the data into 10 folds and returns the accuracy score for each fold. We then append the mean accuracy score for each K value to the cv_scores list. Finally, we find the optimal K value that gives the highest cross-validation score by getting the index of the maximum value in cv_scores and using it to index k_values, and print it."
   ]
  },
  {
   "cell_type": "code",
   "execution_count": null,
   "id": "6426e6b9-f5c6-4c67-9b04-42c29a31a987",
   "metadata": {},
   "outputs": [],
   "source": [
    "# Ans-4"
   ]
  },
  {
   "cell_type": "code",
   "execution_count": null,
   "id": "2f86e82e-4507-4cc7-b23b-0388a036fb92",
   "metadata": {},
   "outputs": [],
   "source": [
    "from sklearn.datasets import load_boston\n",
    "from sklearn.model_selection import train_test_split\n",
    "from sklearn.neighbors import KNeighborsRegressor\n",
    "from sklearn.metrics import mean_squared_error\n",
    "from sklearn.preprocessing import StandardScaler\n",
    "\n",
    "# Load the boston dataset\n",
    "boston = load_boston()\n",
    "\n",
    "# Scale the features\n",
    "scaler = StandardScaler()\n",
    "X_scaled = scaler.fit_transform(boston.data)\n",
    "\n",
    "# Split the scaled data into training and testing sets\n",
    "X_train, X_test, y_train, y_test = train_test_split(X_scaled, boston.target, test_size=0.3)\n",
    "\n",
    "# Create a KNN regressor with k=3\n",
    "knn = KNeighborsRegressor(n_neighbors=3)\n",
    "\n",
    "# Fit the regressor to the data\n",
    "knn.fit(X_train, y_train)\n",
    "\n",
    "# Predict the target values of the test set\n",
    "y_pred = knn.predict(X_test)\n",
    "\n",
    "# Calculate the mean squared error of the regressor\n",
    "mse = mean_squared_error(y_test, y_pred)\n",
    "print(\"Mean Squared Error:\", mse)"
   ]
  },
  {
   "cell_type": "code",
   "execution_count": null,
   "id": "db1da2aa-5f21-4186-8bb9-761e05d711ee",
   "metadata": {},
   "outputs": [],
   "source": [
    "In this code, we first load the load_boston dataset from sklearn.datasets. We then scale the features using the StandardScaler class from sklearn.preprocessing. We fit the scaler to the data using the fit_transform method, which scales the data and returns it as a new array. We then split the scaled data into training and testing sets using the train_test_split function. We create a KNN regressor with n_neighbors=3 using the KNeighborsRegressor class from sklearn.neighbors, and fit it to the training data using the fit method. We then use the predict method of the regressor to predict the target values of the test set, and calculate the mean squared error of the regressor using the mean_squared_error function from sklearn.metrics. Finally, we print the mean squared error of the regressor."
   ]
  },
  {
   "cell_type": "code",
   "execution_count": null,
   "id": "29bdf15b-600e-42a4-a6b8-b4707f0f42b8",
   "metadata": {},
   "outputs": [],
   "source": [
    "# Ans-5"
   ]
  },
  {
   "cell_type": "code",
   "execution_count": null,
   "id": "40807a3d-8b6b-4597-95ca-8d68b6c31272",
   "metadata": {},
   "outputs": [],
   "source": [
    "from sklearn.datasets import load_iris\n",
    "from sklearn.neighbors import KNeighborsClassifier\n",
    "\n",
    "# Load the iris dataset\n",
    "iris = load_iris()\n",
    "\n",
    "# Create a KNN classifier with k=5 and weighted voting\n",
    "knn = KNeighborsClassifier(n_neighbors=5, weights='distance')\n",
    "\n",
    "# Fit the classifier to the data\n",
    "knn.fit(iris.data, iris.target)\n",
    "\n",
    "# Predict the class labels of new data\n",
    "new_data = [[5.1, 3.5, 1.4, 0.2], [7.2, 3.6, 6.1, 2.5]]\n",
    "y_pred = knn.predict(new_data)\n",
    "\n",
    "# Print the predicted class labels\n",
    "print(\"Predicted class labels:\", y_pred)"
   ]
  },
  {
   "cell_type": "code",
   "execution_count": null,
   "id": "e992268f-de37-4517-8b35-9c453782ae95",
   "metadata": {},
   "outputs": [],
   "source": [
    "In this code, we first load the load_iris dataset from sklearn.datasets. We create a KNN classifier with n_neighbors=5 and weighted voting using the KNeighborsClassifier class from sklearn.neighbors. We set the weights parameter to 'distance', which means that closer neighbors will have a greater influence on the classification than farther neighbors. We fit the classifier to the data using the fit method. We then use the predict method of the classifier to predict the class labels of two new data points, stored in the new_data variable. Finally, we print the predicted class labels."
   ]
  },
  {
   "cell_type": "code",
   "execution_count": null,
   "id": "459131b6-fc17-40fa-96ec-d56684743abb",
   "metadata": {},
   "outputs": [],
   "source": [
    "# Ans-6"
   ]
  },
  {
   "cell_type": "code",
   "execution_count": null,
   "id": "7f048230-3fa3-420b-97a7-4cc89e99d0e1",
   "metadata": {},
   "outputs": [],
   "source": [
    "from sklearn.preprocessing import StandardScaler\n",
    "\n",
    "def standardize(X):\n",
    "    \"\"\"\n",
    "    Standardizes the features of a dataset using the StandardScaler class.\n",
    "    \n",
    "    Parameters:\n",
    "    X (array-like): The dataset to be standardized.\n",
    "    \n",
    "    Returns:\n",
    "    X_std (array-like): The standardized dataset.\n",
    "    \"\"\"\n",
    "    scaler = StandardScaler()\n",
    "    X_std = scaler.fit_transform(X)\n",
    "    return X_std"
   ]
  },
  {
   "cell_type": "code",
   "execution_count": null,
   "id": "051648f7-1f3b-4494-a230-c6531971f873",
   "metadata": {},
   "outputs": [],
   "source": [
    "You can use this function to standardize the features of a dataset before applying the KNN classifier. Here's an example of how to use it:"
   ]
  },
  {
   "cell_type": "code",
   "execution_count": null,
   "id": "be726e08-e89c-4867-8a05-0b926f9c2865",
   "metadata": {},
   "outputs": [],
   "source": [
    "from sklearn.datasets import load_iris\n",
    "from sklearn.model_selection import train_test_split\n",
    "from sklearn.neighbors import KNeighborsClassifier\n",
    "\n",
    "# Load the iris dataset\n",
    "iris = load_iris()\n",
    "\n",
    "# Standardize the features\n",
    "X_std = standardize(iris.data)\n",
    "\n",
    "# Split the standardized data into training and testing sets\n",
    "X_train, X_test, y_train, y_test = train_test_split(X_std, iris.target, test_size=0.3)\n",
    "\n",
    "# Create a KNN classifier with k=5\n",
    "knn = KNeighborsClassifier(n_neighbors=5)\n",
    "\n",
    "# Fit the classifier to the data\n",
    "knn.fit(X_train, y_train)\n",
    "\n",
    "# Predict the class labels of the test set\n",
    "y_pred = knn.predict(X_test)\n",
    "\n",
    "# Print the accuracy of the classifier\n",
    "accuracy = knn.score(X_test, y_test)\n",
    "print(\"Accuracy:\", accuracy)"
   ]
  },
  {
   "cell_type": "code",
   "execution_count": null,
   "id": "0eef1a2f-c308-4d69-91dc-be7cb07b25c9",
   "metadata": {},
   "outputs": [],
   "source": [
    "In this code, we first load the load_iris dataset from sklearn.datasets. We then standardize the features of the dataset using the standardize function. We split the standardized data into training and testing sets using the train_test_split function from sklearn.model_selection. We create a KNN classifier with n_neighbors=5 using the KNeighborsClassifier class from sklearn.neighbors, and fit it to the training data using the fit method. We then use the predict method of the classifier to predict the class labels of the test set, and calculate the accuracy of the classifier using the score method. Finally, we print the accuracy of the classifier."
   ]
  },
  {
   "cell_type": "code",
   "execution_count": null,
   "id": "c43f500a-9827-4da7-b6f5-e891a22e5302",
   "metadata": {},
   "outputs": [],
   "source": [
    "# Ans-7"
   ]
  },
  {
   "cell_type": "code",
   "execution_count": null,
   "id": "74822979-bdfe-44da-bcaf-95d5c3cf0c91",
   "metadata": {},
   "outputs": [],
   "source": [
    "import math\n",
    "\n",
    "def euclidean_distance(x1, x2):\n",
    "    \"\"\"\n",
    "    Calculates the Euclidean distance between two points x1 and x2.\n",
    "    \n",
    "    Parameters:\n",
    "    x1 (array-like): The first point.\n",
    "    x2 (array-like): The second point.\n",
    "    \n",
    "    Returns:\n",
    "    distance (float): The Euclidean distance between the two points.\n",
    "    \"\"\"\n",
    "    distance = 0\n",
    "    for i in range(len(x1)):\n",
    "        distance += (x1[i] - x2[i]) ** 2\n",
    "    distance = math.sqrt(distance)\n",
    "    return distance"
   ]
  },
  {
   "cell_type": "code",
   "execution_count": null,
   "id": "c2cc0372-3df6-4c53-83f8-f0219deaaa6b",
   "metadata": {},
   "outputs": [],
   "source": [
    "x1 = [1, 2, 3]\n",
    "x2 = [4, 5, 6]\n",
    "distance = euclidean_distance(x1, x2)\n",
    "print(\"Euclidean distance:\", distance)"
   ]
  },
  {
   "cell_type": "code",
   "execution_count": null,
   "id": "50689802-8da7-45c3-b1a9-056302c2b6c0",
   "metadata": {},
   "outputs": [],
   "source": [
    "In this code, we create two points x1 and x2, each with three dimensions. We then calculate the Euclidean distance between the two points using the euclidean_distance function, and print the result."
   ]
  },
  {
   "cell_type": "code",
   "execution_count": null,
   "id": "8a552b51-b738-4ecb-bca1-834097d60e22",
   "metadata": {},
   "outputs": [],
   "source": [
    "# Ans-8"
   ]
  },
  {
   "cell_type": "code",
   "execution_count": null,
   "id": "c72c379a-23a5-4f30-bbaf-42d5ae550c4d",
   "metadata": {},
   "outputs": [],
   "source": [
    "def manhattan_distance(x1, x2):\n",
    "    \"\"\"\n",
    "    Calculates the Manhattan distance between two points x1 and x2.\n",
    "    \n",
    "    Parameters:\n",
    "    x1 (array-like): The first point.\n",
    "    x2 (array-like): The second point.\n",
    "    \n",
    "    Returns:\n",
    "    distance (float): The Manhattan distance between the two points.\n",
    "    \"\"\"\n",
    "    distance = 0\n",
    "    for i in range(len(x1)):\n",
    "        distance += abs(x1[i] - x2[i])\n",
    "    return distance"
   ]
  },
  {
   "cell_type": "code",
   "execution_count": null,
   "id": "7fef3aa3-8c14-44cd-888b-7bb3359670c2",
   "metadata": {},
   "outputs": [],
   "source": [
    "x1 = [1, 2, 3]\n",
    "x2 = [4, 5, 6]\n",
    "distance = manhattan_distance(x1, x2)\n",
    "print(\"Manhattan distance:\", distance)"
   ]
  },
  {
   "cell_type": "code",
   "execution_count": null,
   "id": "b6d8d203-415f-4b1e-b4b7-9392cab6bd4a",
   "metadata": {},
   "outputs": [],
   "source": [
    "In this code, we create two points x1 and x2, each with three dimensions. We then calculate the Manhattan distance between the two points using the manhattan_distance function, and print the result."
   ]
  },
  {
   "cell_type": "code",
   "execution_count": null,
   "id": "abebef00-52e4-423d-bac6-b7e2bf3ce3d4",
   "metadata": {},
   "outputs": [],
   "source": []
  }
 ],
 "metadata": {
  "kernelspec": {
   "display_name": "Python 3 (ipykernel)",
   "language": "python",
   "name": "python3"
  },
  "language_info": {
   "codemirror_mode": {
    "name": "ipython",
    "version": 3
   },
   "file_extension": ".py",
   "mimetype": "text/x-python",
   "name": "python",
   "nbconvert_exporter": "python",
   "pygments_lexer": "ipython3",
   "version": "3.10.8"
  }
 },
 "nbformat": 4,
 "nbformat_minor": 5
}
