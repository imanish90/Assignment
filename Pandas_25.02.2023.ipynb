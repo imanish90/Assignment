{
 "cells": [
  {
   "cell_type": "code",
   "execution_count": null,
   "id": "78710b07-a964-44e1-a08d-1c1f3cb5d324",
   "metadata": {},
   "outputs": [],
   "source": [
    "# Ans-1"
   ]
  },
  {
   "cell_type": "code",
   "execution_count": null,
   "id": "3f0a5ef4-5f1c-40b4-800e-edab605572df",
   "metadata": {},
   "outputs": [],
   "source": [
    "To print the data present in the second row of the DataFrame df, you can use the .iloc[] method of the DataFrame as follows:"
   ]
  },
  {
   "cell_type": "code",
   "execution_count": null,
   "id": "385b25f3-da31-4e95-878c-6fe135422c5a",
   "metadata": {},
   "outputs": [],
   "source": [
    "print(df.iloc[1])"
   ]
  },
  {
   "cell_type": "code",
   "execution_count": null,
   "id": "af5559c3-b0f6-42c7-acff-3167251d35ec",
   "metadata": {},
   "outputs": [],
   "source": [
    "This will print the data present in the second row of the DataFrame, which in this case is:"
   ]
  },
  {
   "cell_type": "code",
   "execution_count": null,
   "id": "fdbffe1b-3a43-4660-9bc3-827458eb054a",
   "metadata": {},
   "outputs": [],
   "source": [
    "course_name    Machine Learning\n",
    "duration                      3\n",
    "Name: 1, dtype: object"
   ]
  },
  {
   "cell_type": "code",
   "execution_count": null,
   "id": "91c3536c-c11b-46ef-a4e2-7114b381fa7f",
   "metadata": {},
   "outputs": [],
   "source": [
    "The index of the row is shown on the left, followed by the column names and their corresponding values for that row."
   ]
  },
  {
   "cell_type": "code",
   "execution_count": null,
   "id": "c7c51aae-7ac8-435a-a7cb-c44d03438b7e",
   "metadata": {},
   "outputs": [],
   "source": [
    "# Ans-2"
   ]
  },
  {
   "cell_type": "code",
   "execution_count": null,
   "id": "313648aa-458f-4565-9912-3832c9aa20fb",
   "metadata": {},
   "outputs": [],
   "source": [
    "loc and iloc are both indexing methods in Pandas DataFrame that allow you to access specific rows and columns of the DataFrame. The main difference between them is the way they are used to index the DataFrame.\n",
    "\n",
    "loc is used to index the DataFrame based on the labels of the rows and columns. This means that you can use the names of the rows and columns to select specific data. For example, to select a specific row with a label 'A' and a specific column with a label 'B', you can use the following code:"
   ]
  },
  {
   "cell_type": "code",
   "execution_count": null,
   "id": "9cfb17c0-bda7-4940-bb60-1d79e7bcc05b",
   "metadata": {},
   "outputs": [],
   "source": [
    "df.loc['A', 'B']"
   ]
  },
  {
   "cell_type": "code",
   "execution_count": null,
   "id": "1cab71d8-ca04-4d68-982d-2b054c57de9e",
   "metadata": {},
   "outputs": [],
   "source": [
    "iloc, on the other hand, is used to index the DataFrame based on the integer positions of the rows and columns. This means that you can use integer indices to select specific data. For example, to select a specific row with an integer index 0 and a specific column with an integer index 1, you can use the following code:"
   ]
  },
  {
   "cell_type": "code",
   "execution_count": null,
   "id": "4cf09eda-5923-4e71-a42e-2c407a2d41e2",
   "metadata": {},
   "outputs": [],
   "source": [
    "df.iloc[0, 1]"
   ]
  },
  {
   "cell_type": "code",
   "execution_count": null,
   "id": "41ad8312-ffbc-425f-b254-8b637546184f",
   "metadata": {},
   "outputs": [],
   "source": [
    "So, in summary, loc is used for label-based indexing, while iloc is used for position-based indexing."
   ]
  },
  {
   "cell_type": "code",
   "execution_count": null,
   "id": "25a8fbf2-ee5d-4980-9863-ab9f55f62aa9",
   "metadata": {},
   "outputs": [],
   "source": [
    "# Ans-3"
   ]
  },
  {
   "cell_type": "code",
   "execution_count": null,
   "id": "a8e8b802-b84f-420e-948c-0c840229fe09",
   "metadata": {},
   "outputs": [],
   "source": [
    "Q1. Reindex the given dataframe using a variable, reindex = [3,0,1,2] and store it in the variable, new_df then find the output for both new_df.loc[2] and new_df.iloc[2]."
   ]
  },
  {
   "cell_type": "code",
   "execution_count": null,
   "id": "057b9d65-ac80-429f-b03f-94ecf1202307",
   "metadata": {},
   "outputs": [],
   "source": [
    "import pandas as pd\n",
    "\n",
    "columns = ['column_1', 'column_2', 'column_3']\n",
    "index = [0, 1, 2]\n",
    "\n",
    "data = [[1, 2, 3], [4, 5, 6], [7, 8, 9]]\n",
    "\n",
    "df = pd.DataFrame(data, columns=columns, index=index)\n",
    "\n",
    "reindex = [3, 0, 1, 2]\n",
    "\n",
    "new_df = df.reindex(reindex)\n",
    "\n",
    "print(new_df.loc[2])\n",
    "print(new_df.iloc[2])"
   ]
  },
  {
   "cell_type": "code",
   "execution_count": null,
   "id": "7eac2b0f-58a5-4d2f-9af6-e9d4aca6110c",
   "metadata": {},
   "outputs": [],
   "source": [
    "Write a code to find the following statistical measurements for the above dataframe df1:\n",
    "\n",
    "(i) mean of each and every column present in the dataframe.\n",
    "\n",
    "(ii) standard deviation of column, ‘column_2’"
   ]
  },
  {
   "cell_type": "code",
   "execution_count": null,
   "id": "ed3940b2-ec21-4af3-b99a-f2f2e1762063",
   "metadata": {},
   "outputs": [],
   "source": [
    "print(df1.mean())\n",
    "print(df1['column_2'].std())"
   ]
  },
  {
   "cell_type": "code",
   "execution_count": null,
   "id": "b4df394b-b8e1-42dd-8eff-8ab2b785a14c",
   "metadata": {},
   "outputs": [],
   "source": [
    ". Replace the data present in the second row of column, ‘column_2’ by a string variable then find the mean of column, column_2. If you are getting errors in executing it then explain why. [Hint: To replace the data use df1.loc[] and equate this to string data of your choice.]"
   ]
  },
  {
   "cell_type": "code",
   "execution_count": null,
   "id": "224c4e03-0b6c-43fb-942c-9d7ecde928ee",
   "metadata": {},
   "outputs": [],
   "source": [
    "df1.loc[2, 'column_2'] = 'text'\n",
    "mean_column_2 = pd.to_numeric(df1['column_2'], errors='coerce').mean()\n",
    "print(mean_column_2)"
   ]
  },
  {
   "cell_type": "code",
   "execution_count": null,
   "id": "8fe9c0ea-5d61-4828-84bf-6750a9af9c83",
   "metadata": {},
   "outputs": [],
   "source": [
    "Explanation: The code first replaces the data in the second row of column_2 with a string value 'text' using df1.loc[]. Then, it converts the column_2 to numeric values using pd.to_numeric() function with errors='coerce' parameter. This converts the string value 'text' to NaN value. Finally, the mean of the column is computed using mean() function.\n",
    "\n",
    "Q4. What do you understand about the windows function in pandas and list the types of windows functions?\n",
    "\n",
    "In pandas, the window functions are used to perform calculations on a sliding window of data over a specified range. The window function is applied to the data in each window and returns a new set of values. It is particularly useful in time series data analysis, where we want to analyze data over time periods such as months or years.\n",
    "\n",
    "Types of window functions in pandas are:\n",
    "\n",
    "Rolling functions: Used to apply a function to a rolling window of data.\n",
    "Expanding functions: Used to apply a function to an expanding window of data.\n",
    "EWM (Exponentially Weighted Mean) functions: Used to apply an exponentially weighted function to a window of data.\n",
    "Q5. Write a"
   ]
  },
  {
   "cell_type": "code",
   "execution_count": null,
   "id": "ce087e9f-25ed-4419-b179-4b2b07fd495c",
   "metadata": {},
   "outputs": [],
   "source": [
    "# Ans-4"
   ]
  },
  {
   "cell_type": "code",
   "execution_count": null,
   "id": "0c26681d-f3e3-4e44-9af5-38ca6079e9ba",
   "metadata": {},
   "outputs": [],
   "source": [
    "import pandas as pd\n",
    "import numpy as np\n",
    "\n",
    "columns = ['column_1', 'column_2', 'column_3', 'column_4', 'column_5', 'column_6']\n",
    "indices = [1, 2, 3, 4, 5, 6]\n",
    "\n",
    "df1 = pd.DataFrame(np.random.rand(6, 6), columns=columns, index=indices)\n",
    "\n",
    "# Mean of each column\n",
    "print(\"Mean of each column:\")\n",
    "print(df1.mean())\n",
    "\n",
    "# Standard deviation of column_2\n",
    "print(\"Standard deviation of column_2:\")\n",
    "print(df1[\"column_2\"].std())"
   ]
  },
  {
   "cell_type": "code",
   "execution_count": null,
   "id": "2f93ca37-818b-4a57-9bdf-54c272906006",
   "metadata": {},
   "outputs": [],
   "source": [
    "# Ans-5"
   ]
  },
  {
   "cell_type": "code",
   "execution_count": null,
   "id": "719f4f23-953f-404c-84ab-c84b3274507d",
   "metadata": {},
   "outputs": [],
   "source": [
    "import pandas as pd\n",
    "import numpy as np\n",
    "\n",
    "columns = ['column_1', 'column_2', 'column_3', 'column_4', 'column_5', 'column_6']\n",
    "indices = [1,2,3,4,5,6]\n",
    "\n",
    "#Creating a dataframe:\n",
    "df1 = pd.DataFrame(np.random.rand(6,6), columns = columns, index = indices)\n",
    "\n",
    "#Replacing data in second row of 'column_2'\n",
    "df1.loc[2, 'column_2'] = 'string_data'\n",
    "\n",
    "#Finding the mean of 'column_2'\n",
    "try:\n",
    "    mean_col2 = df1['column_2'].mean()\n",
    "    print(\"Mean of column_2:\", mean_col2)\n",
    "except TypeError:\n",
    "    print(\"TypeError: unsupported operand type(s) for +: 'float' and 'str'\")"
   ]
  },
  {
   "cell_type": "code",
   "execution_count": null,
   "id": "471ac80e-8365-4e8d-9a29-d721a1700951",
   "metadata": {},
   "outputs": [],
   "source": [
    "# Ans-6"
   ]
  },
  {
   "cell_type": "code",
   "execution_count": null,
   "id": "7e7cc702-3031-48fc-acb2-8d4403d36247",
   "metadata": {},
   "outputs": [],
   "source": [
    "In Pandas, a window function is a function that performs a computation over a specified subset of a DataFrame or Series. It is used to perform various operations such as aggregations, transformations, and filtering on a subset of data based on a defined window or group.\n",
    "\n",
    "There are several types of window functions available in Pandas, including:\n",
    "\n",
    "Rolling Window: It operates on a defined window of consecutive data points and performs the computation using a sliding window technique. It is used for tasks like moving averages and rolling sums.\n",
    "\n",
    "Expanding Window: It starts from the beginning of the data and gradually expands to include more data points as the window moves. It is used for tasks like cumulative sums and exponential weighted averages.\n",
    "\n",
    "Exponential Window: It assigns weights to the data points based on the exponential decay function. It is used for tasks like exponential moving averages.\n",
    "\n",
    "Groupby Window: It allows grouping the data based on one or more columns, and then applying a window function to each group.\n",
    "\n",
    "Time-based Window: It works with time-series data and allows windowing based on time intervals, such as hourly or daily intervals.\n",
    "\n",
    "These window functions are useful in many data analysis and machine learning tasks, such as feature engineering, trend analysis, anomaly detection, and more."
   ]
  },
  {
   "cell_type": "code",
   "execution_count": null,
   "id": "b344c58b-c04f-4451-b085-7fd1c71bfd79",
   "metadata": {},
   "outputs": [],
   "source": [
    "# Ans-7"
   ]
  },
  {
   "cell_type": "code",
   "execution_count": null,
   "id": "54c51377-b5c2-441e-924d-51a405b7363f",
   "metadata": {},
   "outputs": [],
   "source": [
    "import pandas as pd\n",
    "\n",
    "current_date = pd.datetime.now()\n",
    "\n",
    "print(\"Current month:\", current_date.month)\n",
    "print(\"Current year:\", current_date.year)"
   ]
  },
  {
   "cell_type": "code",
   "execution_count": null,
   "id": "b01b3c29-ae50-49a9-b84d-e57eb3118b89",
   "metadata": {},
   "outputs": [],
   "source": [
    "# Ans-8"
   ]
  },
  {
   "cell_type": "code",
   "execution_count": null,
   "id": "14de683e-66c7-47f6-9ee5-7f6eac10b51e",
   "metadata": {},
   "outputs": [],
   "source": [
    "import pandas as pd\n",
    "\n",
    "# Prompt the user to enter the first date\n",
    "date1_str = input(\"Enter the first date (YYYY-MM-DD): \")\n",
    "\n",
    "# Convert the input string to a pandas datetime object\n",
    "date1 = pd.to_datetime(date1_str)\n",
    "\n",
    "# Prompt the user to enter the second date\n",
    "date2_str = input(\"Enter the second date (YYYY-MM-DD): \")\n",
    "\n",
    "# Convert the input string to a pandas datetime object\n",
    "date2 = pd.to_datetime(date2_str)\n",
    "\n",
    "# Calculate the time difference using pandas timedelta\n",
    "time_diff = date2 - date1\n",
    "\n",
    "# Extract the number of days, hours, and minutes from the time difference\n",
    "days = time_diff.days\n",
    "hours = time_diff.seconds // 3600\n",
    "minutes = (time_diff.seconds % 3600) // 60\n",
    "\n",
    "# Display the result\n",
    "print(f\"The time difference between {date1_str} and {date2_str} is {days} days, {hours} hours, and {minutes} minutes.\")"
   ]
  },
  {
   "cell_type": "code",
   "execution_count": null,
   "id": "99ef7f10-960f-4cd7-a7f3-7f051d1afbe1",
   "metadata": {},
   "outputs": [],
   "source": [
    "# Ans-9"
   ]
  },
  {
   "cell_type": "code",
   "execution_count": null,
   "id": "8c4b1795-910d-4592-b0fa-0695c91118d5",
   "metadata": {},
   "outputs": [],
   "source": []
  },
  {
   "cell_type": "code",
   "execution_count": null,
   "id": "ed8ff816-426a-46cd-9ade-4aba5a8d6b88",
   "metadata": {},
   "outputs": [],
   "source": []
  },
  {
   "cell_type": "code",
   "execution_count": null,
   "id": "ac0d0e88-7b24-421a-be32-4e6637af8e47",
   "metadata": {},
   "outputs": [],
   "source": []
  },
  {
   "cell_type": "code",
   "execution_count": null,
   "id": "e196cdfe-d56c-4937-a190-302ce5864eee",
   "metadata": {},
   "outputs": [],
   "source": []
  },
  {
   "cell_type": "code",
   "execution_count": null,
   "id": "0c9d1d93-3b8c-41f7-a7cb-5c91cfa7562c",
   "metadata": {},
   "outputs": [],
   "source": []
  },
  {
   "cell_type": "code",
   "execution_count": null,
   "id": "1b4c561d-f475-4cb8-9e44-11ad2610282b",
   "metadata": {},
   "outputs": [],
   "source": []
  },
  {
   "cell_type": "code",
   "execution_count": null,
   "id": "cac0d010-73af-41b5-a8c7-6d4224290e53",
   "metadata": {},
   "outputs": [],
   "source": []
  },
  {
   "cell_type": "code",
   "execution_count": null,
   "id": "03181fc4-325b-4a89-a2bd-d3bae648798f",
   "metadata": {},
   "outputs": [],
   "source": []
  },
  {
   "cell_type": "code",
   "execution_count": null,
   "id": "6b082798-ac8d-4c75-bdb2-b7ab08668d5f",
   "metadata": {},
   "outputs": [],
   "source": []
  },
  {
   "cell_type": "code",
   "execution_count": null,
   "id": "d6956c51-bf3b-4aec-8bec-cde9e382a606",
   "metadata": {},
   "outputs": [],
   "source": []
  },
  {
   "cell_type": "code",
   "execution_count": null,
   "id": "40104599-7ec8-4875-b3fa-dc8e09e6bab6",
   "metadata": {},
   "outputs": [],
   "source": []
  },
  {
   "cell_type": "code",
   "execution_count": null,
   "id": "64636d1a-5798-42ca-b324-607f6dfe7115",
   "metadata": {},
   "outputs": [],
   "source": []
  },
  {
   "cell_type": "code",
   "execution_count": null,
   "id": "0c0a11fe-bb48-4de0-9fe8-19c302bfa55e",
   "metadata": {},
   "outputs": [],
   "source": []
  },
  {
   "cell_type": "code",
   "execution_count": null,
   "id": "c4cfbff5-de9f-47a2-b6d8-9ebb88b73e1d",
   "metadata": {},
   "outputs": [],
   "source": []
  },
  {
   "cell_type": "code",
   "execution_count": null,
   "id": "cd4760c6-2f64-4230-ae64-f9464b0c4791",
   "metadata": {},
   "outputs": [],
   "source": []
  },
  {
   "cell_type": "code",
   "execution_count": null,
   "id": "2e569f29-dc9a-42fa-b903-1367585156e8",
   "metadata": {},
   "outputs": [],
   "source": []
  },
  {
   "cell_type": "code",
   "execution_count": null,
   "id": "ce21a1f9-23e4-43fb-a823-3ded54c11f3d",
   "metadata": {},
   "outputs": [],
   "source": []
  },
  {
   "cell_type": "code",
   "execution_count": null,
   "id": "cf59946f-0621-4d30-9fe7-c4c09b346e6d",
   "metadata": {},
   "outputs": [],
   "source": []
  },
  {
   "cell_type": "code",
   "execution_count": null,
   "id": "c8ac6adb-ed05-4684-bb97-64363877b354",
   "metadata": {},
   "outputs": [],
   "source": []
  },
  {
   "cell_type": "code",
   "execution_count": null,
   "id": "835cf4fa-c6c8-4e69-8f60-d1c5e07c86e0",
   "metadata": {},
   "outputs": [],
   "source": []
  }
 ],
 "metadata": {
  "kernelspec": {
   "display_name": "Python 3 (ipykernel)",
   "language": "python",
   "name": "python3"
  },
  "language_info": {
   "codemirror_mode": {
    "name": "ipython",
    "version": 3
   },
   "file_extension": ".py",
   "mimetype": "text/x-python",
   "name": "python",
   "nbconvert_exporter": "python",
   "pygments_lexer": "ipython3",
   "version": "3.10.8"
  }
 },
 "nbformat": 4,
 "nbformat_minor": 5
}
