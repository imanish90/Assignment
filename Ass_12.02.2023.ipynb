{
 "cells": [
  {
   "cell_type": "code",
   "execution_count": 1,
   "id": "294f7827-8de2-4ada-b07f-28a963a946bc",
   "metadata": {},
   "outputs": [],
   "source": [
    "# Ans-1-"
   ]
  },
  {
   "cell_type": "code",
   "execution_count": null,
   "id": "e46a3bfa-dd32-407c-a1b4-f8c01d2d4839",
   "metadata": {},
   "outputs": [],
   "source": [
    "In Python, an exception is an error that occurs during the execution of a program. When an exception is encountered, the program stops its normal execution and jumps to a block of code that handles the exception.\n",
    "\n",
    "On the other hand, a syntax error is a type of error that occurs when the Python interpreter cannot parse the code because of a mistake in the syntax. Syntax errors prevent the program from running at all.\n",
    "\n",
    "The main difference between an exception and a syntax error is that a syntax error occurs before the program starts running, while an exception occurs during the execution of the program. Syntax errors are usually caused by typos or other mistakes in the code, while exceptions are typically caused by unexpected situations that arise during the program's execution, such as invalid input or network connectivity issues.\n",
    "\n",
    "Another difference between the two is that syntax errors are generally easier to debug because they are usually caused by a specific line of code. Exceptions, on the other hand, can be more difficult to debug because they can be caused by a variety of factors and can occur at any point during the program's execution."
   ]
  },
  {
   "cell_type": "code",
   "execution_count": 2,
   "id": "313db469-d716-4ea2-8612-42f182b95269",
   "metadata": {},
   "outputs": [],
   "source": [
    "# Ans-2"
   ]
  },
  {
   "cell_type": "code",
   "execution_count": null,
   "id": "73ce4672-b792-4a3c-8f24-554746c6440c",
   "metadata": {},
   "outputs": [],
   "source": [
    "When an exception is not handled, it causes the program to terminate abruptly with an error message, which is not ideal for most programs. The error message can be confusing to the end-user and might not give any information about the cause of the error."
   ]
  },
  {
   "cell_type": "code",
   "execution_count": null,
   "id": "111ba194-a8a3-4e4c-9ea7-53043da1fe7f",
   "metadata": {},
   "outputs": [],
   "source": [
    "number1 = 10\n",
    "number2 = 0\n",
    "\n",
    "result = number1 / number2\n",
    "\n",
    "print(result)"
   ]
  },
  {
   "cell_type": "code",
   "execution_count": null,
   "id": "b90cb293-651e-4f4b-b739-0fadd72138b5",
   "metadata": {},
   "outputs": [],
   "source": [
    "Traceback (most recent call last):\n",
    "  File \"example.py\", line 4, in <module>\n",
    "    result = number1 / number2\n",
    "ZeroDivisionError: division by zero"
   ]
  },
  {
   "cell_type": "code",
   "execution_count": null,
   "id": "b510a917-2c33-442b-9feb-ddd3cb534dee",
   "metadata": {},
   "outputs": [],
   "source": [
    "number1 = 10\n",
    "number2 = 0\n",
    "\n",
    "try:\n",
    "    result = number1 / number2\n",
    "    print(result)\n",
    "except ZeroDivisionError:\n",
    "    print(\"Error: division by zero\")"
   ]
  },
  {
   "cell_type": "code",
   "execution_count": 3,
   "id": "b207a651-6d10-49f0-babc-16106ba6c3f5",
   "metadata": {},
   "outputs": [],
   "source": [
    "# Ans-3"
   ]
  },
  {
   "cell_type": "code",
   "execution_count": null,
   "id": "03d98dc4-2117-4fcc-aadb-d9b1b1a09188",
   "metadata": {},
   "outputs": [],
   "source": [
    "In Python, the try and except statements are used to catch and handle exceptions."
   ]
  },
  {
   "cell_type": "code",
   "execution_count": null,
   "id": "a1880b1c-f979-4d3b-8ccd-a28b13e361ed",
   "metadata": {},
   "outputs": [],
   "source": [
    "try:\n",
    "    num = int(input(\"Enter a number: \"))\n",
    "    print(\"The entered number is\", num)\n",
    "except ValueError:\n",
    "    print(\"Invalid input. Please enter an integer.\")"
   ]
  },
  {
   "cell_type": "code",
   "execution_count": null,
   "id": "1d833e2b-0a92-414e-a281-807d1df71319",
   "metadata": {},
   "outputs": [],
   "source": [
    "try:\n",
    "    # code that might raise an exception\n",
    "except Exception as e:\n",
    "    # code to handle the exception"
   ]
  },
  {
   "cell_type": "code",
   "execution_count": null,
   "id": "a9949e16-c861-42ea-a794-78229310c6da",
   "metadata": {},
   "outputs": [],
   "source": [
    "try:\n",
    "    with open(\"myfile.txt\", \"r\") as f:\n",
    "        content = f.read()\n",
    "    print(content)\n",
    "except Exception as e:\n",
    "    print(\"Error:\", e)"
   ]
  },
  {
   "cell_type": "code",
   "execution_count": null,
   "id": "cb2ed294-5a13-4aa1-ab16-79b30930acd5",
   "metadata": {},
   "outputs": [],
   "source": [
    "# Ans-4"
   ]
  },
  {
   "cell_type": "code",
   "execution_count": null,
   "id": "56dab6b7-04b8-4f70-a966-bec479e89c8e",
   "metadata": {},
   "outputs": [],
   "source": [
    "In Python, the try statement can be followed by else, finally, or raise to handle different situations.\n",
    "\n",
    "try and else\n",
    "The try statement can be followed by an else statement, which is executed if no exception is raised in the try block. The basic syntax of a try-else block is as follows:"
   ]
  },
  {
   "cell_type": "code",
   "execution_count": null,
   "id": "f52b3bd1-9988-43e3-8a3b-81af627abe29",
   "metadata": {},
   "outputs": [],
   "source": [
    "try:\n",
    "    # code that might raise an exception\n",
    "except ExceptionType:\n",
    "    # code to handle the exception\n",
    "else:\n",
    "    # code to execute if no exception is raised"
   ]
  },
  {
   "cell_type": "code",
   "execution_count": null,
   "id": "99b6e58c-ad5c-4b18-ba69-592f35ca5371",
   "metadata": {},
   "outputs": [],
   "source": [
    "try:\n",
    "    with open(\"myfile.txt\", \"r\") as f:\n",
    "        content = f.read()\n",
    "except FileNotFoundError:\n",
    "    print(\"Error: file not found\")\n",
    "else:\n",
    "    print(content)"
   ]
  },
  {
   "cell_type": "code",
   "execution_count": null,
   "id": "f78c46c8-0649-431f-837e-ca17ddc7335d",
   "metadata": {},
   "outputs": [],
   "source": [
    "try and finally\n",
    "The try statement can be followed by a finally statement, which is executed regardless of whether an exception is raised in the try block. The basic syntax of a try-finally block is as follows:"
   ]
  },
  {
   "cell_type": "code",
   "execution_count": null,
   "id": "e1c4342e-089e-4732-aa47-d2ffc7235306",
   "metadata": {},
   "outputs": [],
   "source": [
    "try:\n",
    "    # code that might raise an exception\n",
    "finally:\n",
    "    # code to execute always, whether an exception is raised or not"
   ]
  },
  {
   "cell_type": "code",
   "execution_count": null,
   "id": "3818ea71-b2cb-470e-b926-5b062c7714de",
   "metadata": {},
   "outputs": [],
   "source": [
    "try:\n",
    "    with open(\"myfile.txt\", \"r\") as f:\n",
    "        content = f.read()\n",
    "    print(content)\n",
    "finally:\n",
    "    f.close()"
   ]
  },
  {
   "cell_type": "code",
   "execution_count": null,
   "id": "06634fd0-efbb-4203-b447-b3abd0adb487",
   "metadata": {},
   "outputs": [],
   "source": [
    "raise statement\n",
    "The raise statement is used to explicitly raise an exception. It can be used to generate a custom exception or to re-raise an exception that was caught earlier."
   ]
  },
  {
   "cell_type": "code",
   "execution_count": null,
   "id": "56849d18-c0dc-40a1-b08f-7fb28d592512",
   "metadata": {},
   "outputs": [],
   "source": [
    "raise ExceptionType(\"error message\")"
   ]
  },
  {
   "cell_type": "code",
   "execution_count": null,
   "id": "3766284d-b140-41e8-b682-17994b5b2458",
   "metadata": {},
   "outputs": [],
   "source": [
    "num = int(input(\"Enter a positive number: \"))\n",
    "if num"
   ]
  },
  {
   "cell_type": "code",
   "execution_count": null,
   "id": "554db249-bb50-4ef1-958c-12fffc9b21bd",
   "metadata": {},
   "outputs": [],
   "source": [
    "# Ans-5"
   ]
  },
  {
   "cell_type": "code",
   "execution_count": null,
   "id": "0287e858-d7c1-47cd-8a12-2b8deb54d73a",
   "metadata": {},
   "outputs": [],
   "source": [
    "In Python, custom exceptions are user-defined exceptions that allow you to define your own exception classes for handling errors and exceptional situations in your code. They provide a way to create more specific and meaningful error messages and can help you to write more robust and maintainable code.\n",
    "\n",
    "Custom exceptions can be useful when you need to handle errors that are specific to your application or when you want to create a new category of exceptions that doesn't exist in Python's built-in exceptions.\n",
    "\n",
    "Here's an example of how you might use a custom exception in Python:"
   ]
  },
  {
   "cell_type": "code",
   "execution_count": null,
   "id": "acdfd9a2-b04e-4146-92c8-c4bee6e3aa0b",
   "metadata": {},
   "outputs": [],
   "source": [
    "class InvalidInputError(Exception):\n",
    "    def __init__(self, message):\n",
    "        self.message = message\n",
    "\n",
    "    def __str__(self):\n",
    "        return f\"Invalid input: {self.message}\"\n",
    "\n",
    "def calculate_average(numbers):\n",
    "    if not numbers:\n",
    "        raise InvalidInputError(\"empty list of numbers\")\n",
    "    total = sum(numbers)\n",
    "    return total / len(numbers)"
   ]
  },
  {
   "cell_type": "code",
   "execution_count": null,
   "id": "105b5df1-a3d4-4710-91cc-78818a213112",
   "metadata": {},
   "outputs": [],
   "source": [
    "In this example, we define a custom exception called InvalidInputError that takes a message argument in its constructor. We also define a __str__ method to provide a human-readable string representation of the exception.\n",
    "\n",
    "The calculate_average function takes a list of numbers as input and raises the InvalidInputError exception if the list is empty. Otherwise, it calculates the average of the numbers and returns the result.\n",
    "\n",
    "By using a custom exception, we can provide a more informative error message to the user of our code, making it easier for them to understand and debug any issues that arise."
   ]
  },
  {
   "cell_type": "code",
   "execution_count": null,
   "id": "fc1432f3-455f-4153-8acb-c6f8e88aa3b1",
   "metadata": {},
   "outputs": [],
   "source": [
    "# Ans-6"
   ]
  },
  {
   "cell_type": "code",
   "execution_count": null,
   "id": "714b4dd5-707c-421c-962a-244169881ba1",
   "metadata": {},
   "outputs": [],
   "source": [
    " example of creating a custom exception class and handling an exception using it:"
   ]
  },
  {
   "cell_type": "code",
   "execution_count": null,
   "id": "70020356-96c6-43b5-ac33-d0ab0f0009d6",
   "metadata": {},
   "outputs": [],
   "source": [
    "class MyCustomException(Exception):\n",
    "    def __init__(self, message):\n",
    "        self.message = message\n",
    "\n",
    "    def __str__(self):\n",
    "        return f\"My custom exception occurred: {self.message}\"\n",
    "\n",
    "def divide_numbers(a, b):\n",
    "    if b == 0:\n",
    "        raise MyCustomException(\"Cannot divide by zero\")\n",
    "    return a / b\n",
    "\n",
    "try:\n",
    "    result = divide_numbers(10, 0)\n",
    "except MyCustomException as e:\n",
    "    print(e)"
   ]
  },
  {
   "cell_type": "code",
   "execution_count": null,
   "id": "a894364a-d159-45bd-b39c-b7eb1dd12330",
   "metadata": {},
   "outputs": [],
   "source": [
    "In this example, we define a custom exception class called MyCustomException that takes a message argument in its constructor. We also define a __str__ method to provide a human-readable string representation of the exception.\n",
    "\n",
    "The divide_numbers function takes two numbers as input and raises the MyCustomException exception if the second number is zero. Otherwise, it performs the division and returns the result.\n",
    "\n",
    "We then use a try/except block to handle the potential exception. If the MyCustomException exception is raised, we catch it and print out its message using the print statement inside the except block.\n",
    "\n",
    "This way, we can handle the custom exception in a meaningful way and provide a clear error message to the user."
   ]
  }
 ],
 "metadata": {
  "kernelspec": {
   "display_name": "Python 3 (ipykernel)",
   "language": "python",
   "name": "python3"
  },
  "language_info": {
   "codemirror_mode": {
    "name": "ipython",
    "version": 3
   },
   "file_extension": ".py",
   "mimetype": "text/x-python",
   "name": "python",
   "nbconvert_exporter": "python",
   "pygments_lexer": "ipython3",
   "version": "3.10.8"
  }
 },
 "nbformat": 4,
 "nbformat_minor": 5
}
